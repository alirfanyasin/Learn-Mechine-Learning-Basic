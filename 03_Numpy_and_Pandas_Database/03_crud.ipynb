{
 "cells": [
  {
   "cell_type": "markdown",
   "metadata": {},
   "source": [
    "# CRUD (Create, Read, Update, Delete) Data"
   ]
  },
  {
   "cell_type": "code",
   "execution_count": null,
   "metadata": {},
   "outputs": [],
   "source": [
    "import sqlite3\n",
    "\n",
    "sqlitedb = 'demo2.db'\n",
    "\n",
    "conn = sqlite3.connect(sqlitedb)\n",
    "conn"
   ]
  },
  {
   "cell_type": "code",
   "execution_count": null,
   "metadata": {},
   "outputs": [],
   "source": [
    "# Membuat tabel\n",
    "# CRUD : Create, Read, Update, Delete\n",
    "cursor = conn.cursor()\n",
    "\n",
    "# Create table\n",
    "sql = ''' create table if not exists employee(\n",
    "  id integer PRIMARY KEY AUTOINCREMENT,\n",
    "  full_name char(30) not null,\n",
    "  age int,\n",
    "  email char(30)\n",
    ")\n",
    "\n",
    "'''\n",
    "\n",
    "\n",
    "cursor.execute(sql)\n",
    "conn.commit()\n",
    "print(\"Created a table\")"
   ]
  },
  {
   "cell_type": "code",
   "execution_count": null,
   "metadata": {},
   "outputs": [],
   "source": [
    "# Inser data\n",
    "\n",
    "cursor.execute(\"insert into employee(full_name,age,email) values('employee 1', 20, 'employee1@gmail.com')\")\n",
    "cursor.execute(\"insert into employee(full_name,age,email) values('employee 2', 20, 'employee2@gmail.com')\")\n",
    "cursor.execute(\"insert into employee(full_name,age,email) values('employee 3', 20, 'employee3@gmail.com')\")\n",
    "cursor.execute(\"insert into employee(full_name,age,email) values('employee 4', 20, 'employee4@gmail.com')\")\n",
    "cursor.execute(\"insert into employee(full_name,age,email) values('employee 5', 20, 'employee5@gmail.com')\")\n",
    "conn.commit()\n",
    "print('Inserted Data')"
   ]
  },
  {
   "cell_type": "code",
   "execution_count": null,
   "metadata": {},
   "outputs": [],
   "source": [
    "params = ('employee 6', 40, 'employee6@gmail.com')\n",
    "cursor.execute(\"insert into employee(full_name,age,email) values(?,?,?)\", params)\n",
    "conn.commit()\n",
    "print('Inserted Data Successfuly')"
   ]
  },
  {
   "cell_type": "code",
   "execution_count": null,
   "metadata": {},
   "outputs": [],
   "source": [
    "# Read Data\n",
    "\n",
    "cursor.execute(\"select * from employee\")\n",
    "result = cursor.fetchall() # get all data\n",
    "conn.commit()\n",
    "result\n"
   ]
  },
  {
   "cell_type": "code",
   "execution_count": null,
   "metadata": {},
   "outputs": [],
   "source": [
    "# Filter data\n",
    "cursor.execute(\" select * from employee where age >= 40\")\n",
    "result = cursor.fetchall()\n",
    "conn.commit()\n",
    "result\n"
   ]
  },
  {
   "cell_type": "code",
   "execution_count": null,
   "metadata": {},
   "outputs": [],
   "source": [
    "# Update data\n",
    "cursor.execute(\"update employee set age = 14, full_name = 'employee 9', email = 'employee9@gmail.com' where id = 9\")\n",
    "conn.commit()\n",
    "print(\"Updated data successfully\")\n",
    "\n",
    "\n",
    "# read data\n",
    "cursor.execute(\"select * from employee\")\n",
    "result = cursor.fetchall()\n",
    "conn.commit()\n",
    "result"
   ]
  },
  {
   "cell_type": "code",
   "execution_count": null,
   "metadata": {},
   "outputs": [],
   "source": [
    "# Delete data\n",
    "\n",
    "cursor.execute(\"delete from employee where id = 6\")\n",
    "conn.commit()\n",
    "print('Deleted data successfully')\n",
    "\n",
    "\n",
    "# Read data\n",
    "cursor.execute(\"select * from employee\")\n",
    "result = cursor.fetchall()\n",
    "conn.commit()\n",
    "result"
   ]
  }
 ],
 "metadata": {
  "kernelspec": {
   "display_name": "Python 3",
   "language": "python",
   "name": "python3"
  },
  "language_info": {
   "codemirror_mode": {
    "name": "ipython",
    "version": 3
   },
   "file_extension": ".py",
   "mimetype": "text/x-python",
   "name": "python",
   "nbconvert_exporter": "python",
   "pygments_lexer": "ipython3",
   "version": "3.11.2"
  }
 },
 "nbformat": 4,
 "nbformat_minor": 2
}
