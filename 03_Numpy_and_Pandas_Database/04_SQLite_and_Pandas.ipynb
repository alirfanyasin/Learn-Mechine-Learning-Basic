{
 "cells": [
  {
   "cell_type": "markdown",
   "metadata": {},
   "source": [
    "# SQLite dan Pandas"
   ]
  },
  {
   "cell_type": "code",
   "execution_count": 13,
   "metadata": {},
   "outputs": [],
   "source": [
    "import pandas as pd\n",
    "import sqlite3"
   ]
  },
  {
   "cell_type": "code",
   "execution_count": 14,
   "metadata": {},
   "outputs": [
    {
     "data": {
      "text/plain": [
       "'2.2.2'"
      ]
     },
     "execution_count": 14,
     "metadata": {},
     "output_type": "execute_result"
    }
   ],
   "source": [
    "pd.__version__"
   ]
  },
  {
   "cell_type": "markdown",
   "metadata": {},
   "source": [
    "### SQLite Connection"
   ]
  },
  {
   "cell_type": "code",
   "execution_count": 15,
   "metadata": {},
   "outputs": [
    {
     "data": {
      "text/plain": [
       "<sqlite3.Connection at 0x1e968a6eb60>"
      ]
     },
     "execution_count": 15,
     "metadata": {},
     "output_type": "execute_result"
    }
   ],
   "source": [
    "sqlitedb = 'demo2.db'\n",
    "\n",
    "conn = sqlite3.connect(sqlitedb)\n",
    "cursor = conn.cursor()\n",
    "conn"
   ]
  },
  {
   "cell_type": "markdown",
   "metadata": {},
   "source": [
    "### Load SQLite"
   ]
  },
  {
   "cell_type": "code",
   "execution_count": 16,
   "metadata": {},
   "outputs": [
    {
     "data": {
      "text/html": [
       "<div>\n",
       "<style scoped>\n",
       "    .dataframe tbody tr th:only-of-type {\n",
       "        vertical-align: middle;\n",
       "    }\n",
       "\n",
       "    .dataframe tbody tr th {\n",
       "        vertical-align: top;\n",
       "    }\n",
       "\n",
       "    .dataframe thead th {\n",
       "        text-align: right;\n",
       "    }\n",
       "</style>\n",
       "<table border=\"1\" class=\"dataframe\">\n",
       "  <thead>\n",
       "    <tr style=\"text-align: right;\">\n",
       "      <th></th>\n",
       "      <th>id</th>\n",
       "      <th>full_name</th>\n",
       "      <th>age</th>\n",
       "      <th>email</th>\n",
       "    </tr>\n",
       "  </thead>\n",
       "  <tbody>\n",
       "    <tr>\n",
       "      <th>0</th>\n",
       "      <td>1</td>\n",
       "      <td>employee 1</td>\n",
       "      <td>20</td>\n",
       "      <td>employee1@gmail.com</td>\n",
       "    </tr>\n",
       "    <tr>\n",
       "      <th>1</th>\n",
       "      <td>2</td>\n",
       "      <td>employee 2</td>\n",
       "      <td>20</td>\n",
       "      <td>employee2@gmail.com</td>\n",
       "    </tr>\n",
       "    <tr>\n",
       "      <th>2</th>\n",
       "      <td>3</td>\n",
       "      <td>employee 3</td>\n",
       "      <td>20</td>\n",
       "      <td>employee3@gmail.com</td>\n",
       "    </tr>\n",
       "    <tr>\n",
       "      <th>3</th>\n",
       "      <td>4</td>\n",
       "      <td>employee 4</td>\n",
       "      <td>20</td>\n",
       "      <td>employee4@gmail.com</td>\n",
       "    </tr>\n",
       "    <tr>\n",
       "      <th>4</th>\n",
       "      <td>5</td>\n",
       "      <td>employee 5</td>\n",
       "      <td>20</td>\n",
       "      <td>employee5@gmail.com</td>\n",
       "    </tr>\n",
       "    <tr>\n",
       "      <th>5</th>\n",
       "      <td>7</td>\n",
       "      <td>employee 2</td>\n",
       "      <td>20</td>\n",
       "      <td>employee2@gmail.com</td>\n",
       "    </tr>\n",
       "    <tr>\n",
       "      <th>6</th>\n",
       "      <td>8</td>\n",
       "      <td>employee 3</td>\n",
       "      <td>20</td>\n",
       "      <td>employee3@gmail.com</td>\n",
       "    </tr>\n",
       "    <tr>\n",
       "      <th>7</th>\n",
       "      <td>9</td>\n",
       "      <td>employee 9</td>\n",
       "      <td>14</td>\n",
       "      <td>employee9@gmail.com</td>\n",
       "    </tr>\n",
       "    <tr>\n",
       "      <th>8</th>\n",
       "      <td>10</td>\n",
       "      <td>employee 5</td>\n",
       "      <td>20</td>\n",
       "      <td>employee5@gmail.com</td>\n",
       "    </tr>\n",
       "    <tr>\n",
       "      <th>9</th>\n",
       "      <td>11</td>\n",
       "      <td>employee 6</td>\n",
       "      <td>40</td>\n",
       "      <td>employee6@gmail.com</td>\n",
       "    </tr>\n",
       "  </tbody>\n",
       "</table>\n",
       "</div>"
      ],
      "text/plain": [
       "   id   full_name  age                email\n",
       "0   1  employee 1   20  employee1@gmail.com\n",
       "1   2  employee 2   20  employee2@gmail.com\n",
       "2   3  employee 3   20  employee3@gmail.com\n",
       "3   4  employee 4   20  employee4@gmail.com\n",
       "4   5  employee 5   20  employee5@gmail.com\n",
       "5   7  employee 2   20  employee2@gmail.com\n",
       "6   8  employee 3   20  employee3@gmail.com\n",
       "7   9  employee 9   14  employee9@gmail.com\n",
       "8  10  employee 5   20  employee5@gmail.com\n",
       "9  11  employee 6   40  employee6@gmail.com"
      ]
     },
     "execution_count": 16,
     "metadata": {},
     "output_type": "execute_result"
    }
   ],
   "source": [
    "df = pd.read_sql_query(\"select * from employee\", conn)\n",
    "df"
   ]
  },
  {
   "cell_type": "code",
   "execution_count": 17,
   "metadata": {},
   "outputs": [
    {
     "data": {
      "text/html": [
       "<div>\n",
       "<style scoped>\n",
       "    .dataframe tbody tr th:only-of-type {\n",
       "        vertical-align: middle;\n",
       "    }\n",
       "\n",
       "    .dataframe tbody tr th {\n",
       "        vertical-align: top;\n",
       "    }\n",
       "\n",
       "    .dataframe thead th {\n",
       "        text-align: right;\n",
       "    }\n",
       "</style>\n",
       "<table border=\"1\" class=\"dataframe\">\n",
       "  <thead>\n",
       "    <tr style=\"text-align: right;\">\n",
       "      <th></th>\n",
       "      <th>name</th>\n",
       "      <th>code</th>\n",
       "      <th>price</th>\n",
       "      <th>quantity</th>\n",
       "      <th>created</th>\n",
       "    </tr>\n",
       "  </thead>\n",
       "  <tbody>\n",
       "    <tr>\n",
       "      <th>0</th>\n",
       "      <td>Product A1</td>\n",
       "      <td>E01</td>\n",
       "      <td>2.1</td>\n",
       "      <td>5</td>\n",
       "      <td>2020-10-08 20:12:21</td>\n",
       "    </tr>\n",
       "    <tr>\n",
       "      <th>1</th>\n",
       "      <td>Product A2</td>\n",
       "      <td>D02</td>\n",
       "      <td>3.6</td>\n",
       "      <td>7</td>\n",
       "      <td>2020-08-06 18:05:59</td>\n",
       "    </tr>\n",
       "    <tr>\n",
       "      <th>2</th>\n",
       "      <td>Product A3</td>\n",
       "      <td>G05</td>\n",
       "      <td>3.5</td>\n",
       "      <td>8</td>\n",
       "      <td>2021-04-13 02:12:35</td>\n",
       "    </tr>\n",
       "  </tbody>\n",
       "</table>\n",
       "</div>"
      ],
      "text/plain": [
       "         name code  price  quantity              created\n",
       "0  Product A1  E01    2.1         5  2020-10-08 20:12:21\n",
       "1  Product A2  D02    3.6         7  2020-08-06 18:05:59\n",
       "2  Product A3  G05    3.5         8  2021-04-13 02:12:35"
      ]
     },
     "execution_count": 17,
     "metadata": {},
     "output_type": "execute_result"
    }
   ],
   "source": [
    "# Pandas dataframe to table\n",
    "\n",
    "product = {\n",
    "  'name' : ['Product A1', 'Product A2', 'Product A3'],\n",
    "  'code' : ['E01', 'D02', 'G05'],\n",
    "  'price' : [2.1, 3.6, 3.5],\n",
    "  'quantity' : [5,7,8],\n",
    "  'created' : ['2020-10-08 20:12:21', '2020-08-06 18:05:59', '2021-04-13 02:12:35']\n",
    "}\n",
    "\n",
    "dataFrame = pd.DataFrame(data=product)\n",
    "dataFrame\n",
    "\n"
   ]
  },
  {
   "cell_type": "code",
   "execution_count": 18,
   "metadata": {},
   "outputs": [
    {
     "name": "stdout",
     "output_type": "stream",
     "text": [
      "Success\n"
     ]
    }
   ],
   "source": [
    "# Save dataframe to SQLite table\n",
    "tableName = 'product'\n",
    "dataFrame.to_sql(tableName, con=conn, index=False, if_exists='append')\n",
    "print('Success')"
   ]
  },
  {
   "cell_type": "code",
   "execution_count": 24,
   "metadata": {},
   "outputs": [
    {
     "data": {
      "text/html": [
       "<div>\n",
       "<style scoped>\n",
       "    .dataframe tbody tr th:only-of-type {\n",
       "        vertical-align: middle;\n",
       "    }\n",
       "\n",
       "    .dataframe tbody tr th {\n",
       "        vertical-align: top;\n",
       "    }\n",
       "\n",
       "    .dataframe thead th {\n",
       "        text-align: right;\n",
       "    }\n",
       "</style>\n",
       "<table border=\"1\" class=\"dataframe\">\n",
       "  <thead>\n",
       "    <tr style=\"text-align: right;\">\n",
       "      <th></th>\n",
       "      <th>name</th>\n",
       "      <th>code</th>\n",
       "      <th>price</th>\n",
       "      <th>quantity</th>\n",
       "      <th>created</th>\n",
       "    </tr>\n",
       "  </thead>\n",
       "  <tbody>\n",
       "    <tr>\n",
       "      <th>0</th>\n",
       "      <td>Product A1</td>\n",
       "      <td>E01</td>\n",
       "      <td>2.1</td>\n",
       "      <td>5</td>\n",
       "      <td>2020-10-08 20:12:21</td>\n",
       "    </tr>\n",
       "    <tr>\n",
       "      <th>1</th>\n",
       "      <td>Product A2</td>\n",
       "      <td>D02</td>\n",
       "      <td>3.6</td>\n",
       "      <td>7</td>\n",
       "      <td>2020-08-06 18:05:59</td>\n",
       "    </tr>\n",
       "    <tr>\n",
       "      <th>2</th>\n",
       "      <td>Product A3</td>\n",
       "      <td>G05</td>\n",
       "      <td>3.5</td>\n",
       "      <td>8</td>\n",
       "      <td>2021-04-13 02:12:35</td>\n",
       "    </tr>\n",
       "    <tr>\n",
       "      <th>3</th>\n",
       "      <td>Product A1</td>\n",
       "      <td>E01</td>\n",
       "      <td>2.1</td>\n",
       "      <td>5</td>\n",
       "      <td>2020-10-08 20:12:21</td>\n",
       "    </tr>\n",
       "    <tr>\n",
       "      <th>4</th>\n",
       "      <td>Product A2</td>\n",
       "      <td>D02</td>\n",
       "      <td>3.6</td>\n",
       "      <td>7</td>\n",
       "      <td>2020-08-06 18:05:59</td>\n",
       "    </tr>\n",
       "    <tr>\n",
       "      <th>5</th>\n",
       "      <td>Product A3</td>\n",
       "      <td>G05</td>\n",
       "      <td>3.5</td>\n",
       "      <td>8</td>\n",
       "      <td>2021-04-13 02:12:35</td>\n",
       "    </tr>\n",
       "  </tbody>\n",
       "</table>\n",
       "</div>"
      ],
      "text/plain": [
       "         name code  price  quantity              created\n",
       "0  Product A1  E01    2.1         5  2020-10-08 20:12:21\n",
       "1  Product A2  D02    3.6         7  2020-08-06 18:05:59\n",
       "2  Product A3  G05    3.5         8  2021-04-13 02:12:35\n",
       "3  Product A1  E01    2.1         5  2020-10-08 20:12:21\n",
       "4  Product A2  D02    3.6         7  2020-08-06 18:05:59\n",
       "5  Product A3  G05    3.5         8  2021-04-13 02:12:35"
      ]
     },
     "execution_count": 24,
     "metadata": {},
     "output_type": "execute_result"
    }
   ],
   "source": [
    "df = pd.read_sql(\"SELECT * FROM product\",conn)\n",
    "df"
   ]
  }
 ],
 "metadata": {
  "kernelspec": {
   "display_name": "Python 3",
   "language": "python",
   "name": "python3"
  },
  "language_info": {
   "codemirror_mode": {
    "name": "ipython",
    "version": 3
   },
   "file_extension": ".py",
   "mimetype": "text/x-python",
   "name": "python",
   "nbconvert_exporter": "python",
   "pygments_lexer": "ipython3",
   "version": "3.11.2"
  }
 },
 "nbformat": 4,
 "nbformat_minor": 2
}
