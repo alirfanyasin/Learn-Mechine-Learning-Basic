{
 "cells": [
  {
   "cell_type": "markdown",
   "id": "54e1b877",
   "metadata": {},
   "source": [
    "# Bahasa Pemrograman Python\n",
    "\n",
    "Tujuannya untuk memberikan pengetahuan dasar pemrograman Python guna menunjang implementasi pengembangan aplikasi data science dan machine learning.\\\n",
    "Topik bahasan mencakup:\n",
    "* Deklarasi variabel\n",
    "* Komentar\n",
    "* Print - Menampilkan Data ke Terminal\n",
    "* Operator\n",
    "* Kondisional\n",
    "* Looping\n",
    "* break dan continue\n",
    "* Fungsi\n",
    "* Array\n",
    "* Class\n",
    "* Inheritance Class"
   ]
  },
  {
   "cell_type": "markdown",
   "id": "convertible-hotel",
   "metadata": {},
   "source": [
    "# Deklarasi Variabel "
   ]
  },
  {
   "cell_type": "code",
   "execution_count": 2,
   "id": "57f5e264-320a-44a2-b63c-f9733d9a1cdb",
   "metadata": {},
   "outputs": [
    {
     "name": "stdout",
     "output_type": "stream",
     "text": [
      "Python 3.8.8\n"
     ]
    }
   ],
   "source": [
    "!python --version"
   ]
  },
  {
   "cell_type": "code",
   "execution_count": 3,
   "id": "beginning-bobby",
   "metadata": {},
   "outputs": [],
   "source": [
    "bil1 = 10\n",
    "bil2 = 4.85\n",
    "kota = \"kota 55\"\n",
    "negara = 'negara 123'"
   ]
  },
  {
   "cell_type": "code",
   "execution_count": 4,
   "id": "introductory-violin",
   "metadata": {},
   "outputs": [
    {
     "data": {
      "text/plain": [
       "10"
      ]
     },
     "execution_count": 4,
     "metadata": {},
     "output_type": "execute_result"
    }
   ],
   "source": [
    "bil1"
   ]
  },
  {
   "cell_type": "code",
   "execution_count": 5,
   "id": "7a1f22c8",
   "metadata": {},
   "outputs": [
    {
     "data": {
      "text/plain": [
       "'kota 55'"
      ]
     },
     "execution_count": 5,
     "metadata": {},
     "output_type": "execute_result"
    }
   ],
   "source": [
    "kota"
   ]
  },
  {
   "cell_type": "code",
   "execution_count": 6,
   "id": "expressed-lawyer",
   "metadata": {},
   "outputs": [
    {
     "data": {
      "text/plain": [
       "4.85"
      ]
     },
     "execution_count": 6,
     "metadata": {},
     "output_type": "execute_result"
    }
   ],
   "source": [
    "bil1\n",
    "negara\n",
    "bil2"
   ]
  },
  {
   "cell_type": "code",
   "execution_count": 7,
   "id": "sharing-appendix",
   "metadata": {},
   "outputs": [
    {
     "name": "stdout",
     "output_type": "stream",
     "text": [
      "kota 55\n",
      "4.85\n"
     ]
    },
    {
     "data": {
      "text/plain": [
       "'negara 123'"
      ]
     },
     "execution_count": 7,
     "metadata": {},
     "output_type": "execute_result"
    }
   ],
   "source": [
    "print(kota)\n",
    "print(bil2)\n",
    "negara"
   ]
  },
  {
   "cell_type": "code",
   "execution_count": 8,
   "id": "incorporate-livestock",
   "metadata": {},
   "outputs": [
    {
     "name": "stdout",
     "output_type": "stream",
     "text": [
      "10\n"
     ]
    }
   ],
   "source": [
    "num = None\n",
    "num = 10\n",
    "print(num)"
   ]
  },
  {
   "cell_type": "code",
   "execution_count": 11,
   "id": "55447d29-529e-42ef-80e4-1c15c8e0f883",
   "metadata": {},
   "outputs": [
    {
     "data": {
      "text/plain": [
       "int"
      ]
     },
     "execution_count": 11,
     "metadata": {},
     "output_type": "execute_result"
    }
   ],
   "source": [
    "type(bil1)"
   ]
  },
  {
   "cell_type": "code",
   "execution_count": 12,
   "id": "2a8d8d3c-dfd0-4ede-89ef-ec84651fea4b",
   "metadata": {},
   "outputs": [
    {
     "data": {
      "text/plain": [
       "str"
      ]
     },
     "execution_count": 12,
     "metadata": {},
     "output_type": "execute_result"
    }
   ],
   "source": [
    "type(negara)"
   ]
  },
  {
   "cell_type": "code",
   "execution_count": 13,
   "id": "c5945fcd-06b4-4116-8a90-1b970c824845",
   "metadata": {},
   "outputs": [
    {
     "data": {
      "text/plain": [
       "NoneType"
      ]
     },
     "execution_count": 13,
     "metadata": {},
     "output_type": "execute_result"
    }
   ],
   "source": [
    "s = None\n",
    "type(s)"
   ]
  },
  {
   "cell_type": "markdown",
   "id": "e4042a9e",
   "metadata": {},
   "source": [
    "# Komentar\n",
    "\n",
    "Berguna untuk memberikan keterangan pada kode program"
   ]
  },
  {
   "cell_type": "code",
   "execution_count": 14,
   "id": "8733bd78",
   "metadata": {},
   "outputs": [],
   "source": [
    "a = 10\n",
    "b = \"kota\"\n",
    "c = 'negara'\n",
    "# ini komen\n",
    "# ini komen lagi\n",
    "d = 5.9"
   ]
  },
  {
   "cell_type": "markdown",
   "id": "e25a3250-cb3d-45cf-a664-5db867536ee2",
   "metadata": {},
   "source": [
    "Ini hanya catatan"
   ]
  },
  {
   "cell_type": "markdown",
   "id": "fd005830",
   "metadata": {},
   "source": [
    "# Print - Menampilkan Data ke Terminal"
   ]
  },
  {
   "cell_type": "code",
   "execution_count": 15,
   "id": "7dc1b814",
   "metadata": {},
   "outputs": [
    {
     "name": "stdout",
     "output_type": "stream",
     "text": [
      "10\n"
     ]
    }
   ],
   "source": [
    "a = 10\n",
    "print(a)"
   ]
  },
  {
   "cell_type": "code",
   "execution_count": 16,
   "id": "fdc1e709",
   "metadata": {},
   "outputs": [
    {
     "name": "stdout",
     "output_type": "stream",
     "text": [
      "halo python\n"
     ]
    }
   ],
   "source": [
    "b = \"halo python\"\n",
    "print(b)"
   ]
  },
  {
   "cell_type": "code",
   "execution_count": 17,
   "id": "fd96cacf",
   "metadata": {},
   "outputs": [
    {
     "name": "stdout",
     "output_type": "stream",
     "text": [
      "34.56\n"
     ]
    }
   ],
   "source": [
    "n = 34.56\n",
    "print(n)"
   ]
  },
  {
   "cell_type": "code",
   "execution_count": 18,
   "id": "a076d2e9",
   "metadata": {},
   "outputs": [
    {
     "name": "stdout",
     "output_type": "stream",
     "text": [
      "10 halo python 34.56\n"
     ]
    }
   ],
   "source": [
    "print(a, b, n)"
   ]
  },
  {
   "cell_type": "code",
   "execution_count": 19,
   "id": "79daa68c",
   "metadata": {},
   "outputs": [
    {
     "name": "stdout",
     "output_type": "stream",
     "text": [
      "Nilai a: 10\n"
     ]
    }
   ],
   "source": [
    "print(\"Nilai a:\", a)"
   ]
  },
  {
   "cell_type": "code",
   "execution_count": 20,
   "id": "5b4e5b94",
   "metadata": {},
   "outputs": [
    {
     "name": "stdout",
     "output_type": "stream",
     "text": [
      "10\n",
      "halo python\n",
      "34.56\n"
     ]
    }
   ],
   "source": [
    "print(a)\n",
    "print(b)\n",
    "print(n)"
   ]
  },
  {
   "cell_type": "code",
   "execution_count": 21,
   "id": "6e8a4019",
   "metadata": {},
   "outputs": [
    {
     "name": "stdout",
     "output_type": "stream",
     "text": [
      "10halo python34.56\n",
      "halo python"
     ]
    }
   ],
   "source": [
    "print(a,end=\"\")\n",
    "print(b,end=\"\")\n",
    "print(n)\n",
    "print(b,end=\"\")"
   ]
  },
  {
   "cell_type": "code",
   "execution_count": 22,
   "id": "6c21f7e0",
   "metadata": {},
   "outputs": [
    {
     "name": "stdout",
     "output_type": "stream",
     "text": [
      "5.3453972\n"
     ]
    }
   ],
   "source": [
    "k = 5.3453972\n",
    "print(k)"
   ]
  },
  {
   "cell_type": "code",
   "execution_count": 25,
   "id": "2a3ce768",
   "metadata": {},
   "outputs": [
    {
     "name": "stdout",
     "output_type": "stream",
     "text": [
      "5.3454\n"
     ]
    }
   ],
   "source": [
    "kdata = \"{:.4f}\".format(k)\n",
    "print(kdata)"
   ]
  },
  {
   "cell_type": "markdown",
   "id": "corporate-chick",
   "metadata": {},
   "source": [
    "# Operator\n",
    "\n",
    "Bahasan:\n",
    "* Operator Aritmetika\n",
    "* Operator Pembanding\n",
    "* Operator Logical\n",
    "\n",
    "## Operator aritmetika\n",
    "* tambah +\n",
    "* kurang -\n",
    "* bagi /\n",
    "* kali *\n",
    "* sisa bagi (modulo) %\n"
   ]
  },
  {
   "cell_type": "code",
   "execution_count": 26,
   "id": "accessible-century",
   "metadata": {},
   "outputs": [
    {
     "name": "stdout",
     "output_type": "stream",
     "text": [
      "15\n",
      "5\n",
      "50\n",
      "2.0\n",
      "0\n"
     ]
    }
   ],
   "source": [
    "a = 10\n",
    "b = 5\n",
    "\n",
    "print( a + b )\n",
    "print( a - b )\n",
    "print( a * b )\n",
    "print( a / b )\n",
    "print( a % b )\n"
   ]
  },
  {
   "cell_type": "code",
   "execution_count": 27,
   "id": "collective-advertiser",
   "metadata": {},
   "outputs": [
    {
     "name": "stdout",
     "output_type": "stream",
     "text": [
      "Hasilnya:  8.0\n"
     ]
    }
   ],
   "source": [
    "import math\n",
    "\n",
    "a = math.pow(2, 3)\n",
    "print(\"Hasilnya: \", a)"
   ]
  },
  {
   "cell_type": "code",
   "execution_count": 28,
   "id": "intellectual-basic",
   "metadata": {},
   "outputs": [
    {
     "data": {
      "text/plain": [
       "8.0"
      ]
     },
     "execution_count": 28,
     "metadata": {},
     "output_type": "execute_result"
    }
   ],
   "source": [
    "b = math.pow(2, 3)\n",
    "b"
   ]
  },
  {
   "cell_type": "markdown",
   "id": "531b48b6",
   "metadata": {},
   "source": [
    "## Operator pembanding\n",
    "\n",
    "==, >, >=, <, <=, !="
   ]
  },
  {
   "cell_type": "code",
   "execution_count": 29,
   "id": "injured-willow",
   "metadata": {},
   "outputs": [
    {
     "name": "stdout",
     "output_type": "stream",
     "text": [
      "False\n",
      "True\n",
      "True\n",
      "False\n",
      "False\n",
      "True\n"
     ]
    }
   ],
   "source": [
    "a = 10 \n",
    "b = 5\n",
    "\n",
    "print( a == b )\n",
    "print( a > b )\n",
    "print( a >= b )\n",
    "print( a < b )\n",
    "print( a <= b )\n",
    "print( a != b )"
   ]
  },
  {
   "cell_type": "markdown",
   "id": "287af676",
   "metadata": {},
   "source": [
    "## Operator logical\n",
    "\n",
    "and, or, not"
   ]
  },
  {
   "cell_type": "code",
   "execution_count": 30,
   "id": "comfortable-upset",
   "metadata": {},
   "outputs": [
    {
     "name": "stdout",
     "output_type": "stream",
     "text": [
      "False\n",
      "True\n",
      "False\n"
     ]
    }
   ],
   "source": [
    "a = 10\n",
    "b = 5\n",
    "\n",
    "print( (a == b) and ( a > b) )\n",
    "print( (a == b) or ( a > b) )\n",
    "print( not (a > b) )"
   ]
  },
  {
   "cell_type": "markdown",
   "id": "incorporated-injection",
   "metadata": {},
   "source": [
    "# Kondisional"
   ]
  },
  {
   "cell_type": "code",
   "execution_count": 31,
   "id": "miniature-concrete",
   "metadata": {},
   "outputs": [
    {
     "name": "stdout",
     "output_type": "stream",
     "text": [
      "a>5\n"
     ]
    }
   ],
   "source": [
    "a = 10\n",
    "\n",
    "if a > 5:\n",
    "    print(\"a>5\")\n",
    "else:\n",
    "    print(\"not a>5\")\n",
    "    "
   ]
  },
  {
   "cell_type": "code",
   "execution_count": 33,
   "id": "65f8ce2f-61ef-4781-af22-1c66930f883d",
   "metadata": {},
   "outputs": [
    {
     "name": "stdout",
     "output_type": "stream",
     "text": [
      "a>8\n"
     ]
    }
   ],
   "source": [
    "if a > 8:\n",
    "    print(\"a>8\")"
   ]
  },
  {
   "cell_type": "code",
   "execution_count": null,
   "id": "alternative-purse",
   "metadata": {},
   "outputs": [],
   "source": [
    "# nested if - kondisional didalam kondisional\n",
    "a = 10\n",
    "\n",
    "if a > 5:\n",
    "    print(\"a>5\")\n",
    "    if a > 8:\n",
    "        print(\"a>8\")\n",
    "else:\n",
    "    print(\"not a>5\")"
   ]
  },
  {
   "cell_type": "code",
   "execution_count": 34,
   "id": "sticky-municipality",
   "metadata": {},
   "outputs": [
    {
     "name": "stdout",
     "output_type": "stream",
     "text": [
      "a>5\n"
     ]
    }
   ],
   "source": [
    "a = 10\n",
    "\n",
    "if a > 5:\n",
    "    print(\"a>5\")\n",
    "elif a < 3:\n",
    "    print(\"a<3\")\n",
    "else:\n",
    "    print(\"not a<3 a>5\")"
   ]
  },
  {
   "cell_type": "markdown",
   "id": "criminal-sequence",
   "metadata": {},
   "source": [
    "# Looping\n",
    "## for"
   ]
  },
  {
   "cell_type": "code",
   "execution_count": 35,
   "id": "adjustable-dutch",
   "metadata": {},
   "outputs": [
    {
     "name": "stdout",
     "output_type": "stream",
     "text": [
      "1\n",
      "2\n",
      "3\n",
      "4\n",
      "========================\n",
      "nilai i:  1  nilai j:  1\n",
      "nilai i:  1  nilai j:  2\n",
      "nilai i:  1  nilai j:  3\n",
      "nilai i:  2  nilai j:  1\n",
      "nilai i:  2  nilai j:  2\n",
      "nilai i:  2  nilai j:  3\n"
     ]
    }
   ],
   "source": [
    "# for\n",
    "for i in range(1,5):\n",
    "    print(i)\n",
    "\n",
    "print(\"========================\")\n",
    "for i in range(1, 3):\n",
    "    for j in range(1, 4):\n",
    "        print(\"nilai i: \", i, \" nilai j: \", j)\n",
    "    "
   ]
  },
  {
   "cell_type": "code",
   "execution_count": 36,
   "id": "c59ff84c-9051-4fe8-8421-6e6c63c10d41",
   "metadata": {},
   "outputs": [
    {
     "data": {
      "text/plain": [
       "range(1, 7)"
      ]
     },
     "execution_count": 36,
     "metadata": {},
     "output_type": "execute_result"
    }
   ],
   "source": [
    "range(1,7)"
   ]
  },
  {
   "cell_type": "markdown",
   "id": "ea04fc17",
   "metadata": {},
   "source": [
    "## while"
   ]
  },
  {
   "cell_type": "code",
   "execution_count": 37,
   "id": "accessible-function",
   "metadata": {},
   "outputs": [
    {
     "name": "stdout",
     "output_type": "stream",
     "text": [
      "0\n",
      "1\n",
      "2\n",
      "3\n",
      "4\n"
     ]
    }
   ],
   "source": [
    "n = 0\n",
    "while n < 5:\n",
    "    print(n)\n",
    "    n = n + 1"
   ]
  },
  {
   "cell_type": "markdown",
   "id": "superior-street",
   "metadata": {},
   "source": [
    "# break dan continue\n",
    "\n",
    "**break** digunakan untuk berhenti dari proses looping. \n",
    "\n",
    "**continue** digunakan untuk 'bypass' dari suatu proses didalam looping"
   ]
  },
  {
   "cell_type": "code",
   "execution_count": 38,
   "id": "warming-cement",
   "metadata": {},
   "outputs": [
    {
     "name": "stdout",
     "output_type": "stream",
     "text": [
      "1\n",
      "2\n",
      "3\n",
      "4\n",
      "6\n"
     ]
    }
   ],
   "source": [
    "for i in range(1,10):\n",
    "    if i == 5:\n",
    "        continue\n",
    "    if i == 7:\n",
    "        break\n",
    "    print(i)\n"
   ]
  },
  {
   "cell_type": "markdown",
   "id": "worse-collectible",
   "metadata": {},
   "source": [
    "# Fungsi"
   ]
  },
  {
   "cell_type": "code",
   "execution_count": 39,
   "id": "incoming-stewart",
   "metadata": {},
   "outputs": [
    {
     "name": "stdout",
     "output_type": "stream",
     "text": [
      "hello\n",
      "hello\n",
      "hello\n"
     ]
    }
   ],
   "source": [
    "def hello():    \n",
    "    print(\"hello\")\n",
    "    print(\"hello\")\n",
    "    print(\"hello\")\n",
    "\n",
    "hello()\n",
    "    "
   ]
  },
  {
   "cell_type": "code",
   "execution_count": 40,
   "id": "clinical-narrative",
   "metadata": {},
   "outputs": [
    {
     "name": "stdout",
     "output_type": "stream",
     "text": [
      "nilai h:  16\n"
     ]
    }
   ],
   "source": [
    "# fungsi dengan input parameter dan mengembalikan satu nilai\n",
    "def jumlah(bil1, bil2):\n",
    "    hasil = bil1 + bil2\n",
    "    \n",
    "    return hasil\n",
    "\n",
    "\n",
    "h = jumlah(10, 6)\n",
    "print(\"nilai h: \", h)\n"
   ]
  },
  {
   "cell_type": "code",
   "execution_count": 41,
   "id": "nearby-republican",
   "metadata": {},
   "outputs": [
    {
     "name": "stdout",
     "output_type": "stream",
     "text": [
      "nilai a:  16 nilai b:  4 nilai c:  60\n",
      "nilai b:  2\n",
      "nilai c:  72\n"
     ]
    }
   ],
   "source": [
    "# fungsi dengan input parameter dan mengembalikan banyak nilai\n",
    "def hitung(bil1, bil2):\n",
    "    return bil1+bil2, bil1 - bil2, bil1 * bil2\n",
    "\n",
    "a, b, c = hitung(10, 6)\n",
    "print(\"nilai a: \", a, \"nilai b: \", b, \"nilai c: \", c)\n",
    "_, b, _ = hitung(5, 3)\n",
    "print(\"nilai b: \", b)\n",
    "_, _, c = hitung(8, 9)\n",
    "print(\"nilai c: \", c)"
   ]
  },
  {
   "cell_type": "markdown",
   "id": "guided-foundation",
   "metadata": {},
   "source": [
    "# Array\n",
    "Ada tiga array didalam Python\n",
    "* list\n",
    "* tuple\n",
    "* dictionary"
   ]
  },
  {
   "cell_type": "markdown",
   "id": "1ff47227",
   "metadata": {},
   "source": [
    "## List"
   ]
  },
  {
   "cell_type": "code",
   "execution_count": 42,
   "id": "protecting-consistency",
   "metadata": {},
   "outputs": [
    {
     "name": "stdout",
     "output_type": "stream",
     "text": [
      "[2, 4, 6, 8, 10]\n",
      "['aaa', 'bbb', 'ccc']\n",
      "[2, 5, 'aaa', 4, 'bbbb']\n",
      "2\n",
      "4\n",
      "6\n",
      "8\n",
      "10\n",
      "6\n",
      "[2, 100, 6, 8, 10]\n",
      "[2, 100, 6, 8, 10, 99]\n",
      "panjang array:  6\n",
      "[2, 100, 6, 10, 99]\n",
      "[2, 6, 10, 99]\n"
     ]
    }
   ],
   "source": [
    "# deklarasi\n",
    "numbers = [2,4,6,8,10]\n",
    "kota = [\"aaa\", \"bbb\", \"ccc\"]\n",
    "k = [2,5,\"aaa\", 4, \"bbbb\"]\n",
    "\n",
    "print(numbers)\n",
    "print(kota)\n",
    "print(k)\n",
    "\n",
    "# iterasi dan tampilkan\n",
    "for number in numbers:\n",
    "    print(number)\n",
    "\n",
    "print( numbers[2] )\n",
    "numbers[1] = 100 # edit\n",
    "print(numbers)\n",
    "\n",
    "# menambah data\n",
    "numbers.append(99)\n",
    "print(numbers)\n",
    "print(\"panjang array: \", len(numbers) )\n",
    "\n",
    "# menghapus data\n",
    "# dengan nilai\n",
    "numbers.remove(8)\n",
    "print(numbers)\n",
    "\n",
    "# dengan indek\n",
    "del numbers[1]\n",
    "print(numbers)"
   ]
  },
  {
   "cell_type": "code",
   "execution_count": 43,
   "id": "retained-entertainment",
   "metadata": {},
   "outputs": [
    {
     "name": "stdout",
     "output_type": "stream",
     "text": [
      "[2, 6, 10, 99]\n",
      "[2, 6, 101, 10, 99]\n"
     ]
    }
   ],
   "source": [
    "print(numbers)\n",
    "numbers.insert(2, 101)\n",
    "print(numbers)"
   ]
  },
  {
   "cell_type": "markdown",
   "id": "af155de9",
   "metadata": {},
   "source": [
    "## Tuple"
   ]
  },
  {
   "cell_type": "code",
   "execution_count": 45,
   "id": "fifteen-monitoring",
   "metadata": {},
   "outputs": [
    {
     "name": "stdout",
     "output_type": "stream",
     "text": [
      "(3, 5, 7)\n",
      "3\n",
      "3\n",
      "5\n",
      "7\n",
      "---------------\n",
      "7\n"
     ]
    },
    {
     "ename": "TypeError",
     "evalue": "'tuple' object does not support item assignment",
     "output_type": "error",
     "traceback": [
      "\u001b[1;31m---------------------------------------------------------------------------\u001b[0m",
      "\u001b[1;31mTypeError\u001b[0m                                 Traceback (most recent call last)",
      "\u001b[1;32m<ipython-input-45-c7048f3709ad>\u001b[0m in \u001b[0;36m<module>\u001b[1;34m\u001b[0m\n\u001b[0;32m     12\u001b[0m \u001b[0mprint\u001b[0m\u001b[1;33m(\u001b[0m\u001b[1;34m\"---------------\"\u001b[0m\u001b[1;33m)\u001b[0m\u001b[1;33m\u001b[0m\u001b[1;33m\u001b[0m\u001b[0m\n\u001b[0;32m     13\u001b[0m \u001b[0mprint\u001b[0m\u001b[1;33m(\u001b[0m \u001b[0ma\u001b[0m\u001b[1;33m[\u001b[0m\u001b[1;36m2\u001b[0m\u001b[1;33m]\u001b[0m \u001b[1;33m)\u001b[0m\u001b[1;33m\u001b[0m\u001b[1;33m\u001b[0m\u001b[0m\n\u001b[1;32m---> 14\u001b[1;33m \u001b[0ma\u001b[0m\u001b[1;33m[\u001b[0m\u001b[1;36m2\u001b[0m\u001b[1;33m]\u001b[0m \u001b[1;33m=\u001b[0m \u001b[1;36m100\u001b[0m  \u001b[1;31m# error\u001b[0m\u001b[1;33m\u001b[0m\u001b[1;33m\u001b[0m\u001b[0m\n\u001b[0m",
      "\u001b[1;31mTypeError\u001b[0m: 'tuple' object does not support item assignment"
     ]
    }
   ],
   "source": [
    "# tuple - read-only array\n",
    "a = (3,5,7)\n",
    "\n",
    "print(a)\n",
    "print( len(a) )\n",
    "\n",
    "\n",
    "# iterasi\n",
    "for number in a:\n",
    "    print(number)\n",
    "\n",
    "print(\"---------------\")\n",
    "print( a[2] )\n",
    "# a[2] = 100  # error"
   ]
  },
  {
   "cell_type": "markdown",
   "id": "cda425b6",
   "metadata": {},
   "source": [
    "## Dictionay - key : value"
   ]
  },
  {
   "cell_type": "code",
   "execution_count": 46,
   "id": "herbal-mount",
   "metadata": {},
   "outputs": [
    {
     "name": "stdout",
     "output_type": "stream",
     "text": [
      "{2: 'aaa', 3: 'bbb', 100: 'cccc'}\n",
      "{'a': 100, 'b': 101, 'c': 102}\n",
      "2 ------> aaa\n",
      "3 ------> bbb\n",
      "100 ------> cccc\n",
      "cccc\n",
      "{2: 'aaa', 3: 'bbb', 100: 'dddd'}\n",
      "{2: 'aaa', 3: 'bbb', 100: 'dddd', 99: 'eeee'}\n",
      "{2: 'aaa', 100: 'dddd', 99: 'eeee'}\n"
     ]
    }
   ],
   "source": [
    "a = {2:\"aaa\", 3:\"bbb\", 100:\"cccc\"}\n",
    "b = {\"a\": 100, \"b\": 101, \"c\": 102}\n",
    "\n",
    "print(a)\n",
    "print(b)\n",
    "\n",
    "# iterasi\n",
    "for key, value in a.items():\n",
    "    print(key,\"------>\", value)\n",
    "    \n",
    "print( a[100] )\n",
    "a[100] = \"dddd\"\n",
    "print(a)\n",
    "\n",
    "# add\n",
    "a.setdefault(99, \"eeee\")\n",
    "print(a)\n",
    "\n",
    "# delete : del aaa[key]\n",
    "del a[3]\n",
    "print(a)    "
   ]
  },
  {
   "cell_type": "markdown",
   "id": "checked-environment",
   "metadata": {},
   "source": [
    "# Class"
   ]
  },
  {
   "cell_type": "code",
   "execution_count": 47,
   "id": "cutting-blogger",
   "metadata": {},
   "outputs": [
    {
     "name": "stdout",
     "output_type": "stream",
     "text": [
      "konstruktor dipanggil\n",
      "hello,  aaaa .. id:  8\n",
      "konstruktor dipanggil\n",
      "hello,  bbb .. id:  9\n",
      "diskonstruktor dipanggil\n"
     ]
    }
   ],
   "source": [
    "class Kota:\n",
    "    # variables\n",
    "    id = 0\n",
    "    nama = \"\"\n",
    "    \n",
    "    # kontstruktor\n",
    "    def __init__(self):\n",
    "        print(\"konstruktor dipanggil\")\n",
    "    \n",
    "    # diskonstruktor\n",
    "    def __del__(self):\n",
    "        print(\"diskonstruktor dipanggil\")\n",
    "    \n",
    "    # fungsi\n",
    "    def say_hello(self):\n",
    "        print(\"hello, \", self.nama, \".. id: \", self.id)\n",
    "        \n",
    "# instance\n",
    "a = Kota()\n",
    "a.nama = \"aaaa\"\n",
    "a.id = 8\n",
    "\n",
    "a.say_hello()\n",
    "\n",
    "def test():\n",
    "    b = Kota()\n",
    "    b.nama = \"bbb\"\n",
    "    b.id = 9\n",
    "\n",
    "    b.say_hello()\n",
    "    \n",
    "test()"
   ]
  },
  {
   "cell_type": "markdown",
   "id": "42ac8892",
   "metadata": {},
   "source": [
    "## Inheritance"
   ]
  },
  {
   "cell_type": "code",
   "execution_count": 48,
   "id": "535bc4cf",
   "metadata": {},
   "outputs": [
    {
     "name": "stdout",
     "output_type": "stream",
     "text": [
      "call __init__ from shape class\n",
      "diskonstruktor dipanggil\n",
      "calling foo() from shape class\n",
      "call __init__ from circle class\n",
      "calling foo() from shape class\n",
      "area: 78.53981633974483\n",
      "call __init__ from rectangle class\n",
      "calling foo() from shape class\n",
      "area: 6\n"
     ]
    }
   ],
   "source": [
    "import math\n",
    "\n",
    "\n",
    "class shape:\n",
    "    def __init__(self):\n",
    "        print('call __init__ from shape class')\n",
    "\n",
    "    def foo(self):\n",
    "        print('calling foo() from shape class')\n",
    "\n",
    "\n",
    "class circle(shape):\n",
    "    def __init__(self, r):\n",
    "        print('call __init__ from circle class')\n",
    "        self.r = r\n",
    "\n",
    "    def calculate_area_circle(self):\n",
    "        return math.pi * self.r * self.r\n",
    "\n",
    "\n",
    "class rectangle(shape):\n",
    "    def __init__(self, l, w):\n",
    "        print('call __init__ from rectangle class')\n",
    "        self.l = l\n",
    "        self.w = w\n",
    "\n",
    "    def calculate_area_rectangle(self):\n",
    "        return self.l * self.w\n",
    "\n",
    "\n",
    "a = shape()\n",
    "a.foo()\n",
    "\n",
    "b = circle(5)\n",
    "b.foo()\n",
    "area = b.calculate_area_circle()\n",
    "print('area:', area)\n",
    "\n",
    "c = rectangle(2, 3)\n",
    "c.foo()\n",
    "area = c.calculate_area_rectangle()\n",
    "print('area:', area)"
   ]
  },
  {
   "cell_type": "code",
   "execution_count": null,
   "id": "2d4b0e03",
   "metadata": {},
   "outputs": [],
   "source": []
  }
 ],
 "metadata": {
  "kernelspec": {
   "display_name": "Python 3",
   "language": "python",
   "name": "python3"
  },
  "language_info": {
   "codemirror_mode": {
    "name": "ipython",
    "version": 3
   },
   "file_extension": ".py",
   "mimetype": "text/x-python",
   "name": "python",
   "nbconvert_exporter": "python",
   "pygments_lexer": "ipython3",
   "version": "3.8.8"
  }
 },
 "nbformat": 4,
 "nbformat_minor": 5
}
