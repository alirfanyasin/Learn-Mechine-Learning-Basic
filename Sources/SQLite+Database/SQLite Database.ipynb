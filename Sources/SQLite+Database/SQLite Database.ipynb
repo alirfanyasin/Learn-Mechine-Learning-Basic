{
 "cells": [
  {
   "cell_type": "markdown",
   "metadata": {},
   "source": [
    "# Demo SQLite\n",
    "Pada bagian ini kita belajar bagaimana memanipulasi data pada SQLite.\n",
    "\n",
    "Topik yang dibahas mencakup:\n",
    "* CRUD operations\n",
    "* Table to Dataframe"
   ]
  },
  {
   "cell_type": "markdown",
   "metadata": {},
   "source": [
    "## SQLite Driver"
   ]
  },
  {
   "cell_type": "code",
   "execution_count": 1,
   "metadata": {},
   "outputs": [
    {
     "data": {
      "text/plain": [
       "'3.34.0'"
      ]
     },
     "execution_count": 1,
     "metadata": {},
     "output_type": "execute_result"
    }
   ],
   "source": [
    "import sqlite3\n",
    "sqlite3.sqlite_version"
   ]
  },
  {
   "cell_type": "markdown",
   "metadata": {},
   "source": [
    "## Memilih Jenis Model SQLite"
   ]
  },
  {
   "cell_type": "code",
   "execution_count": 2,
   "metadata": {},
   "outputs": [
    {
     "data": {
      "text/plain": [
       "<sqlite3.Connection at 0x1743103d6c0>"
      ]
     },
     "execution_count": 2,
     "metadata": {},
     "output_type": "execute_result"
    }
   ],
   "source": [
    "# file\n",
    "import sqlite3\n",
    "\n",
    "sqlitedb ='demo.db'\n",
    "# connect db\n",
    "conn = sqlite3.connect(sqlitedb) \n",
    "conn"
   ]
  },
  {
   "cell_type": "code",
   "execution_count": 3,
   "metadata": {},
   "outputs": [],
   "source": [
    "conn.close()"
   ]
  },
  {
   "cell_type": "code",
   "execution_count": 6,
   "metadata": {},
   "outputs": [
    {
     "data": {
      "text/plain": [
       "<sqlite3.Connection at 0x1743103da80>"
      ]
     },
     "execution_count": 6,
     "metadata": {},
     "output_type": "execute_result"
    }
   ],
   "source": [
    "# in-memory database\n",
    "import sqlite3\n",
    "\n",
    "sqlitedb =':memory:'\n",
    "# connect db\n",
    "conn = sqlite3.connect(sqlitedb) \n",
    "conn"
   ]
  },
  {
   "cell_type": "code",
   "execution_count": 5,
   "metadata": {},
   "outputs": [],
   "source": [
    "conn.close()"
   ]
  },
  {
   "cell_type": "markdown",
   "metadata": {},
   "source": [
    "## Membuat Tabel"
   ]
  },
  {
   "cell_type": "code",
   "execution_count": 8,
   "metadata": {},
   "outputs": [],
   "source": [
    "# CRUD : Create, Read, Update, Delete\n",
    "cursor = conn.cursor()"
   ]
  },
  {
   "cell_type": "code",
   "execution_count": 9,
   "metadata": {},
   "outputs": [
    {
     "name": "stdout",
     "output_type": "stream",
     "text": [
      "created a table\n"
     ]
    }
   ],
   "source": [
    "# create a table\n",
    "sql = ''' create table if not exists employee(\n",
    "  id integer PRIMARY KEY AUTOINCREMENT,\n",
    "  full_name char(30) not null,\n",
    "  age int,\n",
    "  email char(30)\n",
    ")'''\n",
    "\n",
    "cursor.execute(sql)\n",
    "conn.commit() # commit\n",
    "print('created a table')"
   ]
  },
  {
   "cell_type": "markdown",
   "metadata": {},
   "source": [
    "## Memasukkan Data"
   ]
  },
  {
   "cell_type": "code",
   "execution_count": 10,
   "metadata": {},
   "outputs": [
    {
     "name": "stdout",
     "output_type": "stream",
     "text": [
      "inserted data\n"
     ]
    }
   ],
   "source": [
    "# create data\n",
    "\n",
    "cursor.execute(\" insert into employee(full_name,age,email) values('employee 1',20,'employee1@email.com')  \")\n",
    "cursor.execute(\" insert into employee(full_name,age,email) values('employee 2',25,'employee2@email.com')  \")\n",
    "cursor.execute(\" insert into employee(full_name,age,email) values('employee 3',27,'employee3@email.com')  \")\n",
    "cursor.execute(\" insert into employee(full_name,age,email) values('employee 4',28,'employee4@email.com')  \")\n",
    "cursor.execute(\" insert into employee(full_name,age,email) values('employee 5',22,'employee5@email.com')  \")\n",
    "conn.commit() # commit\n",
    "print('inserted data')"
   ]
  },
  {
   "cell_type": "code",
   "execution_count": 11,
   "metadata": {},
   "outputs": [
    {
     "name": "stdout",
     "output_type": "stream",
     "text": [
      "inserted data\n"
     ]
    }
   ],
   "source": [
    "params = ('employee 6', 30, 'employee6@email.com')\n",
    "cursor.execute(\" insert into employee(full_name,age,email) values(?, ?, ?)\", params)\n",
    "conn.commit() # commit\n",
    "print('inserted data')"
   ]
  },
  {
   "cell_type": "markdown",
   "metadata": {},
   "source": [
    "## Membaca Data"
   ]
  },
  {
   "cell_type": "code",
   "execution_count": 12,
   "metadata": {},
   "outputs": [
    {
     "data": {
      "text/plain": [
       "[(1, 'employee 1', 20, 'employee1@email.com'),\n",
       " (2, 'employee 2', 25, 'employee2@email.com'),\n",
       " (3, 'employee 3', 27, 'employee3@email.com'),\n",
       " (4, 'employee 4', 28, 'employee4@email.com'),\n",
       " (5, 'employee 5', 22, 'employee5@email.com'),\n",
       " (6, 'employee 6', 30, 'employee6@email.com')]"
      ]
     },
     "execution_count": 12,
     "metadata": {},
     "output_type": "execute_result"
    }
   ],
   "source": [
    "# read data\n",
    "cursor.execute(\" select * from employee \")\n",
    "result = cursor.fetchall() # get all\n",
    "conn.commit()\n",
    "result"
   ]
  },
  {
   "cell_type": "code",
   "execution_count": 13,
   "metadata": {},
   "outputs": [
    {
     "data": {
      "text/plain": [
       "(1, 'employee 1', 20, 'employee1@email.com')"
      ]
     },
     "execution_count": 13,
     "metadata": {},
     "output_type": "execute_result"
    }
   ],
   "source": [
    "# read data\n",
    "cursor.execute(\" select * from employee \")\n",
    "result = cursor.fetchone() # get one data\n",
    "conn.commit()\n",
    "result"
   ]
  },
  {
   "cell_type": "markdown",
   "metadata": {},
   "source": [
    "## Filter Data"
   ]
  },
  {
   "cell_type": "code",
   "execution_count": 14,
   "metadata": {},
   "outputs": [
    {
     "data": {
      "text/plain": [
       "[(3, 'employee 3', 27, 'employee3@email.com'),\n",
       " (4, 'employee 4', 28, 'employee4@email.com'),\n",
       " (6, 'employee 6', 30, 'employee6@email.com')]"
      ]
     },
     "execution_count": 14,
     "metadata": {},
     "output_type": "execute_result"
    }
   ],
   "source": [
    "# read data\n",
    "cursor.execute(\" select * from employee where age > 25 \")\n",
    "result = cursor.fetchall() # get all\n",
    "conn.commit()\n",
    "result"
   ]
  },
  {
   "cell_type": "code",
   "execution_count": 15,
   "metadata": {},
   "outputs": [
    {
     "data": {
      "text/plain": [
       "[(3, 'employee 3', 27, 'employee3@email.com'),\n",
       " (4, 'employee 4', 28, 'employee4@email.com'),\n",
       " (6, 'employee 6', 30, 'employee6@email.com')]"
      ]
     },
     "execution_count": 15,
     "metadata": {},
     "output_type": "execute_result"
    }
   ],
   "source": [
    "# read data\n",
    "params = (25,)\n",
    "cursor.execute(\" select * from employee where age > ? \", params)\n",
    "result = cursor.fetchall() # get all\n",
    "conn.commit()\n",
    "result"
   ]
  },
  {
   "cell_type": "code",
   "execution_count": 16,
   "metadata": {},
   "outputs": [
    {
     "data": {
      "text/plain": [
       "[(2, 'employee 2', 25, 'employee2@email.com'),\n",
       " (3, 'employee 3', 27, 'employee3@email.com'),\n",
       " (4, 'employee 4', 28, 'employee4@email.com'),\n",
       " (5, 'employee 5', 22, 'employee5@email.com')]"
      ]
     },
     "execution_count": 16,
     "metadata": {},
     "output_type": "execute_result"
    }
   ],
   "source": [
    "# read data\n",
    "params = (20,30,)\n",
    "cursor.execute(\" select * from employee where age > ? and age < ? \", params)\n",
    "result = cursor.fetchall() # get all\n",
    "conn.commit()\n",
    "result"
   ]
  },
  {
   "cell_type": "markdown",
   "metadata": {},
   "source": [
    "## Memperbarui Data"
   ]
  },
  {
   "cell_type": "code",
   "execution_count": 17,
   "metadata": {},
   "outputs": [
    {
     "name": "stdout",
     "output_type": "stream",
     "text": [
      "[(1, 'employee 1', 20, 'employee1@email.com'), (2, 'employee 2', 25, 'employee2@email.com'), (3, 'employee 3', 27, 'employee3@email.com'), (4, 'employee 4', 28, 'employee4@email.com'), (5, 'employee 5', 22, 'employee5@email.com'), (6, 'employee 6', 30, 'employee6@email.com')]\n",
      "---------------------------------------\n"
     ]
    },
    {
     "data": {
      "text/plain": [
       "[(1, 'employee 1', 20, 'employee1@email.com'),\n",
       " (2, 'employee 2', 30, 'employee2@email.com'),\n",
       " (3, 'employee 3', 27, 'employee3@email.com'),\n",
       " (4, 'employee 4', 28, 'employee4@email.com'),\n",
       " (5, 'employee 5', 22, 'employee5@email.com'),\n",
       " (6, 'employee 6', 30, 'employee6@email.com')]"
      ]
     },
     "execution_count": 17,
     "metadata": {},
     "output_type": "execute_result"
    }
   ],
   "source": [
    "# read data\n",
    "cursor.execute(\" select * from employee \")\n",
    "result = cursor.fetchall() # get all\n",
    "conn.commit()\n",
    "print(result)\n",
    "print('---------------------------------------')\n",
    "\n",
    "# Update data\n",
    "params = (30,'employee2@email.com')\n",
    "cursor.execute('''\n",
    " update employee \n",
    " set age=?\n",
    " where email=?\n",
    "''', params)\n",
    "conn.commit()\n",
    "\n",
    "# read data\n",
    "cursor.execute(\" select * from employee \")\n",
    "result = cursor.fetchall() # get all\n",
    "conn.commit()\n",
    "result"
   ]
  },
  {
   "cell_type": "markdown",
   "metadata": {},
   "source": [
    "## Menghapus Data"
   ]
  },
  {
   "cell_type": "code",
   "execution_count": 18,
   "metadata": {},
   "outputs": [
    {
     "name": "stdout",
     "output_type": "stream",
     "text": [
      "[(1, 'employee 1', 20, 'employee1@email.com'), (2, 'employee 2', 30, 'employee2@email.com'), (3, 'employee 3', 27, 'employee3@email.com'), (4, 'employee 4', 28, 'employee4@email.com'), (5, 'employee 5', 22, 'employee5@email.com'), (6, 'employee 6', 30, 'employee6@email.com')]\n",
      "---------------------------------------\n"
     ]
    },
    {
     "data": {
      "text/plain": [
       "[(1, 'employee 1', 20, 'employee1@email.com'),\n",
       " (2, 'employee 2', 30, 'employee2@email.com'),\n",
       " (3, 'employee 3', 27, 'employee3@email.com'),\n",
       " (5, 'employee 5', 22, 'employee5@email.com'),\n",
       " (6, 'employee 6', 30, 'employee6@email.com')]"
      ]
     },
     "execution_count": 18,
     "metadata": {},
     "output_type": "execute_result"
    }
   ],
   "source": [
    "# read data\n",
    "cursor.execute(\" select * from employee \")\n",
    "result = cursor.fetchall() # get all\n",
    "conn.commit()\n",
    "print(result)\n",
    "print('---------------------------------------')\n",
    "\n",
    "# Delete data\n",
    "cursor.execute(\"delete from employee where email='employee4@email.com' \")\n",
    "conn.commit()\n",
    "\n",
    "# read data\n",
    "cursor.execute(\" select * from employee \")\n",
    "result = cursor.fetchall() \n",
    "conn.commit()\n",
    "result"
   ]
  },
  {
   "cell_type": "markdown",
   "metadata": {},
   "source": [
    "## SQLite dan Pandas"
   ]
  },
  {
   "cell_type": "code",
   "execution_count": 19,
   "metadata": {},
   "outputs": [
    {
     "data": {
      "text/html": [
       "<div>\n",
       "<style scoped>\n",
       "    .dataframe tbody tr th:only-of-type {\n",
       "        vertical-align: middle;\n",
       "    }\n",
       "\n",
       "    .dataframe tbody tr th {\n",
       "        vertical-align: top;\n",
       "    }\n",
       "\n",
       "    .dataframe thead th {\n",
       "        text-align: right;\n",
       "    }\n",
       "</style>\n",
       "<table border=\"1\" class=\"dataframe\">\n",
       "  <thead>\n",
       "    <tr style=\"text-align: right;\">\n",
       "      <th></th>\n",
       "      <th>id</th>\n",
       "      <th>full_name</th>\n",
       "      <th>age</th>\n",
       "      <th>email</th>\n",
       "    </tr>\n",
       "  </thead>\n",
       "  <tbody>\n",
       "    <tr>\n",
       "      <th>0</th>\n",
       "      <td>1</td>\n",
       "      <td>employee 1</td>\n",
       "      <td>20</td>\n",
       "      <td>employee1@email.com</td>\n",
       "    </tr>\n",
       "    <tr>\n",
       "      <th>1</th>\n",
       "      <td>2</td>\n",
       "      <td>employee 2</td>\n",
       "      <td>30</td>\n",
       "      <td>employee2@email.com</td>\n",
       "    </tr>\n",
       "    <tr>\n",
       "      <th>2</th>\n",
       "      <td>3</td>\n",
       "      <td>employee 3</td>\n",
       "      <td>27</td>\n",
       "      <td>employee3@email.com</td>\n",
       "    </tr>\n",
       "    <tr>\n",
       "      <th>3</th>\n",
       "      <td>5</td>\n",
       "      <td>employee 5</td>\n",
       "      <td>22</td>\n",
       "      <td>employee5@email.com</td>\n",
       "    </tr>\n",
       "    <tr>\n",
       "      <th>4</th>\n",
       "      <td>6</td>\n",
       "      <td>employee 6</td>\n",
       "      <td>30</td>\n",
       "      <td>employee6@email.com</td>\n",
       "    </tr>\n",
       "  </tbody>\n",
       "</table>\n",
       "</div>"
      ],
      "text/plain": [
       "   id   full_name  age                email\n",
       "0   1  employee 1   20  employee1@email.com\n",
       "1   2  employee 2   30  employee2@email.com\n",
       "2   3  employee 3   27  employee3@email.com\n",
       "3   5  employee 5   22  employee5@email.com\n",
       "4   6  employee 6   30  employee6@email.com"
      ]
     },
     "execution_count": 19,
     "metadata": {},
     "output_type": "execute_result"
    }
   ],
   "source": [
    "# load sqlite table to pandas\n",
    "import pandas as pd\n",
    "\n",
    "df = pd.read_sql_query(\"select * from employee\", conn)\n",
    "df"
   ]
  },
  {
   "cell_type": "code",
   "execution_count": 20,
   "metadata": {},
   "outputs": [
    {
     "data": {
      "text/html": [
       "<div>\n",
       "<style scoped>\n",
       "    .dataframe tbody tr th:only-of-type {\n",
       "        vertical-align: middle;\n",
       "    }\n",
       "\n",
       "    .dataframe tbody tr th {\n",
       "        vertical-align: top;\n",
       "    }\n",
       "\n",
       "    .dataframe thead th {\n",
       "        text-align: right;\n",
       "    }\n",
       "</style>\n",
       "<table border=\"1\" class=\"dataframe\">\n",
       "  <thead>\n",
       "    <tr style=\"text-align: right;\">\n",
       "      <th></th>\n",
       "      <th>name</th>\n",
       "      <th>code</th>\n",
       "      <th>price</th>\n",
       "      <th>quantity</th>\n",
       "      <th>created</th>\n",
       "    </tr>\n",
       "  </thead>\n",
       "  <tbody>\n",
       "    <tr>\n",
       "      <th>0</th>\n",
       "      <td>Product A1</td>\n",
       "      <td>E01</td>\n",
       "      <td>2.1</td>\n",
       "      <td>5</td>\n",
       "      <td>2020-10-18 20:12:21</td>\n",
       "    </tr>\n",
       "    <tr>\n",
       "      <th>1</th>\n",
       "      <td>Product A2</td>\n",
       "      <td>E02</td>\n",
       "      <td>3.6</td>\n",
       "      <td>7</td>\n",
       "      <td>2020-10-18 20:12:21</td>\n",
       "    </tr>\n",
       "    <tr>\n",
       "      <th>2</th>\n",
       "      <td>Product A3</td>\n",
       "      <td>E03</td>\n",
       "      <td>3.5</td>\n",
       "      <td>3</td>\n",
       "      <td>2020-10-18 20:12:21</td>\n",
       "    </tr>\n",
       "  </tbody>\n",
       "</table>\n",
       "</div>"
      ],
      "text/plain": [
       "         name code  price  quantity              created\n",
       "0  Product A1  E01    2.1         5  2020-10-18 20:12:21\n",
       "1  Product A2  E02    3.6         7  2020-10-18 20:12:21\n",
       "2  Product A3  E03    3.5         3  2020-10-18 20:12:21"
      ]
     },
     "execution_count": 20,
     "metadata": {},
     "output_type": "execute_result"
    }
   ],
   "source": [
    "# pandas dataframe to table\n",
    "products = {'name': ['Product A1', 'Product A2', 'Product A3'],           \n",
    "            'code': ['E01', 'E02', 'E03'],\n",
    "            'price': [2.1, 3.6, 3.5],\n",
    "            'quantity': [5, 7, 3],\n",
    "            'created': ['2020-10-18 20:12:21', '2020-10-18 20:12:21', '2020-10-18 20:12:21']\n",
    "           }\n",
    "\n",
    "dataFrame   = pd.DataFrame(data=products) \n",
    "dataFrame"
   ]
  },
  {
   "cell_type": "code",
   "execution_count": 21,
   "metadata": {},
   "outputs": [],
   "source": [
    "# save dataframe to SQLite table\n",
    "tableName = 'product'\n",
    "dataFrame.to_sql(tableName, con=conn,index=False, if_exists='append')"
   ]
  },
  {
   "cell_type": "code",
   "execution_count": 22,
   "metadata": {},
   "outputs": [
    {
     "data": {
      "text/html": [
       "<div>\n",
       "<style scoped>\n",
       "    .dataframe tbody tr th:only-of-type {\n",
       "        vertical-align: middle;\n",
       "    }\n",
       "\n",
       "    .dataframe tbody tr th {\n",
       "        vertical-align: top;\n",
       "    }\n",
       "\n",
       "    .dataframe thead th {\n",
       "        text-align: right;\n",
       "    }\n",
       "</style>\n",
       "<table border=\"1\" class=\"dataframe\">\n",
       "  <thead>\n",
       "    <tr style=\"text-align: right;\">\n",
       "      <th></th>\n",
       "      <th>name</th>\n",
       "      <th>code</th>\n",
       "      <th>price</th>\n",
       "      <th>quantity</th>\n",
       "      <th>created</th>\n",
       "    </tr>\n",
       "  </thead>\n",
       "  <tbody>\n",
       "    <tr>\n",
       "      <th>0</th>\n",
       "      <td>Product A1</td>\n",
       "      <td>E01</td>\n",
       "      <td>2.1</td>\n",
       "      <td>5</td>\n",
       "      <td>2020-10-18 20:12:21</td>\n",
       "    </tr>\n",
       "    <tr>\n",
       "      <th>1</th>\n",
       "      <td>Product A2</td>\n",
       "      <td>E02</td>\n",
       "      <td>3.6</td>\n",
       "      <td>7</td>\n",
       "      <td>2020-10-18 20:12:21</td>\n",
       "    </tr>\n",
       "    <tr>\n",
       "      <th>2</th>\n",
       "      <td>Product A3</td>\n",
       "      <td>E03</td>\n",
       "      <td>3.5</td>\n",
       "      <td>3</td>\n",
       "      <td>2020-10-18 20:12:21</td>\n",
       "    </tr>\n",
       "  </tbody>\n",
       "</table>\n",
       "</div>"
      ],
      "text/plain": [
       "         name code  price  quantity              created\n",
       "0  Product A1  E01    2.1         5  2020-10-18 20:12:21\n",
       "1  Product A2  E02    3.6         7  2020-10-18 20:12:21\n",
       "2  Product A3  E03    3.5         3  2020-10-18 20:12:21"
      ]
     },
     "execution_count": 22,
     "metadata": {},
     "output_type": "execute_result"
    }
   ],
   "source": [
    "# check\n",
    "df = pd.read_sql('SELECT * FROM product', conn)\n",
    "df"
   ]
  },
  {
   "cell_type": "markdown",
   "metadata": {},
   "source": [
    "## Menghapus Tabel"
   ]
  },
  {
   "cell_type": "code",
   "execution_count": 23,
   "metadata": {},
   "outputs": [],
   "source": [
    "# Delete table\n",
    "cursor.execute(\"drop table if exists employee \")\n",
    "conn.commit()\n",
    "cursor.execute(\"drop table if exists product \")\n",
    "conn.commit()"
   ]
  },
  {
   "cell_type": "code",
   "execution_count": 25,
   "metadata": {},
   "outputs": [],
   "source": [
    "cursor.execute(\"drop table if exists employee \")\n",
    "conn.commit()"
   ]
  },
  {
   "cell_type": "code",
   "execution_count": 26,
   "metadata": {},
   "outputs": [],
   "source": [
    "conn.close()"
   ]
  },
  {
   "cell_type": "code",
   "execution_count": null,
   "metadata": {},
   "outputs": [],
   "source": []
  }
 ],
 "metadata": {
  "kernelspec": {
   "display_name": "Python 3",
   "language": "python",
   "name": "python3"
  },
  "language_info": {
   "codemirror_mode": {
    "name": "ipython",
    "version": 3
   },
   "file_extension": ".py",
   "mimetype": "text/x-python",
   "name": "python",
   "nbconvert_exporter": "python",
   "pygments_lexer": "ipython3",
   "version": "3.8.8"
  },
  "toc-autonumbering": true
 },
 "nbformat": 4,
 "nbformat_minor": 4
}
