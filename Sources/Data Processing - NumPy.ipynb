{
 "cells": [
  {
   "cell_type": "markdown",
   "metadata": {
    "nbpresent": {
     "id": "c7dd824e-ef76-47f3-91a6-1197ae225b4b"
    }
   },
   "source": [
    "# Numpy"
   ]
  },
  {
   "cell_type": "markdown",
   "metadata": {
    "nbpresent": {
     "id": "ea0fa08f-ea8f-469c-950e-24d5a158d678"
    }
   },
   "source": [
    "Numpy adalah library utama untuk komputasi ilmiah dengan Python. Ini menyediakan objek array multidimensi kinerja tinggi, dan alat untuk bekerja dengan array ini. Ini adalah penerus package Numerik. Pada tahun 2005, Travis Oliphant menciptakan NumPy dengan menggabungkan fitur Numarray yang bersaing ke dalam Numerik, dengan modifikasi ekstensif. \n",
    "\n",
    "Topik bahasan meliput:\n",
    "\n",
    "* Arrays\n",
    "* Tipe Data\n",
    "* Array indexing\n",
    "* Indexing Lanjut\n",
    "* Operasi Matematika Pada Array\n",
    "* Broadcasting\n",
    "* I/O Files\n"
   ]
  },
  {
   "cell_type": "markdown",
   "metadata": {
    "nbpresent": {
     "id": "3a5fa455-20ab-433e-a1a3-40db3da5381a"
    }
   },
   "source": [
    "Untuk menggunakan Numpy, kita harus install `numpy` package:\n",
    "``` \n",
    "pip install numpy \n",
    "pip3 install numpy \n",
    "\n",
    "```\n"
   ]
  },
  {
   "cell_type": "code",
   "execution_count": 1,
   "metadata": {},
   "outputs": [
    {
     "name": "stdout",
     "output_type": "stream",
     "text": [
      "Requirement already satisfied: numpy in c:\\python\\python38\\lib\\site-packages (1.19.5)\n"
     ]
    }
   ],
   "source": [
    "# install melalui Jupyter Notebook\n",
    "!pip install numpy"
   ]
  },
  {
   "cell_type": "code",
   "execution_count": 2,
   "metadata": {
    "nbpresent": {
     "id": "15e53c86-93a3-43a8-9958-cd1c49b7b497"
    }
   },
   "outputs": [],
   "source": [
    "import numpy as np"
   ]
  },
  {
   "cell_type": "code",
   "execution_count": 3,
   "metadata": {},
   "outputs": [
    {
     "data": {
      "text/plain": [
       "'1.19.5'"
      ]
     },
     "execution_count": 3,
     "metadata": {},
     "output_type": "execute_result"
    }
   ],
   "source": [
    "np.__version__"
   ]
  },
  {
   "cell_type": "markdown",
   "metadata": {
    "nbpresent": {
     "id": "4d54e98d-3aa6-4327-8799-3a8bebf9f206"
    }
   },
   "source": [
    "## Arrays"
   ]
  },
  {
   "cell_type": "markdown",
   "metadata": {
    "nbpresent": {
     "id": "b069f6e3-c44a-4e85-a348-96f2bb54482b"
    }
   },
   "source": [
    "Cara membuat array pada numpy"
   ]
  },
  {
   "cell_type": "code",
   "execution_count": 4,
   "metadata": {
    "nbpresent": {
     "id": "6891c332-162e-4ff5-94de-b07fd89a43da"
    }
   },
   "outputs": [
    {
     "name": "stdout",
     "output_type": "stream",
     "text": [
      "<class 'numpy.ndarray'>\n",
      "(3,)\n",
      "0\n",
      "1\n",
      "2\n",
      "[5 1 2]\n"
     ]
    }
   ],
   "source": [
    "# Membuat array dengan rank 1\n",
    "a = np.array([0, 1, 2]) \n",
    "print(type(a))\n",
    "\n",
    "# tampilkan dimensi array\n",
    "b = a.shape # tuples\n",
    "\n",
    "print(a.shape) \n",
    "print(a[0])\n",
    "print(a[1])\n",
    "print(a[2])\n",
    "\n",
    "# Mengganti nilai dari element array\n",
    "a[0] = 5                 \n",
    "print(a)                  "
   ]
  },
  {
   "cell_type": "code",
   "execution_count": 5,
   "metadata": {},
   "outputs": [
    {
     "data": {
      "text/plain": [
       "array(['jakarta', 'bogor', 'bekasi'], dtype='<U7')"
      ]
     },
     "execution_count": 5,
     "metadata": {},
     "output_type": "execute_result"
    }
   ],
   "source": [
    "b = np.array(['jakarta','bogor','bekasi'])\n",
    "b"
   ]
  },
  {
   "cell_type": "code",
   "execution_count": 6,
   "metadata": {
    "nbpresent": {
     "id": "3c405c6c-89bb-4fe3-af31-79302a103549"
    }
   },
   "outputs": [
    {
     "name": "stdout",
     "output_type": "stream",
     "text": [
      "(2, 3)\n",
      "[[0 1 2]\n",
      " [3 4 5]]\n",
      "0 1 3\n"
     ]
    }
   ],
   "source": [
    "# Membuat array dengan rank 2\n",
    "b = np.array([[0,1,2],[3,4,5]])  \n",
    "print(b.shape)                     \n",
    "print(b)\n",
    "print(b[0, 0], b[0, 1], b[1, 0])   "
   ]
  },
  {
   "cell_type": "code",
   "execution_count": 8,
   "metadata": {
    "nbpresent": {
     "id": "7df855d7-8be7-4802-9106-a4853cd147be"
    }
   },
   "outputs": [
    {
     "name": "stdout",
     "output_type": "stream",
     "text": [
      "(2, 3)\n",
      "0 4 3\n"
     ]
    }
   ],
   "source": [
    "print(b.shape)                   \n",
    "print(b[0, 0], b[1, 1], b[1, 0])"
   ]
  },
  {
   "cell_type": "code",
   "execution_count": 9,
   "metadata": {},
   "outputs": [
    {
     "data": {
      "text/plain": [
       "array(['123', 'bogor', '4.56'], dtype='<U11')"
      ]
     },
     "execution_count": 9,
     "metadata": {},
     "output_type": "execute_result"
    }
   ],
   "source": [
    "c = np.array([123,'bogor',4.56])\n",
    "c"
   ]
  },
  {
   "cell_type": "code",
   "execution_count": 10,
   "metadata": {},
   "outputs": [
    {
     "data": {
      "text/plain": [
       "numpy.ndarray"
      ]
     },
     "execution_count": 10,
     "metadata": {},
     "output_type": "execute_result"
    }
   ],
   "source": [
    "type(c)"
   ]
  },
  {
   "cell_type": "markdown",
   "metadata": {
    "nbpresent": {
     "id": "c0ab4674-bb74-4e9e-811e-44b2588e2bf8"
    }
   },
   "source": [
    "### Membuat NumPy array"
   ]
  },
  {
   "cell_type": "code",
   "execution_count": 11,
   "metadata": {
    "nbpresent": {
     "id": "b177bdcc-0727-4edf-99fe-3c4ba8e41a41"
    }
   },
   "outputs": [
    {
     "name": "stdout",
     "output_type": "stream",
     "text": [
      "[[0. 0. 0.]\n",
      " [0. 0. 0.]\n",
      " [0. 0. 0.]]\n"
     ]
    }
   ],
   "source": [
    "# Buat array 3x3 dengan semua nilai 0\n",
    "a = np.zeros((3,3)) \n",
    "print(a)"
   ]
  },
  {
   "cell_type": "code",
   "execution_count": 12,
   "metadata": {},
   "outputs": [
    {
     "data": {
      "text/plain": [
       "array([[0., 0., 0.],\n",
       "       [0., 0., 0.]])"
      ]
     },
     "execution_count": 12,
     "metadata": {},
     "output_type": "execute_result"
    }
   ],
   "source": [
    "np.zeros((2,3)) "
   ]
  },
  {
   "cell_type": "code",
   "execution_count": 13,
   "metadata": {
    "nbpresent": {
     "id": "ece13747-4520-4ac5-b629-d703c8fcbf56"
    }
   },
   "outputs": [
    {
     "name": "stdout",
     "output_type": "stream",
     "text": [
      "[[1 1]\n",
      " [1 1]]\n",
      "int64\n"
     ]
    }
   ],
   "source": [
    "# Buat array 2x2 dengan semua nilai 0\n",
    "b = np.ones((2,2),dtype=np.int64)  \n",
    "print(b)\n",
    "print(b.dtype)"
   ]
  },
  {
   "cell_type": "code",
   "execution_count": 14,
   "metadata": {
    "nbpresent": {
     "id": "b2d38782-2879-4b2d-a4fd-38ddee9663a8"
    }
   },
   "outputs": [
    {
     "name": "stdout",
     "output_type": "stream",
     "text": [
      "[[8 8 8]\n",
      " [8 8 8]\n",
      " [8 8 8]]\n"
     ]
    }
   ],
   "source": [
    "# Buat array 3x3 dengan semua nilai konstan\n",
    "c = np.full((3,3), 8) \n",
    "print(c) "
   ]
  },
  {
   "cell_type": "code",
   "execution_count": 15,
   "metadata": {},
   "outputs": [
    {
     "name": "stdout",
     "output_type": "stream",
     "text": [
      "[[1.3 1.3]\n",
      " [1.3 1.3]\n",
      " [1.3 1.3]\n",
      " [1.3 1.3]\n",
      " [1.3 1.3]]\n"
     ]
    }
   ],
   "source": [
    "c = np.full((5,2), 1.3) \n",
    "print(c) "
   ]
  },
  {
   "cell_type": "code",
   "execution_count": 16,
   "metadata": {
    "nbpresent": {
     "id": "4bf402d7-203d-4415-81db-be3d7071b261"
    }
   },
   "outputs": [
    {
     "name": "stdout",
     "output_type": "stream",
     "text": [
      "[[0.78050648 0.15491275 0.70164983]\n",
      " [0.49712329 0.6479866  0.57747135]\n",
      " [0.49176867 0.70398338 0.7642652 ]]\n"
     ]
    }
   ],
   "source": [
    "# Buat array 3x3 dengan semua nilai acak\n",
    "d = np.random.random((3,3)) \n",
    "print(d)"
   ]
  },
  {
   "cell_type": "code",
   "execution_count": 17,
   "metadata": {
    "nbpresent": {
     "id": "afb388c3-4f6f-456d-bf3b-385aa09ebed1"
    }
   },
   "outputs": [
    {
     "name": "stdout",
     "output_type": "stream",
     "text": [
      "[[1. 0. 0.]\n",
      " [0. 1. 0.]\n",
      " [0. 0. 1.]]\n"
     ]
    }
   ],
   "source": [
    "# Buat 3x3 identity matrix\n",
    "e = np.eye(3)        \n",
    "print(e)"
   ]
  },
  {
   "cell_type": "code",
   "execution_count": 18,
   "metadata": {},
   "outputs": [
    {
     "data": {
      "text/plain": [
       "array([[1., 0., 0., 0.],\n",
       "       [0., 1., 0., 0.],\n",
       "       [0., 0., 1., 0.],\n",
       "       [0., 0., 0., 1.]])"
      ]
     },
     "execution_count": 18,
     "metadata": {},
     "output_type": "execute_result"
    }
   ],
   "source": [
    "np.eye(4) "
   ]
  },
  {
   "cell_type": "code",
   "execution_count": 19,
   "metadata": {},
   "outputs": [
    {
     "name": "stdout",
     "output_type": "stream",
     "text": [
      "[2 3 1 0]\n"
     ]
    }
   ],
   "source": [
    "# Konversi list ke array\n",
    "f = np.array([2, 3, 1, 0]) \n",
    "print(f)"
   ]
  },
  {
   "cell_type": "code",
   "execution_count": 20,
   "metadata": {},
   "outputs": [
    {
     "name": "stdout",
     "output_type": "stream",
     "text": [
      "[ 0  1  2  3  4  5  6  7  8  9 10 11 12 13 14]\n"
     ]
    }
   ],
   "source": [
    "# arange() akan membuat array dengan nilai yang bertambah secara teratur\n",
    "g = np.arange(15)\n",
    "print(g)"
   ]
  },
  {
   "cell_type": "code",
   "execution_count": 21,
   "metadata": {},
   "outputs": [
    {
     "name": "stdout",
     "output_type": "stream",
     "text": [
      "[[0.+0.j 1.+0.j 2.+0.j]\n",
      " [0.+0.j 0.+0.j 0.+0.j]\n",
      " [1.+1.j 3.+0.j 2.+0.j]]\n"
     ]
    }
   ],
   "source": [
    "# gabungan tuple dan list\n",
    "h = np.array([[0, 1,2.0],[0,0,0],(1+1j,3.,2.)])                           \n",
    "print(h)"
   ]
  },
  {
   "cell_type": "code",
   "execution_count": 22,
   "metadata": {},
   "outputs": [
    {
     "name": "stdout",
     "output_type": "stream",
     "text": [
      "[1. 2. 3. 4. 5. 6. 7.]\n"
     ]
    }
   ],
   "source": [
    "# membuat array dengan float data type \n",
    "i = np.arange(1, 8, dtype=np.float64)\n",
    "print(i)"
   ]
  },
  {
   "cell_type": "code",
   "execution_count": 23,
   "metadata": {},
   "outputs": [
    {
     "name": "stdout",
     "output_type": "stream",
     "text": [
      "[2.  2.5 3.  3.5 4. ]\n"
     ]
    }
   ],
   "source": [
    "# linspace() akan membuat array dengan jumlah item tertentu yang \n",
    "# berjarak sama antara nilai awal dan akhir yang ditentukan\n",
    "j = np.linspace(2., 4., 5)\n",
    "print(j)"
   ]
  },
  {
   "cell_type": "code",
   "execution_count": 24,
   "metadata": {},
   "outputs": [
    {
     "name": "stdout",
     "output_type": "stream",
     "text": [
      "[ 1.          1.47368421  1.94736842  2.42105263  2.89473684  3.36842105\n",
      "  3.84210526  4.31578947  4.78947368  5.26315789  5.73684211  6.21052632\n",
      "  6.68421053  7.15789474  7.63157895  8.10526316  8.57894737  9.05263158\n",
      "  9.52631579 10.        ]\n"
     ]
    }
   ],
   "source": [
    "j = np.linspace(1, 10, 20)\n",
    "print(j)"
   ]
  },
  {
   "cell_type": "code",
   "execution_count": 25,
   "metadata": {},
   "outputs": [
    {
     "name": "stdout",
     "output_type": "stream",
     "text": [
      "[[[0 0]\n",
      "  [1 1]]\n",
      "\n",
      " [[0 1]\n",
      "  [0 1]]]\n"
     ]
    }
   ],
   "source": [
    "# indices () akan membuat satu set array yang ditumpuk sebagai array berdimensi satu lebih tinggi, \n",
    "# satu per dimensi dengan masing-masing mewakili variasi dalam dimensi itu\n",
    "\n",
    "k = np.indices((2,2))\n",
    "print(k)"
   ]
  },
  {
   "cell_type": "code",
   "execution_count": 26,
   "metadata": {},
   "outputs": [
    {
     "data": {
      "text/plain": [
       "array([[[0, 0, 0],\n",
       "        [1, 1, 1]],\n",
       "\n",
       "       [[0, 1, 2],\n",
       "        [0, 1, 2]]])"
      ]
     },
     "execution_count": 26,
     "metadata": {},
     "output_type": "execute_result"
    }
   ],
   "source": [
    "k = np.indices((2,3))\n",
    "k"
   ]
  },
  {
   "cell_type": "markdown",
   "metadata": {
    "nbpresent": {
     "id": "c4de1709-8bb3-4d89-b74e-d6de9ba7ec74"
    }
   },
   "source": [
    "## Tipe Data"
   ]
  },
  {
   "cell_type": "markdown",
   "metadata": {
    "nbpresent": {
     "id": "10965526-aa05-4af5-9eb2-0066cc1347eb"
    }
   },
   "source": [
    "Array adalah kumpulan item dari tipe data yang sama, NumPy mendukung dan menyediakan fungsi bawaan untuk membangun array dengan argumen opsional untuk secara eksplisit menentukan tipe data yang diperlukan."
   ]
  },
  {
   "cell_type": "code",
   "execution_count": 27,
   "metadata": {
    "nbpresent": {
     "id": "11571575-5119-4583-836d-e83f1180227b"
    }
   },
   "outputs": [
    {
     "name": "stdout",
     "output_type": "stream",
     "text": [
      "int32 float64 int64\n"
     ]
    }
   ],
   "source": [
    "# Membiarkan numpy memilih tipe data\n",
    "x = np.array([0, 1])  \n",
    "y = np.array([2.0, 3.0])  \n",
    "\n",
    "# Memaksa tipe data\n",
    "z = np.array([5, 6], dtype=np.int64)  \n",
    "\n",
    "print(x.dtype, y.dtype, z.dtype)"
   ]
  },
  {
   "cell_type": "markdown",
   "metadata": {
    "nbpresent": {
     "id": "e4f9f71c-422e-4b3e-afd5-022b22564927"
    }
   },
   "source": [
    "Info selengkapnya [documentation](http://docs.scipy.org/doc/numpy/reference/arrays.dtypes.html)."
   ]
  },
  {
   "cell_type": "markdown",
   "metadata": {},
   "source": [
    "## Array Indexing\n",
    "\n",
    "Numpy menawarkan beberapa cara untuk mengindeks ke dalam array. Sintaks standar Python x[obj] dapat digunakan untuk mengindeks NumPyarray, di mana x adalah array dan obj pilihan.\n",
    "\n",
    "Ada tiga jenis pengindeksan yang tersedia\n",
    "* Field access\n",
    "* Basic slicing\n",
    "* Advanced indexing\n",
    "\n",
    "\n",
    "### Field Access\n",
    "\n",
    "Jika objek ndarray adalah array terstruktur, bidang array dapat diakses dengan mengindeks array dengan string, seperti dictionary. \n",
    "\n",
    "Pengindeksan x['field-name'] mengembalikan tampilan baru ke array, yang bentuknya sama dengan x, kecuali jika bidangnya adalah sub-array, tetapi bertipe data x.dtype['field-name'] dan hanya berisi bagian dari data di bidang yang ditentukan."
   ]
  },
  {
   "cell_type": "code",
   "execution_count": 28,
   "metadata": {},
   "outputs": [
    {
     "name": "stdout",
     "output_type": "stream",
     "text": [
      "x['a'].shape:  (3, 3)\n",
      "x['a'].dtype:  int32\n",
      "x['b'].shape:  (3, 3, 3, 3)\n",
      "x['b'].dtype:  float64\n"
     ]
    }
   ],
   "source": [
    "x = np.zeros((3,3), dtype=[('a', np.int32), ('b', np.float64, (3,3))])\n",
    "print(\"x['a'].shape: \",x['a'].shape)\n",
    "print(\"x['a'].dtype: \", x['a'].dtype)\n",
    "\n",
    "print(\"x['b'].shape: \", x['b'].shape)\n",
    "print(\"x['b'].dtype: \", x['b'].dtype)"
   ]
  },
  {
   "cell_type": "code",
   "execution_count": 29,
   "metadata": {},
   "outputs": [
    {
     "data": {
      "text/plain": [
       "array([[(0, [[0., 0., 0.], [0., 0., 0.], [0., 0., 0.]]),\n",
       "        (0, [[0., 0., 0.], [0., 0., 0.], [0., 0., 0.]]),\n",
       "        (0, [[0., 0., 0.], [0., 0., 0.], [0., 0., 0.]])],\n",
       "       [(0, [[0., 0., 0.], [0., 0., 0.], [0., 0., 0.]]),\n",
       "        (0, [[0., 0., 0.], [0., 0., 0.], [0., 0., 0.]]),\n",
       "        (0, [[0., 0., 0.], [0., 0., 0.], [0., 0., 0.]])],\n",
       "       [(0, [[0., 0., 0.], [0., 0., 0.], [0., 0., 0.]]),\n",
       "        (0, [[0., 0., 0.], [0., 0., 0.], [0., 0., 0.]]),\n",
       "        (0, [[0., 0., 0.], [0., 0., 0.], [0., 0., 0.]])]],\n",
       "      dtype=[('a', '<i4'), ('b', '<f8', (3, 3))])"
      ]
     },
     "execution_count": 29,
     "metadata": {},
     "output_type": "execute_result"
    }
   ],
   "source": [
    "x"
   ]
  },
  {
   "cell_type": "code",
   "execution_count": 30,
   "metadata": {},
   "outputs": [
    {
     "data": {
      "text/plain": [
       "array([[0, 0, 0],\n",
       "       [0, 0, 0],\n",
       "       [0, 0, 0]])"
      ]
     },
     "execution_count": 30,
     "metadata": {},
     "output_type": "execute_result"
    }
   ],
   "source": [
    "x['a']"
   ]
  },
  {
   "cell_type": "code",
   "execution_count": 31,
   "metadata": {},
   "outputs": [
    {
     "data": {
      "text/plain": [
       "array([[[[0., 0., 0.],\n",
       "         [0., 0., 0.],\n",
       "         [0., 0., 0.]],\n",
       "\n",
       "        [[0., 0., 0.],\n",
       "         [0., 0., 0.],\n",
       "         [0., 0., 0.]],\n",
       "\n",
       "        [[0., 0., 0.],\n",
       "         [0., 0., 0.],\n",
       "         [0., 0., 0.]]],\n",
       "\n",
       "\n",
       "       [[[0., 0., 0.],\n",
       "         [0., 0., 0.],\n",
       "         [0., 0., 0.]],\n",
       "\n",
       "        [[0., 0., 0.],\n",
       "         [0., 0., 0.],\n",
       "         [0., 0., 0.]],\n",
       "\n",
       "        [[0., 0., 0.],\n",
       "         [0., 0., 0.],\n",
       "         [0., 0., 0.]]],\n",
       "\n",
       "\n",
       "       [[[0., 0., 0.],\n",
       "         [0., 0., 0.],\n",
       "         [0., 0., 0.]],\n",
       "\n",
       "        [[0., 0., 0.],\n",
       "         [0., 0., 0.],\n",
       "         [0., 0., 0.]],\n",
       "\n",
       "        [[0., 0., 0.],\n",
       "         [0., 0., 0.],\n",
       "         [0., 0., 0.]]]])"
      ]
     },
     "execution_count": 31,
     "metadata": {},
     "output_type": "execute_result"
    }
   ],
   "source": [
    "x['b']"
   ]
  },
  {
   "cell_type": "code",
   "execution_count": 32,
   "metadata": {},
   "outputs": [
    {
     "name": "stdout",
     "output_type": "stream",
     "text": [
      "x['a'].shape:  (1, 2)\n",
      "x['a'].dtype:  int32\n",
      "x['b'].shape:  (1, 2, 2, 3)\n",
      "x['b'].dtype:  float64\n"
     ]
    }
   ],
   "source": [
    "x = np.zeros((1,2), dtype=[('a', np.int32), ('b', np.float64, (2,3))])\n",
    "print(\"x['a'].shape: \",x['a'].shape)\n",
    "print(\"x['a'].dtype: \", x['a'].dtype)\n",
    "\n",
    "print(\"x['b'].shape: \", x['b'].shape)\n",
    "print(\"x['b'].dtype: \", x['b'].dtype)"
   ]
  },
  {
   "cell_type": "code",
   "execution_count": 33,
   "metadata": {},
   "outputs": [
    {
     "data": {
      "text/plain": [
       "array([[(0, [[0., 0., 0.], [0., 0., 0.]]),\n",
       "        (0, [[0., 0., 0.], [0., 0., 0.]])]],\n",
       "      dtype=[('a', '<i4'), ('b', '<f8', (2, 3))])"
      ]
     },
     "execution_count": 33,
     "metadata": {},
     "output_type": "execute_result"
    }
   ],
   "source": [
    "x"
   ]
  },
  {
   "cell_type": "code",
   "execution_count": 34,
   "metadata": {},
   "outputs": [
    {
     "data": {
      "text/plain": [
       "(1, 2)"
      ]
     },
     "execution_count": 34,
     "metadata": {},
     "output_type": "execute_result"
    }
   ],
   "source": [
    "x.shape"
   ]
  },
  {
   "cell_type": "markdown",
   "metadata": {
    "nbpresent": {
     "id": "5c953f9d-1452-4caf-816c-c17a83a7dd0b"
    }
   },
   "source": [
    "### Basic Slicing"
   ]
  },
  {
   "cell_type": "markdown",
   "metadata": {
    "nbpresent": {
     "id": "3ec8186b-4ec0-4999-9005-b0e359c1f9bb"
    }
   },
   "source": [
    "Array NumPy dapat diiris, mirip dengan list. Anda harus menentukan irisan untuk setiap dimensi array karena array mungkin multidimensi. \n",
    "\n",
    "Sintak irisan dasar adalah i:j:k di mana i adalah indeks awal, j adalah indeks penghentian, dan k adalah langkah dan k tidak sama dengan 0. Ini memilih elemen m dalam dimensi yang sesuai, dengan nilai indeks i, i + k, ...,i + (m - 1) k dimana m = q + (r tidak sama dengan 0) dan q dan r adalah hasil bagi dan sisa yang diperoleh dengan membagi j - i dengan k: j - i = qk + r, sehingga i + (m - 1) k < j.\n"
   ]
  },
  {
   "cell_type": "code",
   "execution_count": 35,
   "metadata": {},
   "outputs": [
    {
     "data": {
      "text/plain": [
       "array([5, 6, 7, 8, 9])"
      ]
     },
     "execution_count": 35,
     "metadata": {},
     "output_type": "execute_result"
    }
   ],
   "source": [
    "x = np.array([5, 6, 7, 8, 9])\n",
    "x"
   ]
  },
  {
   "cell_type": "code",
   "execution_count": 36,
   "metadata": {},
   "outputs": [
    {
     "data": {
      "text/plain": [
       "array([6, 8])"
      ]
     },
     "execution_count": 36,
     "metadata": {},
     "output_type": "execute_result"
    }
   ],
   "source": [
    "x[1:7:2]"
   ]
  },
  {
   "cell_type": "code",
   "execution_count": 37,
   "metadata": {},
   "outputs": [
    {
     "data": {
      "text/plain": [
       "array([7, 8, 9])"
      ]
     },
     "execution_count": 37,
     "metadata": {},
     "output_type": "execute_result"
    }
   ],
   "source": [
    "x[2:8:1]"
   ]
  },
  {
   "cell_type": "code",
   "execution_count": 38,
   "metadata": {},
   "outputs": [
    {
     "data": {
      "text/plain": [
       "array([6, 7, 8])"
      ]
     },
     "execution_count": 38,
     "metadata": {},
     "output_type": "execute_result"
    }
   ],
   "source": [
    "x[1:4]"
   ]
  },
  {
   "cell_type": "markdown",
   "metadata": {},
   "source": [
    "k negatif membuat loncatan menuju indeks yang lebih kecil. i dan j negatif diinterpretasikan sebagai n + i dan n + j di mana n adalah jumlah elemen dalam dimensi yang sesuai."
   ]
  },
  {
   "cell_type": "code",
   "execution_count": 39,
   "metadata": {},
   "outputs": [
    {
     "data": {
      "text/plain": [
       "array([5, 6, 7, 8, 9])"
      ]
     },
     "execution_count": 39,
     "metadata": {},
     "output_type": "execute_result"
    }
   ],
   "source": [
    "x"
   ]
  },
  {
   "cell_type": "code",
   "execution_count": 40,
   "metadata": {},
   "outputs": [
    {
     "name": "stdout",
     "output_type": "stream",
     "text": [
      "[8 9]\n",
      "[9 8 7]\n",
      "[]\n",
      "[7 8 9]\n"
     ]
    }
   ],
   "source": [
    "print(x[-2:5])\n",
    "print(x[-1:1:-1])\n",
    "print(x[-1:1:1])\n",
    "print(x[-3:5:1])"
   ]
  },
  {
   "cell_type": "code",
   "execution_count": 41,
   "metadata": {},
   "outputs": [
    {
     "name": "stdout",
     "output_type": "stream",
     "text": [
      "[9 8]\n",
      "[]\n"
     ]
    }
   ],
   "source": [
    "print(x[-1:2:-1])\n",
    "print(x[-1:2:1])"
   ]
  },
  {
   "cell_type": "code",
   "execution_count": 42,
   "metadata": {},
   "outputs": [
    {
     "name": "stdout",
     "output_type": "stream",
     "text": [
      "[9 8 7 6]\n"
     ]
    }
   ],
   "source": [
    "print(x[-1:-5:-1])"
   ]
  },
  {
   "cell_type": "markdown",
   "metadata": {},
   "source": [
    "Jika n adalah jumlah item dalam dimensi yang diiris. Kemudian jika i tidak diberikan maka defaultnya adalah 0 untuk k > 0 dan n - 1 untuk k < 0 . Jika j tidak diberikan defaultnya adalah n untuk k > 0 dan -1 untuk k < 0 . Jika k tidak diberikan, defaultnya adalah 1. Perhatikan bahwa :: sama dengan : dan berarti pilih semua indeks di sepanjang sumbu ini."
   ]
  },
  {
   "cell_type": "code",
   "execution_count": 43,
   "metadata": {},
   "outputs": [
    {
     "data": {
      "text/plain": [
       "array([9])"
      ]
     },
     "execution_count": 43,
     "metadata": {},
     "output_type": "execute_result"
    }
   ],
   "source": [
    "x[4:]"
   ]
  },
  {
   "cell_type": "code",
   "execution_count": 44,
   "metadata": {},
   "outputs": [
    {
     "data": {
      "text/plain": [
       "array([7, 8, 9])"
      ]
     },
     "execution_count": 44,
     "metadata": {},
     "output_type": "execute_result"
    }
   ],
   "source": [
    "x[-3:]"
   ]
  },
  {
   "cell_type": "markdown",
   "metadata": {},
   "source": [
    "Jika jumlah objek dalam tupel pemilihan kurang dari N , maka : diasumsikan untuk setiap dimensi berikutnya."
   ]
  },
  {
   "cell_type": "code",
   "execution_count": 45,
   "metadata": {},
   "outputs": [
    {
     "name": "stdout",
     "output_type": "stream",
     "text": [
      "Shape of y:  (3,)\n"
     ]
    },
    {
     "data": {
      "text/plain": [
       "array([list([[4], [5], [6]]), list([7])], dtype=object)"
      ]
     },
     "execution_count": 45,
     "metadata": {},
     "output_type": "execute_result"
    }
   ],
   "source": [
    "y = np.array([[[0],[1],[2],[3]], [[4],[5],[6]],[7]],  dtype=object)\n",
    "print(\"Shape of y: \", y.shape)\n",
    "y[1:3]"
   ]
  },
  {
   "cell_type": "code",
   "execution_count": 46,
   "metadata": {},
   "outputs": [
    {
     "data": {
      "text/plain": [
       "array([list([[0], [1], [2], [3]]), list([[4], [5], [6]]), list([7])],\n",
       "      dtype=object)"
      ]
     },
     "execution_count": 46,
     "metadata": {},
     "output_type": "execute_result"
    }
   ],
   "source": [
    "y"
   ]
  },
  {
   "cell_type": "markdown",
   "metadata": {},
   "source": [
    "Elipsis diperluas ke jumlah : objek yang dibutuhkan untuk membuat tupel seleksi dengan panjang yang sama dengan x.ndim. Mungkin hanya ada satu elipsis yang ada."
   ]
  },
  {
   "cell_type": "code",
   "execution_count": 47,
   "metadata": {},
   "outputs": [
    {
     "data": {
      "text/plain": [
       "array([5, 6, 7, 8, 9])"
      ]
     },
     "execution_count": 47,
     "metadata": {},
     "output_type": "execute_result"
    }
   ],
   "source": [
    "x"
   ]
  },
  {
   "cell_type": "code",
   "execution_count": 48,
   "metadata": {},
   "outputs": [
    {
     "data": {
      "text/plain": [
       "array(5)"
      ]
     },
     "execution_count": 48,
     "metadata": {},
     "output_type": "execute_result"
    }
   ],
   "source": [
    "x[...,0]"
   ]
  },
  {
   "cell_type": "code",
   "execution_count": 49,
   "metadata": {},
   "outputs": [
    {
     "data": {
      "text/plain": [
       "array(6)"
      ]
     },
     "execution_count": 49,
     "metadata": {},
     "output_type": "execute_result"
    }
   ],
   "source": [
    "x[...,1]"
   ]
  },
  {
   "cell_type": "code",
   "execution_count": 50,
   "metadata": {},
   "outputs": [
    {
     "data": {
      "text/plain": [
       "array(8)"
      ]
     },
     "execution_count": 50,
     "metadata": {},
     "output_type": "execute_result"
    }
   ],
   "source": [
    "x[...,3]"
   ]
  },
  {
   "cell_type": "code",
   "execution_count": 51,
   "metadata": {},
   "outputs": [
    {
     "data": {
      "text/plain": [
       "array([6, 7, 8, 9])"
      ]
     },
     "execution_count": 51,
     "metadata": {},
     "output_type": "execute_result"
    }
   ],
   "source": [
    "x[...,1:]"
   ]
  },
  {
   "cell_type": "code",
   "execution_count": 52,
   "metadata": {},
   "outputs": [
    {
     "data": {
      "text/plain": [
       "array(6)"
      ]
     },
     "execution_count": 52,
     "metadata": {},
     "output_type": "execute_result"
    }
   ],
   "source": [
    "x[1,...]"
   ]
  },
  {
   "cell_type": "code",
   "execution_count": 53,
   "metadata": {},
   "outputs": [
    {
     "data": {
      "text/plain": [
       "array([6, 7, 8, 9])"
      ]
     },
     "execution_count": 53,
     "metadata": {},
     "output_type": "execute_result"
    }
   ],
   "source": [
    "x[1:,...]"
   ]
  },
  {
   "cell_type": "code",
   "execution_count": 54,
   "metadata": {
    "nbpresent": {
     "id": "11f6b0bd-6031-4689-b85a-f914f3239306"
    }
   },
   "outputs": [
    {
     "name": "stdout",
     "output_type": "stream",
     "text": [
      "Array a:  [[ 5  6  7  8]\n",
      " [ 1  2  3  4]\n",
      " [ 9 10 11 12]]\n",
      "Array b:  [[6 7]\n",
      " [2 3]]\n"
     ]
    }
   ],
   "source": [
    "# Buat rank 2 array dengan ukuran (3, 4)\n",
    "a = np.array([[5,6,7,8], [1,2,3,4], [9,10,11,12]])\n",
    "print(\"Array a: \", a)\n",
    "\n",
    "# Gunakan slicing untuk mengeluarkan subarray yang terdiri dari 2 baris pertama dan \n",
    "# kolom 1 dan 2; b adalah larik bentuk berikut (2, 2):\n",
    "# [[2 3]\n",
    "#  [6 7]]\n",
    "b = a[:2, 1:3]\n",
    "print(\"Array b: \", b)"
   ]
  },
  {
   "cell_type": "markdown",
   "metadata": {
    "nbpresent": {
     "id": "fe024b92-8f7a-4149-a936-9e0d263fc5c6"
    }
   },
   "source": [
    "Sepotong larik hanyalah tampilan ke dalam data yang sama, jadi modifikasi apa pun akan mengubah larik asli."
   ]
  },
  {
   "cell_type": "code",
   "execution_count": 56,
   "metadata": {
    "nbpresent": {
     "id": "4f3bfeae-939d-412c-b3ff-0b1b01e8d280"
    }
   },
   "outputs": [
    {
     "name": "stdout",
     "output_type": "stream",
     "text": [
      "77\n",
      "77\n"
     ]
    }
   ],
   "source": [
    "print( a[0, 1])  \n",
    "b[0, 0] = 77    # b[0, 0] is the same piece of data as a[0, 1]\n",
    "print(a[0, 1]) "
   ]
  },
  {
   "cell_type": "markdown",
   "metadata": {
    "nbpresent": {
     "id": "bfb87342-f80e-43c7-9016-10255a79e1cd"
    }
   },
   "source": [
    "Array baris tengah dapat diakses dengan dua cara.\n",
    "1. Irisan bersama dengan pengindeksan bilangan bulat akan menghasilkan serangkaian peringkat yang lebih rendah.\n",
    "2. Hanya menggunakan irisan akan menghasilkan array peringkat yang sama."
   ]
  },
  {
   "cell_type": "code",
   "execution_count": 57,
   "metadata": {
    "nbpresent": {
     "id": "74c902a3-9551-41f5-93e5-ae133ebed74d"
    }
   },
   "outputs": [
    {
     "name": "stdout",
     "output_type": "stream",
     "text": [
      "[[ 1  2  3  4]\n",
      " [ 5  6  7  8]\n",
      " [ 9 10 11 12]]\n"
     ]
    }
   ],
   "source": [
    "# rank 2 array dengan ukuran (3, 4)\n",
    "a = np.array([[1,2,3,4], [5,6,7,8], [9,10,11,12]])\n",
    "print (a)"
   ]
  },
  {
   "cell_type": "markdown",
   "metadata": {
    "nbpresent": {
     "id": "713b786a-e370-4520-a69c-816d90216b7e"
    }
   },
   "source": [
    "Dua cara mengakses data di baris tengah array.\n",
    "Pencampuran pengindeksan integer dengan irisan menghasilkan array peringkat yang lebih rendah,\n",
    "saat hanya menggunakan irisan menghasilkan larik dengan peringkat yang sama dengan\n",
    "susunan asli:"
   ]
  },
  {
   "cell_type": "code",
   "execution_count": 58,
   "metadata": {
    "nbpresent": {
     "id": "7a16811b-f3a5-4471-9e9b-655832f14951"
    }
   },
   "outputs": [
    {
     "name": "stdout",
     "output_type": "stream",
     "text": [
      "[5 6 7 8] (4,)\n",
      "[[5 6 7 8]] (1, 4)\n",
      "[[5 6 7 8]] (1, 4)\n"
     ]
    }
   ],
   "source": [
    "row_r1 = a[1, :]    # Rank 1 tampilan dari baris kedua a  \n",
    "row_r2 = a[1:2, :]  # Rank 2 tampilan dari baris kedua a\n",
    "row_r3 = a[[1], :]  # Rank 2 tampilan dari baris kedua a\n",
    "print(row_r1, row_r1.shape) \n",
    "print(row_r2, row_r2.shape)\n",
    "print(row_r3, row_r3.shape)"
   ]
  },
  {
   "cell_type": "code",
   "execution_count": 59,
   "metadata": {
    "nbpresent": {
     "id": "bc035d98-0fcd-4660-b065-191159d16a40"
    }
   },
   "outputs": [
    {
     "name": "stdout",
     "output_type": "stream",
     "text": [
      "[ 2  6 10] (3,)\n",
      "[[ 2]\n",
      " [ 6]\n",
      " [10]] (3, 1)\n"
     ]
    }
   ],
   "source": [
    "# Kita dapat membuat perbedaan yang sama ketika mengakses kolom dari sebuah array:\n",
    "col_r1 = a[:, 1]\n",
    "col_r2 = a[:, 1:2]\n",
    "print(col_r1, col_r1.shape)\n",
    "print(col_r2, col_r2.shape)"
   ]
  },
  {
   "cell_type": "code",
   "execution_count": 60,
   "metadata": {},
   "outputs": [
    {
     "data": {
      "text/plain": [
       "array([[ 2,  3],\n",
       "       [ 6,  7],\n",
       "       [10, 11]])"
      ]
     },
     "execution_count": 60,
     "metadata": {},
     "output_type": "execute_result"
    }
   ],
   "source": [
    "a[:, 1:3]"
   ]
  },
  {
   "cell_type": "code",
   "execution_count": 61,
   "metadata": {},
   "outputs": [
    {
     "name": "stdout",
     "output_type": "stream",
     "text": [
      "[[ 9 10 11 12]] (1, 4)\n",
      "[[ 3]\n",
      " [ 7]\n",
      " [11]] (3, 1)\n"
     ]
    }
   ],
   "source": [
    "row_r1 = a[2:3, :] \n",
    "print(row_r1, row_r1.shape) \n",
    "col_r2 = a[:, 2:3]\n",
    "print(col_r2, col_r2.shape)"
   ]
  },
  {
   "cell_type": "markdown",
   "metadata": {
    "nbpresent": {
     "id": "47f4996f-5d58-4bb8-9343-d6047f87ee23"
    }
   },
   "source": [
    "## Indexing Lanjut\n",
    "Slicing array dengan index\n",
    "\n",
    "Integer array indexing: Saat Anda mengindeks ke array numpy menggunakan slicing, tampilan array yang dihasilkan akan selalu menjadi subarray dari array asli. Sebaliknya, pengindeksan array iInteger memungkinkan Anda untuk membuat array acak arbitrer menggunakan data dari array lain."
   ]
  },
  {
   "cell_type": "code",
   "execution_count": 62,
   "metadata": {},
   "outputs": [
    {
     "data": {
      "text/plain": [
       "array([[1, 2],\n",
       "       [3, 4]])"
      ]
     },
     "execution_count": 62,
     "metadata": {},
     "output_type": "execute_result"
    }
   ],
   "source": [
    "a = np.array([[1,2], [3, 4]])\n",
    "a"
   ]
  },
  {
   "cell_type": "code",
   "execution_count": 63,
   "metadata": {},
   "outputs": [
    {
     "data": {
      "text/plain": [
       "(2, 2)"
      ]
     },
     "execution_count": 63,
     "metadata": {},
     "output_type": "execute_result"
    }
   ],
   "source": [
    "a.shape"
   ]
  },
  {
   "cell_type": "code",
   "execution_count": 64,
   "metadata": {},
   "outputs": [
    {
     "data": {
      "text/plain": [
       "(array([1, 2]), array([3, 4]))"
      ]
     },
     "execution_count": 64,
     "metadata": {},
     "output_type": "execute_result"
    }
   ],
   "source": [
    "a[0], a[1]"
   ]
  },
  {
   "cell_type": "code",
   "execution_count": 65,
   "metadata": {},
   "outputs": [
    {
     "data": {
      "text/plain": [
       "3"
      ]
     },
     "execution_count": 65,
     "metadata": {},
     "output_type": "execute_result"
    }
   ],
   "source": [
    "a[1,0]"
   ]
  },
  {
   "cell_type": "code",
   "execution_count": 66,
   "metadata": {},
   "outputs": [
    {
     "data": {
      "text/plain": [
       "array([[1, 2],\n",
       "       [3, 4]])"
      ]
     },
     "execution_count": 66,
     "metadata": {},
     "output_type": "execute_result"
    }
   ],
   "source": [
    "a[[0,1]]"
   ]
  },
  {
   "cell_type": "code",
   "execution_count": 67,
   "metadata": {},
   "outputs": [
    {
     "data": {
      "text/plain": [
       "array([[3, 4],\n",
       "       [1, 2]])"
      ]
     },
     "execution_count": 67,
     "metadata": {},
     "output_type": "execute_result"
    }
   ],
   "source": [
    "a[[1,0]]"
   ]
  },
  {
   "cell_type": "code",
   "execution_count": 68,
   "metadata": {},
   "outputs": [
    {
     "data": {
      "text/plain": [
       "array([[3, 4],\n",
       "       [3, 4]])"
      ]
     },
     "execution_count": 68,
     "metadata": {},
     "output_type": "execute_result"
    }
   ],
   "source": [
    "a[[1,1]]"
   ]
  },
  {
   "cell_type": "code",
   "execution_count": 69,
   "metadata": {
    "nbpresent": {
     "id": "046f7cc2-d1b1-4ecc-8954-766df8213ca8"
    }
   },
   "outputs": [
    {
     "name": "stdout",
     "output_type": "stream",
     "text": [
      "[1 4]\n",
      "[1 4]\n"
     ]
    }
   ],
   "source": [
    "# Contoh pengindeksan array integer.\n",
    "# Array yang dikembalikan akan memiliki bentuk (2,) dan\n",
    "print(a[[0, 1], [0, 1]])\n",
    "\n",
    "# Contoh pengindeksan array integer di atas setara dengan ini:\n",
    "print(np.array([a[0, 0], a[1, 1]]))"
   ]
  },
  {
   "cell_type": "code",
   "execution_count": 72,
   "metadata": {},
   "outputs": [
    {
     "data": {
      "text/plain": [
       "(array([4, 2]), array([4, 4]))"
      ]
     },
     "execution_count": 72,
     "metadata": {},
     "output_type": "execute_result"
    }
   ],
   "source": [
    "a[[1, 0], [1, 1]],  np.array([a[1, 1], a[1, 1]])"
   ]
  },
  {
   "cell_type": "code",
   "execution_count": 73,
   "metadata": {
    "nbpresent": {
     "id": "972ce72b-2967-4b00-bb8b-9bc102766963"
    }
   },
   "outputs": [
    {
     "name": "stdout",
     "output_type": "stream",
     "text": [
      "[2 2]\n",
      "[2 2]\n"
     ]
    }
   ],
   "source": [
    "# Saat menggunakan pengindeksan array integer, \n",
    "#Anda dapat menggunakan kembali elemen yang sama dari array sumber:\n",
    "print(a[[0, 0], [1, 1]])\n",
    "\n",
    "# Kesamaan dengan integer array indexing\n",
    "print(np.array([a[0, 1], a[0, 1]]))"
   ]
  },
  {
   "cell_type": "markdown",
   "metadata": {
    "nbpresent": {
     "id": "7d81d830-2cc5-4069-b32d-b30a5a451421"
    }
   },
   "source": [
    "Boolean array indexing: Ini berguna untuk memilih elemen acak dari larik, yang sering digunakan untuk memfilter elemen yang memenuhi kondisi tertentu."
   ]
  },
  {
   "cell_type": "code",
   "execution_count": 75,
   "metadata": {
    "nbpresent": {
     "id": "91f0333d-feeb-4005-b498-7e5b5b76a53c"
    }
   },
   "outputs": [
    {
     "name": "stdout",
     "output_type": "stream",
     "text": [
      "[[1 2]\n",
      " [3 4]\n",
      " [5 6]]\n",
      "[[False False]\n",
      " [ True  True]\n",
      " [ True  True]]\n",
      "[3 4 5 6]\n"
     ]
    }
   ],
   "source": [
    "a = np.array([[1,2], [3, 4], [5, 6]])\n",
    "print(a)\n",
    "# Cari element yang lebih besar dari 2\n",
    "print (a > 2)  \n",
    "\n",
    "# untuk mendapatkan nilainya\n",
    "print (a[a > 2])"
   ]
  },
  {
   "cell_type": "markdown",
   "metadata": {
    "nbpresent": {
     "id": "433cc9f3-1aa5-4495-bf07-7346f15aebc9"
    }
   },
   "source": [
    "## Operasi Matematika Pada Array"
   ]
  },
  {
   "cell_type": "markdown",
   "metadata": {
    "nbpresent": {
     "id": "e62dc2e9-f6b5-45d6-80fc-5de3666a83e5"
    }
   },
   "source": [
    "Fungsi matematika dasar tersedia sebagai operator dan juga sebagai fungsi di NumPy. Ini beroperasi secara elemen pada array."
   ]
  },
  {
   "cell_type": "code",
   "execution_count": 76,
   "metadata": {
    "nbpresent": {
     "id": "7fb9c1c4-30d7-49ee-8b5b-591c3d544dfa"
    }
   },
   "outputs": [
    {
     "name": "stdout",
     "output_type": "stream",
     "text": [
      "[[ 8 10]\n",
      " [12 14]\n",
      " [16 18]]\n",
      "[[ 8 10]\n",
      " [12 14]\n",
      " [16 18]]\n"
     ]
    }
   ],
   "source": [
    "x = np.array([[1,2],[3,4],[5,6]])\n",
    "y = np.array([[7,8],[9,10],[11,12]])\n",
    "\n",
    "# penjumlahan\n",
    "print(x + y)\n",
    "print(np.add(x, y))"
   ]
  },
  {
   "cell_type": "code",
   "execution_count": 77,
   "metadata": {
    "nbpresent": {
     "id": "e528f60e-2536-42a8-a72b-ade2687058aa"
    },
    "scrolled": true
   },
   "outputs": [
    {
     "name": "stdout",
     "output_type": "stream",
     "text": [
      "[[-6 -6]\n",
      " [-6 -6]\n",
      " [-6 -6]]\n",
      "[[-6 -6]\n",
      " [-6 -6]\n",
      " [-6 -6]]\n"
     ]
    }
   ],
   "source": [
    "# pengurangan\n",
    "print(x - y)\n",
    "print(np.subtract(x, y))"
   ]
  },
  {
   "cell_type": "code",
   "execution_count": 78,
   "metadata": {
    "nbpresent": {
     "id": "eea858e5-a2ef-46e3-bb2f-1df3d0cded03"
    }
   },
   "outputs": [
    {
     "name": "stdout",
     "output_type": "stream",
     "text": [
      "[[ 7 16]\n",
      " [27 40]\n",
      " [55 72]]\n",
      "[[ 7 16]\n",
      " [27 40]\n",
      " [55 72]]\n"
     ]
    }
   ],
   "source": [
    "# perkalian\n",
    "print (x * y)\n",
    "print (np.multiply(x, y))"
   ]
  },
  {
   "cell_type": "code",
   "execution_count": 79,
   "metadata": {
    "nbpresent": {
     "id": "8c3e98f6-7150-4a40-bf14-0b4df46c0aaf"
    }
   },
   "outputs": [
    {
     "name": "stdout",
     "output_type": "stream",
     "text": [
      "[[0.14285714 0.25      ]\n",
      " [0.33333333 0.4       ]\n",
      " [0.45454545 0.5       ]]\n",
      "[[0.14285714 0.25      ]\n",
      " [0.33333333 0.4       ]\n",
      " [0.45454545 0.5       ]]\n"
     ]
    }
   ],
   "source": [
    "# pembagian\n",
    "print (x / y)\n",
    "print (np.divide(x, y))"
   ]
  },
  {
   "cell_type": "code",
   "execution_count": 80,
   "metadata": {
    "nbpresent": {
     "id": "7f3fb607-16ec-417c-9979-159bcda1e457"
    }
   },
   "outputs": [
    {
     "name": "stdout",
     "output_type": "stream",
     "text": [
      "[[1.         1.41421356]\n",
      " [1.73205081 2.        ]\n",
      " [2.23606798 2.44948974]]\n"
     ]
    }
   ],
   "source": [
    "# akar kuadrat\n",
    "print(np.sqrt(x))"
   ]
  },
  {
   "cell_type": "markdown",
   "metadata": {
    "nbpresent": {
     "id": "d4f60268-e3b6-448c-9639-5f6c4958a920"
    }
   },
   "source": [
    "Kita dapat menggunakan fungsi \"dot\" untuk menghitung perkalian dalam vektor atau mengalikan matriks atau mengalikan vektor dengan matriks"
   ]
  },
  {
   "cell_type": "code",
   "execution_count": 81,
   "metadata": {
    "nbpresent": {
     "id": "6c3e5f50-50e7-4a13-905b-b93090dc5072"
    }
   },
   "outputs": [
    {
     "name": "stdout",
     "output_type": "stream",
     "text": [
      "219\n",
      "219\n"
     ]
    }
   ],
   "source": [
    "x = np.array([[1,2],[3,4]])\n",
    "y = np.array([[5,6],[7,8]])\n",
    "\n",
    "a = np.array([9,10])\n",
    "b = np.array([11, 12])\n",
    "\n",
    "# perkalian dot\n",
    "print(a.dot(b))\n",
    "print (np.dot(a, b))"
   ]
  },
  {
   "cell_type": "code",
   "execution_count": 82,
   "metadata": {
    "nbpresent": {
     "id": "8c46c5a1-a425-4936-b080-93c09f475220"
    }
   },
   "outputs": [
    {
     "name": "stdout",
     "output_type": "stream",
     "text": [
      "[29 67]\n",
      "[29 67]\n"
     ]
    }
   ],
   "source": [
    "# perkalian dot. Keduanya menghasilkan rank 1 array [29 67]\n",
    "print (x.dot(a))\n",
    "print (np.dot(x, a))"
   ]
  },
  {
   "cell_type": "code",
   "execution_count": 83,
   "metadata": {},
   "outputs": [
    {
     "data": {
      "text/plain": [
       "((2, 2), (2, 2), (2,), (2,))"
      ]
     },
     "execution_count": 83,
     "metadata": {},
     "output_type": "execute_result"
    }
   ],
   "source": [
    "x.shape, y.shape, a.shape, b.shape"
   ]
  },
  {
   "cell_type": "code",
   "execution_count": 84,
   "metadata": {
    "nbpresent": {
     "id": "358eb01a-0148-4ad3-9b68-cbbeb2282569"
    }
   },
   "outputs": [
    {
     "name": "stdout",
     "output_type": "stream",
     "text": [
      "[[19 22]\n",
      " [43 50]]\n",
      "[[19 22]\n",
      " [43 50]]\n"
     ]
    }
   ],
   "source": [
    "# perkalian dot. Keduanya menghasilkan rank 2 array\n",
    "print (x.dot(y))\n",
    "print (np.dot(x, y))"
   ]
  },
  {
   "cell_type": "markdown",
   "metadata": {
    "nbpresent": {
     "id": "a0d5e047-fc9c-42e0-a396-a210308f471f"
    }
   },
   "source": [
    "Numpy menyediakan banyak fungsi yang berguna untuk melakukan perhitungan pada array, salah satu yang paling berguna adalah `sum`:"
   ]
  },
  {
   "cell_type": "code",
   "execution_count": 85,
   "metadata": {
    "nbpresent": {
     "id": "4c34bbfd-97bb-494c-9189-ce600fe5f116"
    }
   },
   "outputs": [
    {
     "name": "stdout",
     "output_type": "stream",
     "text": [
      "10\n",
      "[4 6]\n",
      "[3 7]\n"
     ]
    }
   ],
   "source": [
    "x = np.array([[1,2],[3,4]])\n",
    "\n",
    "# Jumlah semua element\n",
    "print (np.sum(x))  \n",
    "# Jumlah masing-masing kolom\n",
    "print (np.sum(x, axis=0))  \n",
    "# Jumlah masing-masing baris\n",
    "print (np.sum(x, axis=1))  "
   ]
  },
  {
   "cell_type": "markdown",
   "metadata": {
    "nbpresent": {
     "id": "78469a44-6c27-49cb-9106-4f15e9681c9f"
    }
   },
   "source": [
    "Transpose adalah salah satu operasi umum yang sering dilakukan pada matriks, yang dapat dicapai dengan menggunakan atribut T dari objek array."
   ]
  },
  {
   "cell_type": "code",
   "execution_count": 86,
   "metadata": {
    "nbpresent": {
     "id": "a862df8a-3169-4a14-9c55-29533e181337"
    }
   },
   "outputs": [
    {
     "name": "stdout",
     "output_type": "stream",
     "text": [
      "[[1 2]\n",
      " [3 4]]\n",
      "[[1 3]\n",
      " [2 4]]\n"
     ]
    }
   ],
   "source": [
    "print (x)\n",
    "print (x.T)"
   ]
  },
  {
   "cell_type": "code",
   "execution_count": 87,
   "metadata": {
    "nbpresent": {
     "id": "779894e7-ae42-4839-88f8-f348b22228e6"
    }
   },
   "outputs": [
    {
     "name": "stdout",
     "output_type": "stream",
     "text": [
      "[1 2 3]\n",
      "[1 2 3]\n"
     ]
    }
   ],
   "source": [
    "v = np.array([1,2,3])\n",
    "print (v) \n",
    "print (v.T)"
   ]
  },
  {
   "cell_type": "markdown",
   "metadata": {
    "nbpresent": {
     "id": "4c9487c6-9411-4584-b570-e2d77cd1da1a"
    }
   },
   "source": [
    "## Broadcasting"
   ]
  },
  {
   "cell_type": "markdown",
   "metadata": {
    "nbpresent": {
     "id": "2ad37eb1-b0db-40c6-8541-f04165042b8f"
    }
   },
   "source": [
    "\n",
    "Broadcasting memungkinkan operasi aritmatika dilakukan antara array berbentuk berbeda. Mari kita lihat contoh sederhana menambahkan vektor konstan ke setiap baris matriks."
   ]
  },
  {
   "cell_type": "code",
   "execution_count": 88,
   "metadata": {
    "nbpresent": {
     "id": "5879da2b-98c9-436d-b1bc-03affedd5cb0"
    }
   },
   "outputs": [
    {
     "name": "stdout",
     "output_type": "stream",
     "text": [
      "(3, 3) (3,)\n",
      "[[ 2  2  4]\n",
      " [ 5  5  7]\n",
      " [ 8  8 10]]\n"
     ]
    }
   ],
   "source": [
    "# buat matrik\n",
    "a = np.array([[1,2,3], [4,5,6], [7,8,9]])\n",
    "# buat vektor\n",
    "v = np.array([1, 0, 1])\n",
    "\n",
    "print(a.shape, v.shape)\n",
    "\n",
    "# buat matrik kosong dengan ukuran yang sama dengan matrik a\n",
    "b = np.empty_like(a)   \n",
    "\n",
    "# Tambah vektor v ke masing-masing baris matrik\n",
    "for i in range(3):\n",
    "    b[i, :] = a[i, :] + v\n",
    "\n",
    "print(b)"
   ]
  },
  {
   "cell_type": "markdown",
   "metadata": {
    "nbpresent": {
     "id": "819c4d6e-26a1-47a5-813e-3fa87ff172cb"
    }
   },
   "source": [
    "Jika kita harus melakukan operasi di atas pada matriks besar melalui loop di Python bisa menjadi lambat. Mari kita lihat pendekatan alternatif."
   ]
  },
  {
   "cell_type": "code",
   "execution_count": 89,
   "metadata": {
    "nbpresent": {
     "id": "3f8d22b3-0a41-4aa5-9480-e1b6c62d23bf"
    }
   },
   "outputs": [
    {
     "name": "stdout",
     "output_type": "stream",
     "text": [
      "[[1 0 1]\n",
      " [1 0 1]\n",
      " [1 0 1]]\n"
     ]
    }
   ],
   "source": [
    "# Stack 3 salinan dari v di atas satu sama lain\n",
    "vv = np.tile(v, (3, 1))  \n",
    "print (vv)"
   ]
  },
  {
   "cell_type": "code",
   "execution_count": 90,
   "metadata": {
    "nbpresent": {
     "id": "1d3c07fd-2f8c-4314-9f39-258f14c0b9d0"
    }
   },
   "outputs": [
    {
     "name": "stdout",
     "output_type": "stream",
     "text": [
      "[[ 2  2  4]\n",
      " [ 5  5  7]\n",
      " [ 8  8 10]]\n"
     ]
    }
   ],
   "source": [
    "# tambah x dan vv \n",
    "b = a + vv  \n",
    "print (b)"
   ]
  },
  {
   "cell_type": "markdown",
   "metadata": {
    "nbpresent": {
     "id": "755ca526-39d6-4992-bfa4-e2583dd34d4b"
    }
   },
   "source": [
    "Numpy broadcasting memungkinkan kita untuk melakukan perhitungan ini tanpa benar-benar membuat banyak salinan v"
   ]
  },
  {
   "cell_type": "code",
   "execution_count": 91,
   "metadata": {
    "nbpresent": {
     "id": "bae5f5e4-18ae-42c9-acd6-0c456dac894b"
    }
   },
   "outputs": [
    {
     "name": "stdout",
     "output_type": "stream",
     "text": [
      "[[ 2  2  4]\n",
      " [ 5  5  7]\n",
      " [ 8  8 10]]\n"
     ]
    }
   ],
   "source": [
    "a = np.array([[1,2,3], [4,5,6], [7,8,9]])\n",
    "v = np.array([1, 0, 1])\n",
    "\n",
    "# Tambah v ke masing2x baris dengan broadcasting\n",
    "b = a + v  \n",
    "print (b)"
   ]
  },
  {
   "cell_type": "markdown",
   "metadata": {
    "nbpresent": {
     "id": "aec532bc-5376-4fe6-bd56-4adc535a581d"
    }
   },
   "source": [
    "Mari kita lihat beberapa aplikasi broadcasting:"
   ]
  },
  {
   "cell_type": "code",
   "execution_count": 92,
   "metadata": {
    "nbpresent": {
     "id": "083c798c-534a-4c5c-aa53-5ab1293c83d1"
    }
   },
   "outputs": [
    {
     "name": "stdout",
     "output_type": "stream",
     "text": [
      "[[ 4  5]\n",
      " [ 8 10]\n",
      " [12 15]]\n"
     ]
    }
   ],
   "source": [
    "# Hitung hasil kali luar vektor\n",
    "# v dengan ukuran (3,)\n",
    "v = np.array([1,2,3])\n",
    "# w dengan ukuran (2,)\n",
    "w = np.array([4,5]) \n",
    "\n",
    "# Untuk menghitung produk luar, pertama-tama kita bentuk ulang v menjadi \n",
    "# vektor kolom bentuk (3, 1); kita kemudian dapat broadcast terhadap w \n",
    "# untuk menghasilkan output bentuk (3, 2), yang merupakan produk luar dari v dan w:\n",
    "\n",
    "print (np.reshape(v, (3, 1)) * w)"
   ]
  },
  {
   "cell_type": "code",
   "execution_count": 93,
   "metadata": {
    "nbpresent": {
     "id": "4a704419-4f0a-4f1a-8caa-0e3ca8374fec"
    }
   },
   "outputs": [
    {
     "name": "stdout",
     "output_type": "stream",
     "text": [
      "[[2 4 6]\n",
      " [5 7 9]]\n"
     ]
    }
   ],
   "source": [
    "# Add a vector to each row of a matrix\n",
    "# Tambahkan vektor ke setiap baris matrik\n",
    "x = np.array([[1,2,3], [4,5,6]])\n",
    "\n",
    "# x memiliki bentuk (2, 3) dan v memiliki bentuk (3,) sehingga broadcast ke (2, 3)\n",
    "\n",
    "print (x + v)"
   ]
  },
  {
   "cell_type": "code",
   "execution_count": 94,
   "metadata": {
    "nbpresent": {
     "id": "99536da4-49d0-42ed-ba7b-45a111879c94"
    }
   },
   "outputs": [
    {
     "name": "stdout",
     "output_type": "stream",
     "text": [
      "[[ 5  6  7]\n",
      " [ 9 10 11]]\n"
     ]
    }
   ],
   "source": [
    "# Tambahkan vektor ke setiap kolom matriks\n",
    "# x berbentuk (2, 3) dan w berbentuk (2,).\n",
    "# Jika kita transpose x maka x memiliki bentuk (3, 2) dan \n",
    "# dapat broadcast ke w untuk menghasilkan hasil bentuk (3, 2); \n",
    "# mentranspos hasil ini menghasilkan hasil akhir bentuk (2, 3) \n",
    "# yang merupakan matriks x dengan vektor w ditambahkan ke setiap kolom\n",
    "\n",
    "print ((x.T + w).T)"
   ]
  },
  {
   "cell_type": "code",
   "execution_count": 95,
   "metadata": {
    "nbpresent": {
     "id": "b5890ca5-855e-4fce-9e9c-745476b4fcf9"
    }
   },
   "outputs": [
    {
     "name": "stdout",
     "output_type": "stream",
     "text": [
      "[[ 5  6  7]\n",
      " [ 9 10 11]]\n"
     ]
    }
   ],
   "source": [
    "# Solusi lain adalah dengan membentuk ulang w menjadi vektor baris bentuk (2, 1);\n",
    "# kemudian kita dapat broadcast secara langsung terhadap x \n",
    "# untuk menghasilkan keluaran yang sama.\n",
    "\n",
    "print (x + np.reshape(w, (2, 1)))"
   ]
  },
  {
   "cell_type": "code",
   "execution_count": 96,
   "metadata": {
    "nbpresent": {
     "id": "e6259eab-7a88-4eea-a563-e7956fec2563"
    }
   },
   "outputs": [
    {
     "name": "stdout",
     "output_type": "stream",
     "text": [
      "[[ 2  4  6]\n",
      " [ 8 10 12]]\n"
     ]
    }
   ],
   "source": [
    "# Kalikan matrik dengan konstanta:\n",
    "# x berbentuk (2, 3). Numpy memperlakukan skalar sebagai array bentuk ();\n",
    "# ini dapat di broadcast bersama untuk membentuk (2, 3), menghasilkan larik berikut:\n",
    "\n",
    "print (x * 2)"
   ]
  },
  {
   "cell_type": "markdown",
   "metadata": {
    "nbpresent": {
     "id": "3fa21e0e-6809-4cef-b41c-187e102a902f"
    }
   },
   "source": [
    "Broadcasting biasanya membuat kode Anda lebih ringkas dan lebih cepat, jadi Anda harus berusaha untuk menggunakannya jika memungkinkan."
   ]
  },
  {
   "cell_type": "markdown",
   "metadata": {
    "nbpresent": {
     "id": "0433d554-c0f9-45e9-bb2f-7b072456643d"
    }
   },
   "source": [
    "Informasi selengkapnya [numpy reference](http://docs.scipy.org/doc/numpy/reference/) "
   ]
  },
  {
   "cell_type": "markdown",
   "metadata": {},
   "source": [
    "## I/O File"
   ]
  },
  {
   "cell_type": "code",
   "execution_count": 97,
   "metadata": {},
   "outputs": [
    {
     "name": "stdout",
     "output_type": "stream",
     "text": [
      "[[0.32506257 0.72516694 0.86293972]\n",
      " [0.19042731 0.49191994 0.92660087]\n",
      " [0.93161258 0.31801449 0.97828995]]\n",
      "[[0.43096621 0.37369919 0.45970859]\n",
      " [0.15318157 0.96518202 0.9967589 ]\n",
      " [0.31279254 0.24309633 0.0859656 ]]\n"
     ]
    }
   ],
   "source": [
    "a = np.random.random((3,3)) \n",
    "b = np.random.random((3,3)) \n",
    "print(a)\n",
    "print(b)"
   ]
  },
  {
   "cell_type": "code",
   "execution_count": 98,
   "metadata": {},
   "outputs": [
    {
     "name": "stdout",
     "output_type": "stream",
     "text": [
      "saved data into files\n"
     ]
    }
   ],
   "source": [
    "# simpan file\n",
    "np.save('my_array', a)\n",
    "np.savez('array.npz', a, b,a,a)\n",
    "print('saved data into files')"
   ]
  },
  {
   "cell_type": "code",
   "execution_count": 99,
   "metadata": {},
   "outputs": [
    {
     "data": {
      "text/plain": [
       "array([[0.32506257, 0.72516694, 0.86293972],\n",
       "       [0.19042731, 0.49191994, 0.92660087],\n",
       "       [0.93161258, 0.31801449, 0.97828995]])"
      ]
     },
     "execution_count": 99,
     "metadata": {},
     "output_type": "execute_result"
    }
   ],
   "source": [
    "# load file\n",
    "a1 = np.load('my_array.npy')\n",
    "a1"
   ]
  },
  {
   "cell_type": "code",
   "execution_count": 100,
   "metadata": {},
   "outputs": [
    {
     "name": "stdout",
     "output_type": "stream",
     "text": [
      "['arr_0', 'arr_1', 'arr_2', 'arr_3']\n"
     ]
    }
   ],
   "source": [
    "npz = np.load('array.npz')\n",
    "print(npz.files)\n"
   ]
  },
  {
   "cell_type": "code",
   "execution_count": 101,
   "metadata": {},
   "outputs": [
    {
     "name": "stdout",
     "output_type": "stream",
     "text": [
      "[[0.32506257 0.72516694 0.86293972]\n",
      " [0.19042731 0.49191994 0.92660087]\n",
      " [0.93161258 0.31801449 0.97828995]]\n",
      "[[0.43096621 0.37369919 0.45970859]\n",
      " [0.15318157 0.96518202 0.9967589 ]\n",
      " [0.31279254 0.24309633 0.0859656 ]]\n"
     ]
    }
   ],
   "source": [
    "print(npz['arr_0'])\n",
    "print(npz['arr_1'])"
   ]
  },
  {
   "cell_type": "code",
   "execution_count": 102,
   "metadata": {},
   "outputs": [
    {
     "name": "stdout",
     "output_type": "stream",
     "text": [
      "[[0.32506257 0.72516694 0.86293972]\n",
      " [0.19042731 0.49191994 0.92660087]\n",
      " [0.93161258 0.31801449 0.97828995]]\n",
      "[[0.43096621 0.37369919 0.45970859]\n",
      " [0.15318157 0.96518202 0.9967589 ]\n",
      " [0.31279254 0.24309633 0.0859656 ]]\n"
     ]
    }
   ],
   "source": [
    "# simpan dengan nama array\n",
    "np.savez('array2.npz', a=a, b=b)\n",
    "npz2 = np.load('array2.npz')\n",
    "print(npz2['a'])\n",
    "print(npz2['b'])"
   ]
  },
  {
   "cell_type": "code",
   "execution_count": null,
   "metadata": {},
   "outputs": [],
   "source": []
  }
 ],
 "metadata": {
  "anaconda-cloud": {},
  "kernelspec": {
   "display_name": "Python 3",
   "language": "python",
   "name": "python3"
  },
  "language_info": {
   "codemirror_mode": {
    "name": "ipython",
    "version": 3
   },
   "file_extension": ".py",
   "mimetype": "text/x-python",
   "name": "python",
   "nbconvert_exporter": "python",
   "pygments_lexer": "ipython3",
   "version": "3.8.8"
  },
  "toc": {
   "base_numbering": 1,
   "nav_menu": {
    "height": "277px",
    "width": "278px"
   },
   "number_sections": true,
   "sideBar": true,
   "skip_h1_title": false,
   "title_cell": "Table of Contents",
   "title_sidebar": "Contents",
   "toc_cell": false,
   "toc_position": {
    "height": "calc(100% - 180px)",
    "left": "10px",
    "top": "150px",
    "width": "222px"
   },
   "toc_section_display": true,
   "toc_window_display": true
  },
  "toc-autonumbering": true
 },
 "nbformat": 4,
 "nbformat_minor": 4
}
