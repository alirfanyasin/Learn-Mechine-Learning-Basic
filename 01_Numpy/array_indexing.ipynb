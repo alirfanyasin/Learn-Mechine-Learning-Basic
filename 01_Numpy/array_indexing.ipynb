{
 "cells": [
  {
   "cell_type": "markdown",
   "id": "58ced45f-e9bc-4902-b5ba-dc8e8b35432b",
   "metadata": {
    "tags": []
   },
   "source": [
    "# Array Indexing"
   ]
  },
  {
   "cell_type": "markdown",
   "id": "81af8332-c0e4-4719-9b1e-8ba26f138a13",
   "metadata": {},
   "source": [
    "dapat diindeks menggunakan sintaks standar Python x[obj], di mana x adalah array dan obj pilihannya. Ada berbagai jenis pengindeksan yang tersedia tergantung pada objeknya: pengindeksan dasar, pengindeksan lanjutan, dan akses lapangan"
   ]
  },
  {
   "cell_type": "code",
   "execution_count": null,
   "id": "a8006da0-953b-458c-8cf8-2236562950b2",
   "metadata": {},
   "outputs": [],
   "source": [
    "# Install Numpy\n",
    "!pip install numpy"
   ]
  },
  {
   "cell_type": "code",
   "execution_count": null,
   "id": "5ee45588-e28d-4cd7-875e-4458afcaf014",
   "metadata": {},
   "outputs": [],
   "source": [
    "import numpy as np"
   ]
  },
  {
   "cell_type": "code",
   "execution_count": null,
   "id": "235761e6-2cc3-4b65-93ab-97f56f403e33",
   "metadata": {},
   "outputs": [],
   "source": [
    "np.__version__"
   ]
  },
  {
   "cell_type": "markdown",
   "id": "062d94c5-9712-403c-b04f-25bde08c3c2e",
   "metadata": {},
   "source": [
    "## Basic Indexing"
   ]
  },
  {
   "cell_type": "markdown",
   "id": "dd3d4da9-1dba-40ec-ae66-e9e2a261fcaa",
   "metadata": {},
   "source": [
    "### Single Element Indexing"
   ]
  },
  {
   "cell_type": "markdown",
   "id": "577bac8a-65a5-49ad-b50a-a3dabb5df751",
   "metadata": {},
   "source": [
    "\n",
    "Pengindeksan elemen tunggal berfungsi persis seperti itu untuk rangkaian Python standar lainnya. Ini berbasis 0, dan menerima indeks negatif untuk pengindeksan dari akhir array."
   ]
  },
  {
   "cell_type": "code",
   "execution_count": null,
   "id": "4657e669-e00e-4e3c-92a6-17dbb94ad86d",
   "metadata": {
    "tags": []
   },
   "outputs": [],
   "source": [
    "# Mendefinisikan sebuah array dimulai dari 2 ke 10\n",
    "arr = np.arange(2, 10)\n",
    "print(arr)\n",
    "\n",
    "print(arr[3]) # mengambil index ke 3\n",
    "print(arr[-2]) # mengambil index dari belakang sebanyak 2 slot"
   ]
  },
  {
   "cell_type": "code",
   "execution_count": null,
   "id": "0a4196d8-6875-4a35-b8a9-b012d1acfe19",
   "metadata": {
    "tags": []
   },
   "outputs": [],
   "source": [
    "x = np.arange(10) # array 1 dimensi\n",
    "print(x)\n",
    "\n",
    "x.shape = (2, 5) # sekarang x menjadi 2 dimensi (menjadi 2x5)\n",
    "print(x)\n",
    "\n",
    "print(x[1,3]) # mengambil index baris ke 1 kolom ke 3 hasilnya 8\n",
    "\n",
    "print(x[1, -1]) # mengambil index baris ke 1 kolom terakhir index ke (10 - 1) = 9 hasilnya 9\n",
    "\n",
    "print(x[0]) # hanya mengambil index baris ke 0\n",
    "\n",
    "print(x[0][2]) # mengambil index baris ke 0 kolom ke 2"
   ]
  },
  {
   "cell_type": "markdown",
   "id": "df52200c-cb9d-4fbe-9d88-da20a6e6a3a9",
   "metadata": {},
   "source": [
    "### Basic Slicing"
   ]
  },
  {
   "cell_type": "code",
   "execution_count": 17,
   "id": "b3d5cac0-9a96-43e9-a9bc-5d21bc0f9801",
   "metadata": {
    "tags": []
   },
   "outputs": [
    {
     "data": {
      "text/plain": [
       "array([ 5,  6,  7,  8,  9, 10, 11, 12, 13])"
      ]
     },
     "execution_count": 17,
     "metadata": {},
     "output_type": "execute_result"
    }
   ],
   "source": [
    "arr = np.array([5,6,7,8,9,10,11,12,13])\n",
    "arr"
   ]
  },
  {
   "cell_type": "code",
   "execution_count": 19,
   "id": "ee90ddb0-998d-4802-bf81-8a6829d79ebe",
   "metadata": {
    "tags": []
   },
   "outputs": [
    {
     "data": {
      "text/plain": [
       "array([ 6,  8, 10])"
      ]
     },
     "execution_count": 19,
     "metadata": {},
     "output_type": "execute_result"
    }
   ],
   "source": [
    "arr[1:7:2] # [start : stop : step]"
   ]
  },
  {
   "cell_type": "code",
   "execution_count": 22,
   "id": "0c161c8c-890c-4fb8-8e21-e821c981be05",
   "metadata": {
    "tags": []
   },
   "outputs": [
    {
     "data": {
      "text/plain": [
       "array([5, 6, 7, 8, 9])"
      ]
     },
     "execution_count": 22,
     "metadata": {},
     "output_type": "execute_result"
    }
   ],
   "source": [
    "x = np.array([5,6,7,8,9])\n",
    "x"
   ]
  },
  {
   "cell_type": "code",
   "execution_count": 23,
   "id": "ee8a7b73-5922-4a19-bdaf-7ad5515aea59",
   "metadata": {
    "tags": []
   },
   "outputs": [
    {
     "name": "stdout",
     "output_type": "stream",
     "text": [
      "[8 9]\n",
      "[9 8 7]\n",
      "[]\n",
      "[7 8 9]\n"
     ]
    }
   ],
   "source": [
    "print(x[-2:5])\n",
    "print(x[-1:1:-1])\n",
    "print(x[-1:1:1])\n",
    "print(x[-3:5:1])"
   ]
  },
  {
   "cell_type": "code",
   "execution_count": 26,
   "id": "6504cb90-5457-4a3a-878d-ee8c341cb103",
   "metadata": {
    "tags": []
   },
   "outputs": [
    {
     "name": "stdout",
     "output_type": "stream",
     "text": [
      "[5 6 7 8]\n",
      "[7 8 9]\n"
     ]
    }
   ],
   "source": [
    "print(x[:4])\n",
    "print(x[-3:])"
   ]
  },
  {
   "cell_type": "markdown",
   "id": "02589aff-d176-447e-a855-aad338d38a77",
   "metadata": {},
   "source": [
    "### Slicing and Striding"
   ]
  },
  {
   "cell_type": "markdown",
   "id": "f18770cc-aa1f-4400-be74-e389d21e64e9",
   "metadata": {},
   "source": [
    "Pengirisan dasar memperluas konsep dasar pemotongan Python ke N dimensi. Pengirisan dasar terjadi ketika obj adalah objek irisan (dibangun dengan notasi start:stop:step di dalam tanda kurung), bilangan bulat, atau tupel objek irisan dan bilangan bulat. Objek elipsis dan sumbu baru juga dapat diselingi dengan objek ini."
   ]
  },
  {
   "cell_type": "code",
   "execution_count": null,
   "id": "835e4f32-ef2c-49cc-a09a-23aa93493823",
   "metadata": {
    "tags": []
   },
   "outputs": [],
   "source": [
    "arr = np.array([0, 1, 2, 3, 4, 5, 6, 7, 8, 9])\n",
    "print(arr)\n",
    "\n",
    "print(arr[2:8]) # (start, stop)\n",
    "\n",
    "print(arr[1:7:2]) # (start, stop, step)\n",
    "\n",
    "print(arr[-2:10]) # artinya dari index ke 8 ke 10 - 1\n",
    "\n",
    "print(arr[5:]) # mengambil index mulai dari 5 dan seterusnya\n",
    "\n",
    "print(arr[:5]) # mengambil index mulai dari awal sampai index ke 5 - 1"
   ]
  },
  {
   "cell_type": "code",
   "execution_count": null,
   "id": "f7e8d1ed-13c4-47a7-8147-21a133040a3e",
   "metadata": {
    "tags": []
   },
   "outputs": [],
   "source": [
    "arr1 = np.array([[[1],[2],[3]], [[4],[5],[6]]])\n",
    "print(arr1)\n",
    "\n",
    "print(arr1.shape)\n",
    "\n",
    "print(arr1[1:2])"
   ]
  },
  {
   "cell_type": "markdown",
   "id": "5afdf99c-67a1-40ad-aeab-25a187d180a0",
   "metadata": {},
   "source": [
    "### Dimensional Indexing Tools"
   ]
  },
  {
   "cell_type": "markdown",
   "id": "e2932314-3a9e-4a48-93a9-a57371b6c7c0",
   "metadata": {},
   "source": [
    "Ada beberapa alat untuk memfasilitasi pencocokan bentuk array dengan ekspresi dan tugas dengan mudah.\n",
    "\n",
    "Ellipsis bertambah hingga jumlah : objek yang dibutuhkan tupel seleksi untuk mengindeks semua dimensi. Dalam kebanyakan kasus, ini berarti panjang tupel pilihan yang diperluas adalah x.ndim. Mungkin hanya ada satu elipsis. Dari contoh di atas:"
   ]
  },
  {
   "cell_type": "code",
   "execution_count": 27,
   "id": "7746dede-a714-4fae-ad6e-fb9173146cf8",
   "metadata": {
    "tags": []
   },
   "outputs": [
    {
     "data": {
      "text/plain": [
       "array([[1, 2, 3],\n",
       "       [4, 5, 6]])"
      ]
     },
     "execution_count": 27,
     "metadata": {},
     "output_type": "execute_result"
    }
   ],
   "source": [
    "x = np.array([[[1],[2],[3]], [[4],[5],[6]]])\n",
    "x[..., 0]"
   ]
  },
  {
   "cell_type": "code",
   "execution_count": null,
   "id": "1ca19357-5ed7-4a53-80e5-03ae73fdbb3f",
   "metadata": {
    "tags": []
   },
   "outputs": [],
   "source": [
    "x[:, :, 0]"
   ]
  },
  {
   "cell_type": "markdown",
   "id": "c0fa713d-0e93-4574-abbc-de6095029457",
   "metadata": {
    "tags": []
   },
   "source": [
    "## Field Access"
   ]
  },
  {
   "cell_type": "code",
   "execution_count": null,
   "id": "c7fa54b4-987e-42dd-b106-c3f1fab4547a",
   "metadata": {
    "tags": []
   },
   "outputs": [],
   "source": [
    "x = np.zeros((3,3), dtype=[('a' , np.int32), ('b', np.float64, (3,3))])\n",
    "\n",
    "print(\"x[a].shape : \", x['a'].shape)\n",
    "print(\"x[a].dtype : \", x['a'].dtype)\n",
    "\n",
    "print(\"x[b].shape : \", x['b'].shape)\n",
    "print(\"x[b].dtype : \", x['b'].dtype)"
   ]
  },
  {
   "cell_type": "code",
   "execution_count": null,
   "id": "5d219d29-4bb8-492e-a4db-337c4126225f",
   "metadata": {
    "tags": []
   },
   "outputs": [],
   "source": [
    "x"
   ]
  },
  {
   "cell_type": "code",
   "execution_count": null,
   "id": "ed90d912-4357-40fb-b49f-8617d4c95bc7",
   "metadata": {
    "tags": []
   },
   "outputs": [],
   "source": [
    "x['a']"
   ]
  },
  {
   "cell_type": "code",
   "execution_count": null,
   "id": "5c987e73-b5fe-4ab7-b613-42af3481504f",
   "metadata": {
    "tags": []
   },
   "outputs": [],
   "source": [
    "x['b']"
   ]
  },
  {
   "cell_type": "code",
   "execution_count": null,
   "id": "b456354e-1503-4d4f-8637-1df3e7c26d6e",
   "metadata": {
    "tags": []
   },
   "outputs": [],
   "source": [
    "y = np.zeros((1,2), dtype=[('a', np.int32), ('b', np.float64, (2,3))])\n",
    "\n",
    "print(\"y['a'].shape : \", y['a'].shape)\n",
    "print(\"y['a'].dtype : \", y['a'].dtype)\n",
    "\n",
    "print(\"y['b'].shape : \", y['b'].shape)\n",
    "print(\"y['b'].dtype : \", y['b'].shape)"
   ]
  },
  {
   "cell_type": "code",
   "execution_count": null,
   "id": "00b38df3-675a-4821-b4ea-d207b0b1f4b6",
   "metadata": {
    "tags": []
   },
   "outputs": [],
   "source": [
    "y"
   ]
  },
  {
   "cell_type": "code",
   "execution_count": null,
   "id": "6ecf03c2-c881-45dc-b1c0-652f54eaf332",
   "metadata": {
    "tags": []
   },
   "outputs": [],
   "source": [
    "y.shape"
   ]
  },
  {
   "cell_type": "markdown",
   "id": "45885c64-5154-4241-a412-b9c58d1482db",
   "metadata": {},
   "source": [
    "## Advanced Indexing"
   ]
  },
  {
   "cell_type": "code",
   "execution_count": 30,
   "id": "c7f3245a-2811-4d00-956f-ca45c3cc1057",
   "metadata": {
    "tags": []
   },
   "outputs": [
    {
     "data": {
      "text/plain": [
       "array([[1, 2],\n",
       "       [3, 4]])"
      ]
     },
     "execution_count": 30,
     "metadata": {},
     "output_type": "execute_result"
    }
   ],
   "source": [
    "arr = np.array([[1,2], [3,4]])\n",
    "arr"
   ]
  },
  {
   "cell_type": "code",
   "execution_count": 31,
   "id": "f1debdb4-1397-4731-87b1-3c7fdda3aefd",
   "metadata": {
    "tags": []
   },
   "outputs": [
    {
     "data": {
      "text/plain": [
       "(2, 2)"
      ]
     },
     "execution_count": 31,
     "metadata": {},
     "output_type": "execute_result"
    }
   ],
   "source": [
    "arr.shape"
   ]
  },
  {
   "cell_type": "code",
   "execution_count": 32,
   "id": "b5ee9da9-0c4f-485c-aefa-ab3ff408e4d6",
   "metadata": {
    "tags": []
   },
   "outputs": [
    {
     "data": {
      "text/plain": [
       "(array([1, 2]), array([3, 4]))"
      ]
     },
     "execution_count": 32,
     "metadata": {},
     "output_type": "execute_result"
    }
   ],
   "source": [
    "arr[0], arr[1]"
   ]
  },
  {
   "cell_type": "code",
   "execution_count": 33,
   "id": "5a2a2316-7bac-45b7-821f-227c656b3a5c",
   "metadata": {
    "tags": []
   },
   "outputs": [
    {
     "data": {
      "text/plain": [
       "3"
      ]
     },
     "execution_count": 33,
     "metadata": {},
     "output_type": "execute_result"
    }
   ],
   "source": [
    "arr[1,0]"
   ]
  },
  {
   "cell_type": "code",
   "execution_count": 34,
   "id": "25fabaf6-a212-4bf2-b390-72938f61eac6",
   "metadata": {
    "tags": []
   },
   "outputs": [
    {
     "data": {
      "text/plain": [
       "array([[1, 2],\n",
       "       [3, 4]])"
      ]
     },
     "execution_count": 34,
     "metadata": {},
     "output_type": "execute_result"
    }
   ],
   "source": [
    "arr[[0,1]]"
   ]
  },
  {
   "cell_type": "code",
   "execution_count": 35,
   "id": "8ecd15c3-3ddb-417b-b7d5-4618e6ccc913",
   "metadata": {
    "tags": []
   },
   "outputs": [
    {
     "data": {
      "text/plain": [
       "array([[3, 4],\n",
       "       [1, 2]])"
      ]
     },
     "execution_count": 35,
     "metadata": {},
     "output_type": "execute_result"
    }
   ],
   "source": [
    "arr[[1,0]]"
   ]
  },
  {
   "cell_type": "code",
   "execution_count": 36,
   "id": "4b06f4d2-42d4-470c-be2e-c891f9c14f9e",
   "metadata": {
    "tags": []
   },
   "outputs": [
    {
     "data": {
      "text/plain": [
       "array([[3, 4],\n",
       "       [3, 4]])"
      ]
     },
     "execution_count": 36,
     "metadata": {},
     "output_type": "execute_result"
    }
   ],
   "source": [
    "arr[[1,1]]"
   ]
  },
  {
   "cell_type": "code",
   "execution_count": 37,
   "id": "897a6956-2f73-4d75-9f16-d2f01fc4f2c4",
   "metadata": {
    "tags": []
   },
   "outputs": [
    {
     "name": "stdout",
     "output_type": "stream",
     "text": [
      "[1 4]\n",
      "[1 4]\n"
     ]
    }
   ],
   "source": [
    "print(arr[[0,1], [0,1]])\n",
    "\n",
    "print(np.array([arr[0, 0], arr[1,1]]))"
   ]
  },
  {
   "cell_type": "code",
   "execution_count": 40,
   "id": "8bd03519-0cd3-4df0-be29-f5b629bc685d",
   "metadata": {
    "tags": []
   },
   "outputs": [
    {
     "data": {
      "text/plain": [
       "(array([4, 2]), array([4, 4]))"
      ]
     },
     "execution_count": 40,
     "metadata": {},
     "output_type": "execute_result"
    }
   ],
   "source": [
    "arr[[1, 0], [1,1]], np.array([arr[1,1], arr[1,1]])"
   ]
  },
  {
   "cell_type": "code",
   "execution_count": 41,
   "id": "36b69acf-47ce-4665-9187-8e4acea5723a",
   "metadata": {
    "tags": []
   },
   "outputs": [
    {
     "name": "stdout",
     "output_type": "stream",
     "text": [
      "[2 2]\n",
      "[2 2]\n"
     ]
    }
   ],
   "source": [
    "print(arr[[0,0], [1,1]])\n",
    "\n",
    "print(np.array([arr[0,1], arr[0,1]]))"
   ]
  },
  {
   "cell_type": "code",
   "execution_count": 45,
   "id": "3d1ea897-9b55-4399-aff7-27bc01ef973d",
   "metadata": {
    "tags": []
   },
   "outputs": [
    {
     "name": "stdout",
     "output_type": "stream",
     "text": [
      "[[1 2]\n",
      " [3 4]\n",
      " [5 6]]\n",
      "[[False False]\n",
      " [ True  True]\n",
      " [ True  True]]\n",
      "[3 4 5 6]\n"
     ]
    }
   ],
   "source": [
    "a = np.array([[1,2], [3,4], [5,6]])\n",
    "\n",
    "print(a)\n",
    "\n",
    "print(a > 2)\n",
    "\n",
    "print(a[a > 2])"
   ]
  }
 ],
 "metadata": {
  "kernelspec": {
   "display_name": "Python 3 (ipykernel)",
   "language": "python",
   "name": "python3"
  },
  "language_info": {
   "codemirror_mode": {
    "name": "ipython",
    "version": 3
   },
   "file_extension": ".py",
   "mimetype": "text/x-python",
   "name": "python",
   "nbconvert_exporter": "python",
   "pygments_lexer": "ipython3",
   "version": "3.11.2"
  }
 },
 "nbformat": 4,
 "nbformat_minor": 5
}
