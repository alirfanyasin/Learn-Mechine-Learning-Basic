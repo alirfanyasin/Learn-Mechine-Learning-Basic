{
 "cells": [
  {
   "cell_type": "markdown",
   "id": "8026b152-11f8-4660-8fa0-e4d75ab252ce",
   "metadata": {},
   "source": [
    "# Numpy"
   ]
  },
  {
   "cell_type": "code",
   "execution_count": 1,
   "id": "6bbaeabc-9c5d-4624-af62-1383fc2b8dee",
   "metadata": {},
   "outputs": [
    {
     "name": "stdout",
     "output_type": "stream",
     "text": [
      "Requirement already satisfied: numpy in c:\\users\\irfan yasin\\appdata\\local\\programs\\python\\python311\\lib\\site-packages (1.24.3)\n"
     ]
    }
   ],
   "source": [
    "# Install Numpy\n",
    "!pip install numpy"
   ]
  },
  {
   "cell_type": "code",
   "execution_count": 2,
   "id": "58c6429d-b3a7-48a1-b0ee-9f3ab26f30d8",
   "metadata": {},
   "outputs": [],
   "source": [
    "import numpy as np"
   ]
  },
  {
   "cell_type": "code",
   "execution_count": 3,
   "id": "7eedae06-4bd2-45f9-b734-1996ea8dabb3",
   "metadata": {},
   "outputs": [
    {
     "data": {
      "text/plain": [
       "'1.24.3'"
      ]
     },
     "execution_count": 3,
     "metadata": {},
     "output_type": "execute_result"
    }
   ],
   "source": [
    "np.__version__"
   ]
  },
  {
   "cell_type": "markdown",
   "id": "872b3e24-dd1f-4baf-9106-15070e8281b4",
   "metadata": {},
   "source": [
    "# Array"
   ]
  },
  {
   "cell_type": "markdown",
   "id": "4a05743c-136a-4f82-8ccb-f0890ea61c56",
   "metadata": {},
   "source": [
    "### Membuat array rank 1 atau ID"
   ]
  },
  {
   "cell_type": "code",
   "execution_count": 12,
   "id": "ca22f79e-039e-4e31-b9ce-be8fdab27dcf",
   "metadata": {
    "tags": []
   },
   "outputs": [
    {
     "name": "stdout",
     "output_type": "stream",
     "text": [
      "<class 'numpy.ndarray'>\n",
      "1\n",
      "(3,)\n",
      "3\n",
      "0\n",
      "1\n",
      "2\n",
      "[5 1 2]\n"
     ]
    }
   ],
   "source": [
    "a = np.array([0,1,2])\n",
    "print(type(a))\n",
    "\n",
    "# Menampilkan dimensi Array\n",
    "#b = a.shape # outputya = tuples\n",
    "\n",
    "print(a.ndim) # menghitung dimensi\n",
    "print(a.shape) # menghitung ukuran dari dimensi misal 2x3\n",
    "print(a.size) # menghitung banyaknya data\n",
    "\n",
    "print(a[0])\n",
    "print(a[1])\n",
    "print(a[2])\n",
    "\n",
    "# Mengganti nilai dari array\n",
    "a[0] = 5\n",
    "print(a)"
   ]
  },
  {
   "cell_type": "code",
   "execution_count": 13,
   "id": "9bd1874d-323f-4a11-8fcf-e97c46085832",
   "metadata": {
    "tags": []
   },
   "outputs": [
    {
     "data": {
      "text/plain": [
       "array(['Jakarta', 'Surabaya', 'Malang'], dtype='<U8')"
      ]
     },
     "execution_count": 13,
     "metadata": {},
     "output_type": "execute_result"
    }
   ],
   "source": [
    "# Membuat array string\n",
    "a = np.array([\"Jakarta\", \"Surabaya\", \"Malang\"])\n",
    "a"
   ]
  },
  {
   "cell_type": "markdown",
   "id": "d9a9ab45-0da1-48b7-bab0-dccfcde58656",
   "metadata": {},
   "source": [
    "### Membuat array rank 2 atau dua dimensi (2D)"
   ]
  },
  {
   "cell_type": "code",
   "execution_count": 14,
   "id": "34881020-7171-48b3-8fa1-baa37586d916",
   "metadata": {
    "tags": []
   },
   "outputs": [
    {
     "data": {
      "text/plain": [
       "array([[0, 1, 2],\n",
       "       [3, 4, 5]])"
      ]
     },
     "execution_count": 14,
     "metadata": {},
     "output_type": "execute_result"
    }
   ],
   "source": [
    "arr = np.array([[0,1,2], [3,4,5]])\n",
    "arr"
   ]
  },
  {
   "cell_type": "markdown",
   "id": "26de05db-219d-4544-8237-08245c4214e0",
   "metadata": {},
   "source": [
    "Mengambil jumlah data dari array dua dimensi"
   ]
  },
  {
   "cell_type": "code",
   "execution_count": 15,
   "id": "617b562e-0bfd-4f25-a2a7-8fbaab28cc82",
   "metadata": {
    "tags": []
   },
   "outputs": [
    {
     "data": {
      "text/plain": [
       "(2, 3)"
      ]
     },
     "execution_count": 15,
     "metadata": {},
     "output_type": "execute_result"
    }
   ],
   "source": [
    "# mengambil jumlah baris dan kolom. contoh = (2, 3)\n",
    "arr.shape "
   ]
  },
  {
   "cell_type": "markdown",
   "id": "0157b445-a413-4a59-9885-2e3a42a5e1c4",
   "metadata": {},
   "source": [
    "Mengambil data dari array dua dimensi"
   ]
  },
  {
   "cell_type": "code",
   "execution_count": 16,
   "id": "8e6fbb36-25f6-40a5-a899-7f2559ff203c",
   "metadata": {
    "tags": []
   },
   "outputs": [
    {
     "name": "stdout",
     "output_type": "stream",
     "text": [
      "5\n",
      "1\n"
     ]
    }
   ],
   "source": [
    "# mengambil data dari baris ke 1 dan kolom ke 2\n",
    "a = arr[1, 2]\n",
    "print(a) # 5\n",
    "\n",
    "# mengambil data dari baris ke 0 dan kolom ke 1\n",
    "b = arr[0, 1] \n",
    "print(b) # 1\n"
   ]
  },
  {
   "cell_type": "markdown",
   "id": "9bc503a0-ae8d-4f0f-8610-e23434ebd723",
   "metadata": {},
   "source": [
    "# NumPy Array"
   ]
  },
  {
   "cell_type": "markdown",
   "id": "adfcc54b-53ba-44cf-8cc0-b92e683fed78",
   "metadata": {},
   "source": [
    "### Membuat array 1 dimensi (1D)"
   ]
  },
  {
   "cell_type": "code",
   "execution_count": 17,
   "id": "5ddf5d09-5722-48e7-8f5c-068a115a4adb",
   "metadata": {
    "tags": []
   },
   "outputs": [
    {
     "data": {
      "text/plain": [
       "array([0, 1, 2, 3, 4, 5, 6, 7, 8, 9])"
      ]
     },
     "execution_count": 17,
     "metadata": {},
     "output_type": "execute_result"
    }
   ],
   "source": [
    "arr1 = np.arange(10) # membuat array 1D secara berurutan\n",
    "arr1"
   ]
  },
  {
   "cell_type": "code",
   "execution_count": 19,
   "id": "1777f151-a0cb-450f-b588-053e0cf7d096",
   "metadata": {
    "tags": []
   },
   "outputs": [
    {
     "data": {
      "text/plain": [
       "array([2, 3, 4, 5, 6, 7, 8, 9])"
      ]
     },
     "execution_count": 19,
     "metadata": {},
     "output_type": "execute_result"
    }
   ],
   "source": [
    "arr2 = np.arange(2, 10, dtype=float) # (start, end) dan mengubah tipe datanya menjadi float\n",
    "arr2"
   ]
  },
  {
   "cell_type": "code",
   "execution_count": 22,
   "id": "e0208ab4-b110-475b-9c16-ef6593ed1b73",
   "metadata": {
    "tags": []
   },
   "outputs": [
    {
     "data": {
      "text/plain": [
       "array([2. , 2.1, 2.2, 2.3, 2.4, 2.5, 2.6, 2.7, 2.8, 2.9])"
      ]
     },
     "execution_count": 22,
     "metadata": {},
     "output_type": "execute_result"
    }
   ],
   "source": [
    "arr3 = np.arange(2, 3, 0.1) # (start, stop, step)\n",
    "arr3"
   ]
  },
  {
   "cell_type": "code",
   "execution_count": 23,
   "id": "7d65767f-17c0-47e5-bd23-d2ca97562a75",
   "metadata": {
    "tags": []
   },
   "outputs": [
    {
     "data": {
      "text/plain": [
       "array([1. , 1.6, 2.2, 2.8, 3.4, 4. ])"
      ]
     },
     "execution_count": 23,
     "metadata": {},
     "output_type": "execute_result"
    }
   ],
   "source": [
    "arr4 = np.linspace(1., 4., 6) # (start, stop, step)\n",
    "arr4"
   ]
  },
  {
   "cell_type": "markdown",
   "id": "4b5ef11a-6aa4-46f4-a808-76f06673e57a",
   "metadata": {
    "tags": []
   },
   "source": [
    "### Membuat array 2 dimensi (2D)"
   ]
  },
  {
   "cell_type": "code",
   "execution_count": null,
   "id": "55c80333-b501-4dbb-a808-82cbef59e56f",
   "metadata": {
    "tags": []
   },
   "outputs": [],
   "source": [
    "# Membuat array dengan 3 baris dan 3 kolom (3x3)\n",
    "arr1 = np.eye(3)\n",
    "arr1"
   ]
  },
  {
   "cell_type": "code",
   "execution_count": null,
   "id": "8123af47-be91-4514-a543-8dec272e773a",
   "metadata": {
    "tags": []
   },
   "outputs": [],
   "source": [
    "# Membuat array dengan 2 baris dan 4 kolom (2x4)\n",
    "arr2 = np.eye(2,4)\n",
    "arr2"
   ]
  },
  {
   "cell_type": "code",
   "execution_count": null,
   "id": "0ac3093f-e022-4d11-aa27-64aa8682a259",
   "metadata": {
    "tags": []
   },
   "outputs": [],
   "source": [
    "# Mendefinisikan array 2D persegi dengan nilai yang diberikan sepanjang diagonal\n",
    "arr3 = np.diag([1,2,3])\n",
    "arr3"
   ]
  },
  {
   "cell_type": "code",
   "execution_count": null,
   "id": "d52994f7-f708-4448-99af-4250bd8f029a",
   "metadata": {
    "tags": []
   },
   "outputs": [],
   "source": [
    "# Mendefinisikan array 2D persegi dengan nilai yang di berikan secara diagonal dimulai dari baris ke 1 kolom ke 3 [0,2]\n",
    "arr4 = np.diag([1,2,3], 2) \n",
    "arr4"
   ]
  },
  {
   "cell_type": "code",
   "execution_count": null,
   "id": "7f74041e-f594-4bc4-a4f7-fad59e9d94de",
   "metadata": {
    "tags": []
   },
   "outputs": [],
   "source": [
    "arr5 = np.diag([[2,3], [5,7]]) # mengambil data pertama di baris pertama dan data terakhir di kolom terakhir\n",
    "arr5"
   ]
  },
  {
   "cell_type": "code",
   "execution_count": 24,
   "id": "955796d5-8561-4b5d-916d-2fac6d98691e",
   "metadata": {
    "tags": []
   },
   "outputs": [
    {
     "data": {
      "text/plain": [
       "array([[ 8,  4,  2,  1],\n",
       "       [27,  9,  3,  1],\n",
       "       [64, 16,  4,  1]])"
      ]
     },
     "execution_count": 24,
     "metadata": {},
     "output_type": "execute_result"
    }
   ],
   "source": [
    "# Matriks Vandermonde\n",
    "# vander(x, n) atau (baris, jumlah kolom)\n",
    "# n - 1\n",
    "arr6 = np.vander([2,3,4], 4)\n",
    "arr6\n"
   ]
  },
  {
   "cell_type": "markdown",
   "id": "e684e016-3f50-469d-9844-fd780f7bcf82",
   "metadata": {},
   "source": [
    "##### Cara kerjanya : "
   ]
  },
  {
   "cell_type": "markdown",
   "id": "a5caafb2-5613-4954-b541-ef2bc34ca84f",
   "metadata": {},
   "source": [
    "Untuk elemen input 2: <br>\n",
    "n = 4 <br>\n",
    "n - 1 = 3 <br>\n",
    "- 2^3 = 8\n",
    "- 2^2 = 4\n",
    "- 2^1 = 2\n",
    "- 2^0 = 1\n",
    "\n",
    "\n",
    "Untuk elemen input 3: <br>\n",
    "- 3^3 = 27\n",
    "- 3^2 = 9\n",
    "- 3^1 = 3\n",
    "- 3^0 = 1\n",
    "\n",
    "Untuk elemen input 4: <br>\n",
    "- 4^3 = 64\n",
    "- 4^2 = 16\n",
    "- 4^1 = 4\n",
    "- 4^0 = 1"
   ]
  },
  {
   "cell_type": "code",
   "execution_count": null,
   "id": "a81a4f1d-92bc-4b2c-a45a-0bc08526eb71",
   "metadata": {
    "tags": []
   },
   "outputs": [],
   "source": [
    "# Menggabungkan dengan linspace\n",
    "np.vander(np.linspace(0, 2, 5), 2)\n",
    "\n",
    "# artinya \n",
    "# vander(x, n)\n",
    "# vander(np.linspace(start, stop, step), n)"
   ]
  },
  {
   "cell_type": "markdown",
   "id": "dd174f73-a323-48c9-b6e5-a8631ce82fe5",
   "metadata": {
    "tags": []
   },
   "source": [
    "# General ndarray Creation Functions"
   ]
  },
  {
   "cell_type": "markdown",
   "id": "edefc820-f84c-4730-acfa-590c4e06f679",
   "metadata": {
    "tags": []
   },
   "source": [
    "### Zero Matrix"
   ]
  },
  {
   "cell_type": "code",
   "execution_count": 25,
   "id": "ac67abe4-12b5-4de5-8787-e73784927697",
   "metadata": {
    "tags": []
   },
   "outputs": [
    {
     "data": {
      "text/plain": [
       "array([[0., 0., 0.],\n",
       "       [0., 0., 0.]])"
      ]
     },
     "execution_count": 25,
     "metadata": {},
     "output_type": "execute_result"
    }
   ],
   "source": [
    "# Mendefinisikan matriks 2x3 (2 baris, 3 kolom)\n",
    "# zeros((row, col))\n",
    "arr1 = np.zeros((2, 3))\n",
    "arr1"
   ]
  },
  {
   "cell_type": "code",
   "execution_count": 28,
   "id": "3616d4b3-8b4d-44c9-b5a5-b18f24417cc2",
   "metadata": {
    "tags": []
   },
   "outputs": [
    {
     "data": {
      "text/plain": [
       "array([[[0., 0., 0.],\n",
       "        [0., 0., 0.],\n",
       "        [0., 0., 0.]],\n",
       "\n",
       "       [[0., 0., 0.],\n",
       "        [0., 0., 0.],\n",
       "        [0., 0., 0.]]])"
      ]
     },
     "execution_count": 28,
     "metadata": {},
     "output_type": "execute_result"
    }
   ],
   "source": [
    "### Mendefinisikan array 3D dengan bentuk (2, 3, 2) \n",
    "# zeros((layer, row, col))\n",
    "arr2 = np.zeros((2, 3 , 3))\n",
    "arr2"
   ]
  },
  {
   "cell_type": "markdown",
   "id": "6f58f80b-bdbe-4658-a704-335b2ebcf21d",
   "metadata": {},
   "source": [
    "### One Matrix"
   ]
  },
  {
   "cell_type": "code",
   "execution_count": 29,
   "id": "62a8909c-57b6-428c-9fb7-a8ddbbf60eb2",
   "metadata": {
    "tags": []
   },
   "outputs": [
    {
     "data": {
      "text/plain": [
       "array([[1., 1., 1.],\n",
       "       [1., 1., 1.]])"
      ]
     },
     "execution_count": 29,
     "metadata": {},
     "output_type": "execute_result"
    }
   ],
   "source": [
    "# Mendefinisikan matriks 2x3 (2 baris, 3 kolom)\n",
    "# ones((2, 3))\n",
    "\n",
    "arr3 = np.ones((2,3))\n",
    "arr3"
   ]
  },
  {
   "cell_type": "code",
   "execution_count": 30,
   "id": "3e28cb8e-04fb-4d8f-ab6f-3ae610eb0256",
   "metadata": {
    "tags": []
   },
   "outputs": [
    {
     "data": {
      "text/plain": [
       "array([[[1., 1.],\n",
       "        [1., 1.],\n",
       "        [1., 1.]],\n",
       "\n",
       "       [[1., 1.],\n",
       "        [1., 1.],\n",
       "        [1., 1.]],\n",
       "\n",
       "       [[1., 1.],\n",
       "        [1., 1.],\n",
       "        [1., 1.]]])"
      ]
     },
     "execution_count": 30,
     "metadata": {},
     "output_type": "execute_result"
    }
   ],
   "source": [
    "# Mendefinisikan array 3D dengan bentuk (3, 3, 2) \n",
    "# ones((layer, row, col))\n",
    "arr4 = np.ones((3, 3, 2))\n",
    "arr4"
   ]
  },
  {
   "cell_type": "markdown",
   "id": "2f2aff32-cd4a-40c1-990a-4adc68580725",
   "metadata": {},
   "source": [
    "### Custom Matrix Value"
   ]
  },
  {
   "cell_type": "code",
   "execution_count": 32,
   "id": "232571da-808b-4a58-966d-07950529c687",
   "metadata": {
    "tags": []
   },
   "outputs": [
    {
     "data": {
      "text/plain": [
       "array([[3, 3, 3, 3],\n",
       "       [3, 3, 3, 3],\n",
       "       [3, 3, 3, 3]])"
      ]
     },
     "execution_count": 32,
     "metadata": {},
     "output_type": "execute_result"
    }
   ],
   "source": [
    "# Mendefinisikan matriks full dengan nilai custom\n",
    "# full((row, col), n)\n",
    "arr1 = np.full((3, 4), 3)\n",
    "arr1"
   ]
  },
  {
   "cell_type": "markdown",
   "id": "eca9e13c-9792-4fe8-8069-a8bc8303ba74",
   "metadata": {
    "tags": []
   },
   "source": [
    "### Random Matrix"
   ]
  },
  {
   "cell_type": "code",
   "execution_count": 36,
   "id": "45183ab9-e0af-4be1-b839-8a75adc36715",
   "metadata": {
    "tags": []
   },
   "outputs": [
    {
     "data": {
      "text/plain": [
       "array([[0.79208749, 0.88464515],\n",
       "       [0.65514177, 0.61735866],\n",
       "       [0.76841493, 0.23150973]])"
      ]
     },
     "execution_count": 36,
     "metadata": {},
     "output_type": "execute_result"
    }
   ],
   "source": [
    "# Mendefinisikan array 3x3 dengan nilai acak\n",
    "arr1 = np.random.random((3,2))\n",
    "arr1"
   ]
  },
  {
   "cell_type": "markdown",
   "id": "6fe4be87-32de-4803-aa66-504ee239ffff",
   "metadata": {
    "tags": []
   },
   "source": [
    "### Indices"
   ]
  },
  {
   "cell_type": "code",
   "execution_count": 39,
   "id": "6356b4a4-df26-48a6-b6c1-72e61c46391c",
   "metadata": {
    "tags": []
   },
   "outputs": [
    {
     "data": {
      "text/plain": [
       "array([[[0, 0],\n",
       "        [1, 1],\n",
       "        [2, 2],\n",
       "        [3, 3]],\n",
       "\n",
       "       [[0, 1],\n",
       "        [0, 1],\n",
       "        [0, 1],\n",
       "        [0, 1]]])"
      ]
     },
     "execution_count": 39,
     "metadata": {},
     "output_type": "execute_result"
    }
   ],
   "source": [
    "# Array yang dihasilkan oleh np.indices memiliki bentuk (2, 3, 3) yang sesuai dengan dimensi baris, kolom, dan \"salinan\" dari array asli.\n",
    "arr = np.indices((4,2))\n",
    "arr"
   ]
  },
  {
   "cell_type": "markdown",
   "id": "c9613bb1-9464-4f52-a50e-ce4b92cdeb17",
   "metadata": {
    "tags": []
   },
   "source": [
    "### Convert List to Array"
   ]
  },
  {
   "cell_type": "code",
   "execution_count": 40,
   "id": "0133d9a2-c06c-4071-8097-586960f4eaf0",
   "metadata": {
    "tags": []
   },
   "outputs": [
    {
     "name": "stdout",
     "output_type": "stream",
     "text": [
      "[1, 2, 3]\n",
      "[1 2 3]\n"
     ]
    }
   ],
   "source": [
    "# List\n",
    "arr = [1,2,3]\n",
    "print(arr)\n",
    "\n",
    "# Convert to array\n",
    "arr = np.array([1,2,3])\n",
    "print(arr)"
   ]
  }
 ],
 "metadata": {
  "kernelspec": {
   "display_name": "Python 3 (ipykernel)",
   "language": "python",
   "name": "python3"
  },
  "language_info": {
   "codemirror_mode": {
    "name": "ipython",
    "version": 3
   },
   "file_extension": ".py",
   "mimetype": "text/x-python",
   "name": "python",
   "nbconvert_exporter": "python",
   "pygments_lexer": "ipython3",
   "version": "3.11.2"
  }
 },
 "nbformat": 4,
 "nbformat_minor": 5
}
