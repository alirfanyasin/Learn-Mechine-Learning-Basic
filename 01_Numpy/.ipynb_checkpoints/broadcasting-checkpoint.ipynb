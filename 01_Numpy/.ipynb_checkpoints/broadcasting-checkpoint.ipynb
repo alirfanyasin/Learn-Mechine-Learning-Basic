{
 "cells": [
  {
   "cell_type": "markdown",
   "id": "68bbc0da-f1cc-4f0c-8613-549a12bff958",
   "metadata": {},
   "source": [
    "# Broadcasting"
   ]
  },
  {
   "cell_type": "markdown",
   "id": "d201c148-eb65-4c7f-bb95-86d25b91aa08",
   "metadata": {},
   "source": [
    "Broadcasting memungkinkan operasi aritmatika dilakukan antara array berbentuk berbeda. Mari kita lihat contoh sederhana menambahkan vektor konstan ke setiap baris matriks"
   ]
  },
  {
   "cell_type": "code",
   "execution_count": null,
   "id": "43e4bb4e-7c6f-4fe2-bcce-556f822bf55a",
   "metadata": {
    "tags": []
   },
   "outputs": [],
   "source": [
    "# Instalation Numpy\n",
    "!pip install numpy"
   ]
  },
  {
   "cell_type": "code",
   "execution_count": null,
   "id": "b16f987f-bd8e-4fe0-9000-31a9ad431503",
   "metadata": {
    "tags": []
   },
   "outputs": [],
   "source": [
    "import numpy as np"
   ]
  },
  {
   "cell_type": "code",
   "execution_count": null,
   "id": "5dbc6b76-989f-4ecf-9f5a-d0874ade41ff",
   "metadata": {
    "tags": []
   },
   "outputs": [],
   "source": [
    "np.__version__"
   ]
  },
  {
   "cell_type": "code",
   "execution_count": null,
   "id": "ed5e8d53-bd76-40b2-b689-f9028d2ab032",
   "metadata": {
    "tags": []
   },
   "outputs": [],
   "source": [
    "# Buat matriks\n",
    "m = np.array([[1,2,3], [4,5,6], [7,8,9]])\n",
    "\n",
    "# Buat vektor\n",
    "v = np.array([1,0,1])"
   ]
  },
  {
   "cell_type": "code",
   "execution_count": null,
   "id": "8db916f1-a0bb-4395-98cd-5de00896f1d0",
   "metadata": {
    "tags": []
   },
   "outputs": [],
   "source": [
    "m, v"
   ]
  },
  {
   "cell_type": "code",
   "execution_count": null,
   "id": "d8c87930-cb38-49d4-8fbd-04c37b96d077",
   "metadata": {
    "tags": []
   },
   "outputs": [],
   "source": [
    "m.shape, v.shape"
   ]
  },
  {
   "cell_type": "code",
   "execution_count": null,
   "id": "48b0d4b1-d3e4-48bf-888b-c993eb10da99",
   "metadata": {
    "tags": []
   },
   "outputs": [],
   "source": [
    "# Buat matriks kosong dengan ukuran yang sama dengan matriks m\n",
    "b = np.empty_like(m)\n",
    "b"
   ]
  },
  {
   "cell_type": "code",
   "execution_count": null,
   "id": "27607a76-dfa6-4ce2-88a4-6cb5557c246a",
   "metadata": {
    "tags": []
   },
   "outputs": [],
   "source": [
    "# Tambah vektor v ke masing-masing baris matriks\n",
    "for i in range(3) : \n",
    "    b[i, :] = m[i, :] + v\n",
    "\n",
    "b"
   ]
  },
  {
   "cell_type": "code",
   "execution_count": 11,
   "id": "c5528034-3234-4041-a6aa-26eab72d0ab0",
   "metadata": {},
   "outputs": [],
   "source": [
    "x = np.array([1,2,3])\n",
    "y = np.array([4,5,6])"
   ]
  },
  {
   "cell_type": "code",
   "execution_count": 12,
   "id": "464cd834-e932-4bf0-92d8-d6dc5e7d3958",
   "metadata": {},
   "outputs": [
    {
     "data": {
      "text/plain": [
       "array([5, 7, 9])"
      ]
     },
     "execution_count": 12,
     "metadata": {},
     "output_type": "execute_result"
    }
   ],
   "source": [
    "x + y"
   ]
  },
  {
   "cell_type": "code",
   "execution_count": 15,
   "id": "92406f0e-4781-4fa9-a2e3-ae2e75259fb0",
   "metadata": {
    "tags": []
   },
   "outputs": [],
   "source": [
    "a = np.array([[1,2,3], [4,5,6]])\n",
    "b = np.array([1,2,3])"
   ]
  },
  {
   "cell_type": "markdown",
   "id": "917fe0be-faaf-40fa-a2bb-b95e239ced28",
   "metadata": {},
   "source": [
    "### Cara Kerjanya"
   ]
  },
  {
   "cell_type": "markdown",
   "id": "5b1c6693-d253-47e0-a618-88355f5040eb",
   "metadata": {},
   "source": [
    "##### Pendekatan Matematika Matriks"
   ]
  },
  {
   "cell_type": "markdown",
   "id": "be48bd0b-a726-4958-b7f8-bff3bf794916",
   "metadata": {},
   "source": [
    "Operasi = a + b <br>\n",
    "\n",
    "| 1 2 3 | + | 1 2 3 | <br>\n",
    "| 4 5 6 | <br>\n",
    "\n",
    "\n",
    "Caranya <br>\n",
    "\n",
    "(1 + 1), (2 + 2), (3 + 3) <br>\n",
    "(4 + 1), (5 + 2), (6 + 3) <br><br>\n",
    "\n",
    "\n",
    "Hasilnya <br>\n",
    "\n",
    "| 2 4 6 | <br>\n",
    "| 5 7 9 |\n",
    "        \n"
   ]
  },
  {
   "cell_type": "code",
   "execution_count": null,
   "id": "bece4d0f-be45-4d7c-9dcb-06781d7ce45d",
   "metadata": {},
   "outputs": [],
   "source": []
  },
  {
   "cell_type": "code",
   "execution_count": 17,
   "id": "3c7fee20-d924-43e3-a9c6-045d54cb6e02",
   "metadata": {
    "tags": []
   },
   "outputs": [
    {
     "data": {
      "text/plain": [
       "((2, 3), (3,))"
      ]
     },
     "execution_count": 17,
     "metadata": {},
     "output_type": "execute_result"
    }
   ],
   "source": [
    "a.shape, b.shape"
   ]
  },
  {
   "cell_type": "code",
   "execution_count": 18,
   "id": "de032c5a-c050-4e37-b7de-e6f07923ce39",
   "metadata": {
    "tags": []
   },
   "outputs": [
    {
     "data": {
      "text/plain": [
       "array([[2, 4, 6],\n",
       "       [5, 7, 9]])"
      ]
     },
     "execution_count": 18,
     "metadata": {},
     "output_type": "execute_result"
    }
   ],
   "source": [
    "a + b"
   ]
  },
  {
   "cell_type": "markdown",
   "id": "2ed21c06-de81-4417-8d6b-604533855af9",
   "metadata": {},
   "source": [
    "Jika kita harus melakukan operasi diatas pada matriks yang besar melalui loop di Python bisa menjadi lambat. Mari kita lihat pendekatan alternatif."
   ]
  },
  {
   "cell_type": "code",
   "execution_count": 19,
   "id": "7454e02d-b470-4acf-9cd1-d70c0119ae6e",
   "metadata": {
    "tags": []
   },
   "outputs": [
    {
     "data": {
      "text/plain": [
       "array([[1, 0, 1],\n",
       "       [1, 0, 1],\n",
       "       [1, 0, 1]])"
      ]
     },
     "execution_count": 19,
     "metadata": {},
     "output_type": "execute_result"
    }
   ],
   "source": [
    "# Stack 3 salinan dari v diatas satu sama lain\n",
    "\n",
    "vv = np.tile(v, (3,1))\n",
    "vv"
   ]
  },
  {
   "cell_type": "code",
   "execution_count": 21,
   "id": "0f2a2e87-e995-4e1c-ba49-1ca7f9c09d37",
   "metadata": {
    "tags": []
   },
   "outputs": [
    {
     "data": {
      "text/plain": [
       "array([[ 2,  2,  4],\n",
       "       [ 5,  5,  7],\n",
       "       [ 8,  8, 10]])"
      ]
     },
     "execution_count": 21,
     "metadata": {},
     "output_type": "execute_result"
    }
   ],
   "source": [
    "# Tambah m dan vv\n",
    "b = m + vv\n",
    "b"
   ]
  },
  {
   "cell_type": "markdown",
   "id": "5270d73f-5a5a-4a1d-b60d-9ce46545c146",
   "metadata": {},
   "source": [
    "Numpy broadcasting memungkinkan kita untuk melakukan perhitungan ini tanpa benar-benar membuat banyak salinan v"
   ]
  },
  {
   "cell_type": "code",
   "execution_count": 23,
   "id": "022b3339-cc01-4979-8c3b-f2d57c7eaa77",
   "metadata": {
    "tags": []
   },
   "outputs": [],
   "source": [
    "arr1 = np.array([[1,2,3], [4,5,6], [7,8,9]])\n",
    "arr2 = np.array([1,0,1])"
   ]
  },
  {
   "cell_type": "code",
   "execution_count": 24,
   "id": "693095a9-2bf3-4e5b-9414-6c9f32cf38bf",
   "metadata": {
    "tags": []
   },
   "outputs": [
    {
     "data": {
      "text/plain": [
       "array([[ 2,  2,  4],\n",
       "       [ 5,  5,  7],\n",
       "       [ 8,  8, 10]])"
      ]
     },
     "execution_count": 24,
     "metadata": {},
     "output_type": "execute_result"
    }
   ],
   "source": [
    "arr1 + arr2"
   ]
  },
  {
   "cell_type": "markdown",
   "id": "93dd27d4-f8d1-4c37-be6f-a4653772095b",
   "metadata": {},
   "source": [
    "Mari kita lihat beberapa aplikasi broadcasting:"
   ]
  },
  {
   "cell_type": "code",
   "execution_count": 27,
   "id": "0419b44d-90c8-41f0-8ec3-78864175f8b1",
   "metadata": {
    "tags": []
   },
   "outputs": [
    {
     "ename": "ValueError",
     "evalue": "cannot reshape array of size 3 into shape (3,2)",
     "output_type": "error",
     "traceback": [
      "\u001b[1;31m---------------------------------------------------------------------------\u001b[0m",
      "\u001b[1;31mValueError\u001b[0m                                Traceback (most recent call last)",
      "Cell \u001b[1;32mIn[27], line 12\u001b[0m\n\u001b[0;32m      7\u001b[0m w \u001b[38;5;241m=\u001b[39m np\u001b[38;5;241m.\u001b[39marray([\u001b[38;5;241m4\u001b[39m,\u001b[38;5;241m5\u001b[39m])\n\u001b[0;32m      9\u001b[0m \u001b[38;5;66;03m# Untuk menghitung produk luar, pertama kita bentuk ulang v menjadi vektor kolom berbentuk (3,1)\u001b[39;00m\n\u001b[0;32m     10\u001b[0m \u001b[38;5;66;03m# kemudian kita dapat broadcast terhadap w untuk menghasilkan output bentuk (3,2) yang merupakan \u001b[39;00m\n\u001b[0;32m     11\u001b[0m \u001b[38;5;66;03m# produk luar dari v dan w\u001b[39;00m\n\u001b[1;32m---> 12\u001b[0m \u001b[38;5;28mprint\u001b[39m(\u001b[43mnp\u001b[49m\u001b[38;5;241;43m.\u001b[39;49m\u001b[43mreshape\u001b[49m\u001b[43m(\u001b[49m\u001b[43mv\u001b[49m\u001b[43m,\u001b[49m\u001b[43m \u001b[49m\u001b[43m(\u001b[49m\u001b[38;5;241;43m3\u001b[39;49m\u001b[43m,\u001b[49m\u001b[38;5;241;43m2\u001b[39;49m\u001b[43m)\u001b[49m\u001b[43m)\u001b[49m \u001b[38;5;241m*\u001b[39m w)\n",
      "File \u001b[1;32m<__array_function__ internals>:200\u001b[0m, in \u001b[0;36mreshape\u001b[1;34m(*args, **kwargs)\u001b[0m\n",
      "File \u001b[1;32m~\\AppData\\Local\\Programs\\Python\\Python311\\Lib\\site-packages\\numpy\\core\\fromnumeric.py:298\u001b[0m, in \u001b[0;36mreshape\u001b[1;34m(a, newshape, order)\u001b[0m\n\u001b[0;32m    198\u001b[0m \u001b[38;5;129m@array_function_dispatch\u001b[39m(_reshape_dispatcher)\n\u001b[0;32m    199\u001b[0m \u001b[38;5;28;01mdef\u001b[39;00m \u001b[38;5;21mreshape\u001b[39m(a, newshape, order\u001b[38;5;241m=\u001b[39m\u001b[38;5;124m'\u001b[39m\u001b[38;5;124mC\u001b[39m\u001b[38;5;124m'\u001b[39m):\n\u001b[0;32m    200\u001b[0m \u001b[38;5;250m    \u001b[39m\u001b[38;5;124;03m\"\"\"\u001b[39;00m\n\u001b[0;32m    201\u001b[0m \u001b[38;5;124;03m    Gives a new shape to an array without changing its data.\u001b[39;00m\n\u001b[0;32m    202\u001b[0m \n\u001b[1;32m   (...)\u001b[0m\n\u001b[0;32m    296\u001b[0m \u001b[38;5;124;03m           [5, 6]])\u001b[39;00m\n\u001b[0;32m    297\u001b[0m \u001b[38;5;124;03m    \"\"\"\u001b[39;00m\n\u001b[1;32m--> 298\u001b[0m     \u001b[38;5;28;01mreturn\u001b[39;00m \u001b[43m_wrapfunc\u001b[49m\u001b[43m(\u001b[49m\u001b[43ma\u001b[49m\u001b[43m,\u001b[49m\u001b[43m \u001b[49m\u001b[38;5;124;43m'\u001b[39;49m\u001b[38;5;124;43mreshape\u001b[39;49m\u001b[38;5;124;43m'\u001b[39;49m\u001b[43m,\u001b[49m\u001b[43m \u001b[49m\u001b[43mnewshape\u001b[49m\u001b[43m,\u001b[49m\u001b[43m \u001b[49m\u001b[43morder\u001b[49m\u001b[38;5;241;43m=\u001b[39;49m\u001b[43morder\u001b[49m\u001b[43m)\u001b[49m\n",
      "File \u001b[1;32m~\\AppData\\Local\\Programs\\Python\\Python311\\Lib\\site-packages\\numpy\\core\\fromnumeric.py:57\u001b[0m, in \u001b[0;36m_wrapfunc\u001b[1;34m(obj, method, *args, **kwds)\u001b[0m\n\u001b[0;32m     54\u001b[0m     \u001b[38;5;28;01mreturn\u001b[39;00m _wrapit(obj, method, \u001b[38;5;241m*\u001b[39margs, \u001b[38;5;241m*\u001b[39m\u001b[38;5;241m*\u001b[39mkwds)\n\u001b[0;32m     56\u001b[0m \u001b[38;5;28;01mtry\u001b[39;00m:\n\u001b[1;32m---> 57\u001b[0m     \u001b[38;5;28;01mreturn\u001b[39;00m \u001b[43mbound\u001b[49m\u001b[43m(\u001b[49m\u001b[38;5;241;43m*\u001b[39;49m\u001b[43margs\u001b[49m\u001b[43m,\u001b[49m\u001b[43m \u001b[49m\u001b[38;5;241;43m*\u001b[39;49m\u001b[38;5;241;43m*\u001b[39;49m\u001b[43mkwds\u001b[49m\u001b[43m)\u001b[49m\n\u001b[0;32m     58\u001b[0m \u001b[38;5;28;01mexcept\u001b[39;00m \u001b[38;5;167;01mTypeError\u001b[39;00m:\n\u001b[0;32m     59\u001b[0m     \u001b[38;5;66;03m# A TypeError occurs if the object does have such a method in its\u001b[39;00m\n\u001b[0;32m     60\u001b[0m     \u001b[38;5;66;03m# class, but its signature is not identical to that of NumPy's. This\u001b[39;00m\n\u001b[1;32m   (...)\u001b[0m\n\u001b[0;32m     64\u001b[0m     \u001b[38;5;66;03m# Call _wrapit from within the except clause to ensure a potential\u001b[39;00m\n\u001b[0;32m     65\u001b[0m     \u001b[38;5;66;03m# exception has a traceback chain.\u001b[39;00m\n\u001b[0;32m     66\u001b[0m     \u001b[38;5;28;01mreturn\u001b[39;00m _wrapit(obj, method, \u001b[38;5;241m*\u001b[39margs, \u001b[38;5;241m*\u001b[39m\u001b[38;5;241m*\u001b[39mkwds)\n",
      "\u001b[1;31mValueError\u001b[0m: cannot reshape array of size 3 into shape (3,2)"
     ]
    }
   ],
   "source": [
    "# Hitung hasil kali luar vektor\n",
    "\n",
    "# v dengan ukuran (3,)\n",
    "v = np.array([1,2,3])\n",
    "\n",
    "# w dengan ukuran (2,)\n",
    "w = np.array([4,5])\n",
    "\n",
    "# Untuk menghitung produk luar, pertama kita bentuk ulang v menjadi vektor kolom berbentuk (3,1)\n",
    "# kemudian kita dapat broadcast terhadap w untuk menghasilkan output bentuk (3,2) yang merupakan \n",
    "# produk luar dari v dan w\n",
    "print(np.reshape(v, (3,1)) * w)"
   ]
  },
  {
   "cell_type": "code",
   "execution_count": null,
   "id": "ddef06e7-e9ad-47cd-9184-5ced9412f626",
   "metadata": {},
   "outputs": [],
   "source": []
  },
  {
   "cell_type": "code",
   "execution_count": null,
   "id": "ee709697-2dbf-47b2-b54c-2a6bbfd689f4",
   "metadata": {},
   "outputs": [],
   "source": []
  },
  {
   "cell_type": "code",
   "execution_count": null,
   "id": "cd246783-a6db-4585-a09e-930bac079351",
   "metadata": {},
   "outputs": [],
   "source": []
  },
  {
   "cell_type": "code",
   "execution_count": null,
   "id": "3787bfb4-a844-4b9f-83d4-f8641856ec35",
   "metadata": {},
   "outputs": [],
   "source": []
  },
  {
   "cell_type": "code",
   "execution_count": null,
   "id": "063f31d9-19c0-40ef-9ef4-ca3b631cee46",
   "metadata": {},
   "outputs": [],
   "source": []
  }
 ],
 "metadata": {
  "kernelspec": {
   "display_name": "Python 3 (ipykernel)",
   "language": "python",
   "name": "python3"
  },
  "language_info": {
   "codemirror_mode": {
    "name": "ipython",
    "version": 3
   },
   "file_extension": ".py",
   "mimetype": "text/x-python",
   "name": "python",
   "nbconvert_exporter": "python",
   "pygments_lexer": "ipython3",
   "version": "3.11.2"
  }
 },
 "nbformat": 4,
 "nbformat_minor": 5
}
