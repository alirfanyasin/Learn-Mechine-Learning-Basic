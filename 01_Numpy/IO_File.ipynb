{
 "cells": [
  {
   "cell_type": "markdown",
   "id": "44fa3cb1-3d92-469f-b60e-4a8b1486b2cf",
   "metadata": {},
   "source": [
    "# I/O File"
   ]
  },
  {
   "cell_type": "code",
   "execution_count": 1,
   "id": "21f298a7-e632-4e59-85c0-72a213c3dde3",
   "metadata": {
    "tags": []
   },
   "outputs": [],
   "source": [
    "import numpy as np"
   ]
  },
  {
   "cell_type": "code",
   "execution_count": 2,
   "id": "8fdb0285-f288-4736-9d52-ee141112cf2f",
   "metadata": {
    "tags": []
   },
   "outputs": [
    {
     "data": {
      "text/plain": [
       "'1.24.3'"
      ]
     },
     "execution_count": 2,
     "metadata": {},
     "output_type": "execute_result"
    }
   ],
   "source": [
    "np.__version__"
   ]
  },
  {
   "cell_type": "markdown",
   "id": "49ed1235-7ca0-44c6-be32-c502f7abbc64",
   "metadata": {},
   "source": [
    "## Random Array"
   ]
  },
  {
   "cell_type": "code",
   "execution_count": 3,
   "id": "48db97c6-1a34-4cbe-af3b-d5a26423c2f5",
   "metadata": {
    "tags": []
   },
   "outputs": [],
   "source": [
    "a = np.random.random((3,3))\n",
    "b = np.random.random((3,3))"
   ]
  },
  {
   "cell_type": "code",
   "execution_count": 4,
   "id": "3b11e3a3-cb71-44be-b07c-e1da2f9ce2af",
   "metadata": {
    "tags": []
   },
   "outputs": [
    {
     "data": {
      "text/plain": [
       "(array([[0.21921593, 0.22015264, 0.71528797],\n",
       "        [0.83144895, 0.34068593, 0.36919915],\n",
       "        [0.71065756, 0.98905828, 0.27400433]]),\n",
       " array([[0.14473839, 0.20266748, 0.94174501],\n",
       "        [0.12695873, 0.13165293, 0.58510136],\n",
       "        [0.54801321, 0.02936487, 0.0399627 ]]))"
      ]
     },
     "execution_count": 4,
     "metadata": {},
     "output_type": "execute_result"
    }
   ],
   "source": [
    "a, b"
   ]
  },
  {
   "cell_type": "markdown",
   "id": "2f1389cf-1ddd-4b46-bd3d-c07d0c723f98",
   "metadata": {},
   "source": [
    "## Save File"
   ]
  },
  {
   "cell_type": "code",
   "execution_count": 5,
   "id": "18d76e22-f2d2-4e37-aae9-95c459ff0b8a",
   "metadata": {
    "tags": []
   },
   "outputs": [
    {
     "name": "stdout",
     "output_type": "stream",
     "text": [
      "File berhasil di simpan\n"
     ]
    }
   ],
   "source": [
    "# Simpan file dengan satu data\n",
    "np.save('my_array', a)\n",
    "\n",
    "print('File berhasil di simpan')"
   ]
  },
  {
   "cell_type": "code",
   "execution_count": 6,
   "id": "cacb8993-2e2e-4084-b201-b932c6ff5a17",
   "metadata": {
    "tags": []
   },
   "outputs": [
    {
     "name": "stdout",
     "output_type": "stream",
     "text": [
      "File berhasil di simpan\n"
     ]
    }
   ],
   "source": [
    "# Menyimpan file dengan data lebih dari satu\n",
    "np.savez('array.npz', a, b, a, a)\n",
    "\n",
    "print('File berhasil di simpan')"
   ]
  },
  {
   "cell_type": "markdown",
   "id": "5dbaee14-505c-40c3-ad55-e3ce90d31562",
   "metadata": {},
   "source": [
    "## Load File"
   ]
  },
  {
   "cell_type": "code",
   "execution_count": 7,
   "id": "038e02eb-4c54-41ef-8c5e-27661b046875",
   "metadata": {
    "tags": []
   },
   "outputs": [
    {
     "data": {
      "text/plain": [
       "array([[0.21921593, 0.22015264, 0.71528797],\n",
       "       [0.83144895, 0.34068593, 0.36919915],\n",
       "       [0.71065756, 0.98905828, 0.27400433]])"
      ]
     },
     "execution_count": 7,
     "metadata": {},
     "output_type": "execute_result"
    }
   ],
   "source": [
    "# Load file dengan satu data\n",
    "a1 = np.load('my_array.npy')\n",
    "a1"
   ]
  },
  {
   "cell_type": "code",
   "execution_count": 8,
   "id": "9706e0bb-fbc1-45c2-a983-3e1215116241",
   "metadata": {
    "tags": []
   },
   "outputs": [
    {
     "name": "stdout",
     "output_type": "stream",
     "text": [
      "['arr_0', 'arr_1', 'arr_2', 'arr_3']\n"
     ]
    }
   ],
   "source": [
    "# Load file dengan data lebih dari satu\n",
    "a2 = np.load('array.npz')\n",
    "\n",
    "print(a2.files)"
   ]
  },
  {
   "cell_type": "code",
   "execution_count": 12,
   "id": "9f56ece0-d9e8-418d-b8ef-c2263be1ed3e",
   "metadata": {
    "tags": []
   },
   "outputs": [
    {
     "name": "stdout",
     "output_type": "stream",
     "text": [
      "[[0.21921593 0.22015264 0.71528797]\n",
      " [0.83144895 0.34068593 0.36919915]\n",
      " [0.71065756 0.98905828 0.27400433]]\n",
      "[[0.14473839 0.20266748 0.94174501]\n",
      " [0.12695873 0.13165293 0.58510136]\n",
      " [0.54801321 0.02936487 0.0399627 ]]\n",
      "[[0.21921593 0.22015264 0.71528797]\n",
      " [0.83144895 0.34068593 0.36919915]\n",
      " [0.71065756 0.98905828 0.27400433]]\n",
      "[[0.21921593 0.22015264 0.71528797]\n",
      " [0.83144895 0.34068593 0.36919915]\n",
      " [0.71065756 0.98905828 0.27400433]]\n"
     ]
    }
   ],
   "source": [
    "print(a2['arr_0'])\n",
    "print(a2['arr_1'])\n",
    "print(a2['arr_2'])\n",
    "print(a2['arr_3'])"
   ]
  },
  {
   "cell_type": "code",
   "execution_count": 13,
   "id": "e95f3028-2837-43e6-a947-a69667e956a1",
   "metadata": {
    "tags": []
   },
   "outputs": [],
   "source": [
    "# Simpan dengan nama array\n",
    "np.savez('array2.npz', a = a, b = b)"
   ]
  },
  {
   "cell_type": "code",
   "execution_count": 15,
   "id": "7bb0ccd4-69ba-44a8-8a00-e9c4fdb7dd8d",
   "metadata": {
    "tags": []
   },
   "outputs": [
    {
     "data": {
      "text/plain": [
       "['a', 'b']"
      ]
     },
     "execution_count": 15,
     "metadata": {},
     "output_type": "execute_result"
    }
   ],
   "source": [
    "# Load data \n",
    "npz = np.load('array2.npz')\n",
    "npz.files"
   ]
  },
  {
   "cell_type": "code",
   "execution_count": 18,
   "id": "f81809a3-5a79-4357-907e-f540d5adb648",
   "metadata": {
    "tags": []
   },
   "outputs": [
    {
     "data": {
      "text/plain": [
       "array([[0.21921593, 0.22015264, 0.71528797],\n",
       "       [0.83144895, 0.34068593, 0.36919915],\n",
       "       [0.71065756, 0.98905828, 0.27400433]])"
      ]
     },
     "execution_count": 18,
     "metadata": {},
     "output_type": "execute_result"
    }
   ],
   "source": [
    "npz['a']"
   ]
  },
  {
   "cell_type": "code",
   "execution_count": 19,
   "id": "5087a13c-497e-4f06-b0e3-52712f88f18d",
   "metadata": {
    "tags": []
   },
   "outputs": [
    {
     "data": {
      "text/plain": [
       "array([[0.14473839, 0.20266748, 0.94174501],\n",
       "       [0.12695873, 0.13165293, 0.58510136],\n",
       "       [0.54801321, 0.02936487, 0.0399627 ]])"
      ]
     },
     "execution_count": 19,
     "metadata": {},
     "output_type": "execute_result"
    }
   ],
   "source": [
    "npz['b']"
   ]
  }
 ],
 "metadata": {
  "kernelspec": {
   "display_name": "Python 3 (ipykernel)",
   "language": "python",
   "name": "python3"
  },
  "language_info": {
   "codemirror_mode": {
    "name": "ipython",
    "version": 3
   },
   "file_extension": ".py",
   "mimetype": "text/x-python",
   "name": "python",
   "nbconvert_exporter": "python",
   "pygments_lexer": "ipython3",
   "version": "3.11.2"
  }
 },
 "nbformat": 4,
 "nbformat_minor": 5
}
