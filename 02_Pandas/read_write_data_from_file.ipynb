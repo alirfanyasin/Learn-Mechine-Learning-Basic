{
 "cells": [
  {
   "cell_type": "markdown",
   "id": "b23d636a-42db-47ee-b03f-bb01bb4400c8",
   "metadata": {},
   "source": [
    "# Read and Write Data from File"
   ]
  },
  {
   "cell_type": "code",
   "execution_count": null,
   "id": "f6ac5974-7d18-4b0f-863d-846f39221daa",
   "metadata": {},
   "outputs": [],
   "source": [
    "import numpy as np"
   ]
  },
  {
   "cell_type": "code",
   "execution_count": null,
   "id": "e7f0f22a-cace-480c-949c-c8bd166b5a9f",
   "metadata": {},
   "outputs": [],
   "source": [
    "import pandas as pd"
   ]
  },
  {
   "cell_type": "code",
   "execution_count": null,
   "id": "f20c0e23-93de-4f9c-a176-65d06643ee73",
   "metadata": {},
   "outputs": [],
   "source": [
    "np.__version__, pd.__version__"
   ]
  },
  {
   "cell_type": "markdown",
   "id": "c5a8a901-93df-4fff-b326-3fd2484550de",
   "metadata": {},
   "source": [
    "Kita akan fokun untuk membaca data dari jenis file di bawah ini\n",
    "- csv\n",
    "- .txt\n",
    "- xlsx\n",
    "\n",
    "Catatan: write akan secara default akan menimpa file yang ada dengan nama yang sama"
   ]
  },
  {
   "cell_type": "markdown",
   "id": "3287ed7e-6a14-4d48-9a56-248b431a3385",
   "metadata": {},
   "source": [
    "### Read CSV File"
   ]
  },
  {
   "cell_type": "code",
   "execution_count": null,
   "id": "af3c4d03-e9f9-473d-9615-ae60401fed36",
   "metadata": {
    "tags": []
   },
   "outputs": [],
   "source": [
    "df = pd.read_csv('dataset/mtcars.csv')\n",
    "df"
   ]
  },
  {
   "cell_type": "markdown",
   "id": "e2953055-3f5e-4f5d-919c-ce6d93d4e221",
   "metadata": {},
   "source": [
    "### Read TXT File"
   ]
  },
  {
   "cell_type": "code",
   "execution_count": null,
   "id": "441ec9b7-67b9-4a62-ae9f-1b3c63beab65",
   "metadata": {
    "tags": []
   },
   "outputs": [],
   "source": [
    "# Baca file .txt\n",
    "df = pd.read_csv('dataset/mtcars.txt', sep='\\t')\n",
    "\n",
    "# Simpan ke .txt, index  = false supaya tidak menulis ulang nomor baris\n",
    "df.to_csv('dataset/mtcars_new2.txt', sep='\\t', index=False)"
   ]
  },
  {
   "cell_type": "code",
   "execution_count": null,
   "id": "2ba1ce29-f678-485a-9811-89c28301bfd1",
   "metadata": {
    "tags": []
   },
   "outputs": [],
   "source": [
    "df"
   ]
  },
  {
   "cell_type": "markdown",
   "id": "e624a600-4b08-47e6-b103-f7da168434a8",
   "metadata": {},
   "source": [
    "### Read Excel File"
   ]
  },
  {
   "cell_type": "code",
   "execution_count": null,
   "id": "c79deffc-d745-4caa-92ce-42603c0d990a",
   "metadata": {
    "tags": []
   },
   "outputs": [],
   "source": [
    "# Install openpyxl untuk membaca file excel\n",
    "!pip install openpyxl"
   ]
  },
  {
   "cell_type": "code",
   "execution_count": null,
   "id": "3a859a21-1d2c-4d51-868f-8636603cd788",
   "metadata": {
    "tags": []
   },
   "outputs": [],
   "source": [
    "# Membaca file excel\n",
    "df = pd.read_excel('dataset/mtcars.xlsx', 'Sheet2')\n",
    "\n",
    "df.to_excel('dataset/mtcars_new2.xlsx', sheet_name='Sheet1', index=False)"
   ]
  },
  {
   "cell_type": "code",
   "execution_count": null,
   "id": "cd8d9dee-cfce-4c73-9652-ff77e4e49fa2",
   "metadata": {
    "tags": []
   },
   "outputs": [],
   "source": [
    "df"
   ]
  },
  {
   "cell_type": "code",
   "execution_count": null,
   "id": "fd900d73-908a-4c97-a975-bf850f6aed79",
   "metadata": {},
   "outputs": [],
   "source": []
  },
  {
   "cell_type": "code",
   "execution_count": null,
   "id": "69772942-04b0-4a1a-bf9d-d7d568ee803b",
   "metadata": {},
   "outputs": [],
   "source": []
  },
  {
   "cell_type": "code",
   "execution_count": null,
   "id": "37a938a4-8852-4af8-8c5d-85ac5216804f",
   "metadata": {},
   "outputs": [],
   "source": []
  }
 ],
 "metadata": {
  "kernelspec": {
   "display_name": "Python 3 (ipykernel)",
   "language": "python",
   "name": "python3"
  },
  "language_info": {
   "codemirror_mode": {
    "name": "ipython",
    "version": 3
   },
   "file_extension": ".py",
   "mimetype": "text/x-python",
   "name": "python",
   "nbconvert_exporter": "python",
   "pygments_lexer": "ipython3",
   "version": "3.11.2"
  }
 },
 "nbformat": 4,
 "nbformat_minor": 5
}
