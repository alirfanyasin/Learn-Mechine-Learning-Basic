{
 "cells": [
  {
   "cell_type": "markdown",
   "metadata": {},
   "source": [
    "# Grouping"
   ]
  },
  {
   "cell_type": "markdown",
   "metadata": {},
   "source": [
    "Pada 'group by' akan memungkinkan kita untuk mencapai hal di bawah ini:\n",
    "- Menerapkan fungsi agregasi ke setiap grup secara mandiri\n",
    "- Berdasarkan beberapa kriteria, bagi data menjadi beberapa kelompok\n",
    "- Menggabungkan hasil 'group by' ke dalam struktur data"
   ]
  },
  {
   "cell_type": "code",
   "execution_count": 12,
   "metadata": {},
   "outputs": [
    {
     "data": {
      "text/plain": [
       "'2.2.2'"
      ]
     },
     "execution_count": 12,
     "metadata": {},
     "output_type": "execute_result"
    }
   ],
   "source": [
    "import pandas as pd\n",
    "pd.__version__"
   ]
  },
  {
   "cell_type": "code",
   "execution_count": 13,
   "metadata": {},
   "outputs": [
    {
     "data": {
      "text/plain": [
       "'1.24.3'"
      ]
     },
     "execution_count": 13,
     "metadata": {},
     "output_type": "execute_result"
    }
   ],
   "source": [
    "import numpy as np\n",
    "np.__version__"
   ]
  },
  {
   "cell_type": "code",
   "execution_count": 14,
   "metadata": {},
   "outputs": [
    {
     "data": {
      "text/html": [
       "<div>\n",
       "<style scoped>\n",
       "    .dataframe tbody tr th:only-of-type {\n",
       "        vertical-align: middle;\n",
       "    }\n",
       "\n",
       "    .dataframe tbody tr th {\n",
       "        vertical-align: top;\n",
       "    }\n",
       "\n",
       "    .dataframe thead th {\n",
       "        text-align: right;\n",
       "    }\n",
       "</style>\n",
       "<table border=\"1\" class=\"dataframe\">\n",
       "  <thead>\n",
       "    <tr style=\"text-align: right;\">\n",
       "      <th></th>\n",
       "      <th>Name</th>\n",
       "      <th>State</th>\n",
       "      <th>Grade</th>\n",
       "      <th>Age</th>\n",
       "      <th>Salary</th>\n",
       "    </tr>\n",
       "  </thead>\n",
       "  <tbody>\n",
       "    <tr>\n",
       "      <th>0</th>\n",
       "      <td>Jack</td>\n",
       "      <td>SFO</td>\n",
       "      <td>A</td>\n",
       "      <td>34.132594</td>\n",
       "      <td>3326.346561</td>\n",
       "    </tr>\n",
       "    <tr>\n",
       "      <th>1</th>\n",
       "      <td>Jane</td>\n",
       "      <td>SFO</td>\n",
       "      <td>A</td>\n",
       "      <td>43.347119</td>\n",
       "      <td>4049.003039</td>\n",
       "    </tr>\n",
       "    <tr>\n",
       "      <th>2</th>\n",
       "      <td>Jack</td>\n",
       "      <td>NYK</td>\n",
       "      <td>B</td>\n",
       "      <td>36.852219</td>\n",
       "      <td>4881.535442</td>\n",
       "    </tr>\n",
       "    <tr>\n",
       "      <th>3</th>\n",
       "      <td>Jane</td>\n",
       "      <td>CA</td>\n",
       "      <td>A</td>\n",
       "      <td>24.414836</td>\n",
       "      <td>3447.341356</td>\n",
       "    </tr>\n",
       "    <tr>\n",
       "      <th>4</th>\n",
       "      <td>Jack</td>\n",
       "      <td>NYK</td>\n",
       "      <td>C</td>\n",
       "      <td>41.603756</td>\n",
       "      <td>3428.137343</td>\n",
       "    </tr>\n",
       "    <tr>\n",
       "      <th>5</th>\n",
       "      <td>Jane</td>\n",
       "      <td>NYK</td>\n",
       "      <td>B</td>\n",
       "      <td>43.796303</td>\n",
       "      <td>4165.191623</td>\n",
       "    </tr>\n",
       "    <tr>\n",
       "      <th>6</th>\n",
       "      <td>Jack</td>\n",
       "      <td>SFO</td>\n",
       "      <td>C</td>\n",
       "      <td>38.426526</td>\n",
       "      <td>4327.608342</td>\n",
       "    </tr>\n",
       "    <tr>\n",
       "      <th>7</th>\n",
       "      <td>Jane</td>\n",
       "      <td>CA</td>\n",
       "      <td>A</td>\n",
       "      <td>45.624255</td>\n",
       "      <td>3890.975248</td>\n",
       "    </tr>\n",
       "  </tbody>\n",
       "</table>\n",
       "</div>"
      ],
      "text/plain": [
       "   Name State Grade        Age       Salary\n",
       "0  Jack   SFO     A  34.132594  3326.346561\n",
       "1  Jane   SFO     A  43.347119  4049.003039\n",
       "2  Jack   NYK     B  36.852219  4881.535442\n",
       "3  Jane    CA     A  24.414836  3447.341356\n",
       "4  Jack   NYK     C  41.603756  3428.137343\n",
       "5  Jane   NYK     B  43.796303  4165.191623\n",
       "6  Jack   SFO     C  38.426526  4327.608342\n",
       "7  Jane    CA     A  45.624255  3890.975248"
      ]
     },
     "execution_count": 14,
     "metadata": {},
     "output_type": "execute_result"
    }
   ],
   "source": [
    "df = pd.DataFrame({\n",
    "  'Name' : ['Jack', 'Jane', 'Jack', 'Jane', 'Jack', 'Jane', 'Jack', 'Jane'],\n",
    "  'State' : ['SFO', 'SFO', 'NYK', 'CA', 'NYK', 'NYK', 'SFO', 'CA'],\n",
    "  'Grade' : ['A', 'A', 'B', 'A', 'C', 'B', 'C', 'A'],\n",
    "  'Age' : np.random.uniform(24, 50, size=8),\n",
    "  'Salary' : np.random.uniform(3000, 5000, size=8)\n",
    "})\n",
    "df\n",
    "\n",
    "\n",
    "# perhatikan bahwa kolom diurutkan secara otomatis dalam urutan abjadnya\n",
    "# untuk pesanan khusus gunakan kode di bawah ini\n",
    "# df = pd.DataFrame(data, colums= ['name', 'state', 'age', 'salary'])\n"
   ]
  },
  {
   "cell_type": "code",
   "execution_count": 18,
   "metadata": {},
   "outputs": [
    {
     "data": {
      "text/html": [
       "<div>\n",
       "<style scoped>\n",
       "    .dataframe tbody tr th:only-of-type {\n",
       "        vertical-align: middle;\n",
       "    }\n",
       "\n",
       "    .dataframe tbody tr th {\n",
       "        vertical-align: top;\n",
       "    }\n",
       "\n",
       "    .dataframe thead th {\n",
       "        text-align: right;\n",
       "    }\n",
       "</style>\n",
       "<table border=\"1\" class=\"dataframe\">\n",
       "  <thead>\n",
       "    <tr style=\"text-align: right;\">\n",
       "      <th></th>\n",
       "      <th>State</th>\n",
       "      <th>Grade</th>\n",
       "      <th>Age</th>\n",
       "      <th>Salary</th>\n",
       "    </tr>\n",
       "    <tr>\n",
       "      <th>Name</th>\n",
       "      <th></th>\n",
       "      <th></th>\n",
       "      <th></th>\n",
       "      <th></th>\n",
       "    </tr>\n",
       "  </thead>\n",
       "  <tbody>\n",
       "    <tr>\n",
       "      <th>Jack</th>\n",
       "      <td>SFONYKNYKSFO</td>\n",
       "      <td>ABCC</td>\n",
       "      <td>151.015095</td>\n",
       "      <td>15963.627688</td>\n",
       "    </tr>\n",
       "    <tr>\n",
       "      <th>Jane</th>\n",
       "      <td>SFOCANYKCA</td>\n",
       "      <td>AABA</td>\n",
       "      <td>157.182513</td>\n",
       "      <td>15552.511267</td>\n",
       "    </tr>\n",
       "  </tbody>\n",
       "</table>\n",
       "</div>"
      ],
      "text/plain": [
       "             State Grade         Age        Salary\n",
       "Name                                              \n",
       "Jack  SFONYKNYKSFO  ABCC  151.015095  15963.627688\n",
       "Jane    SFOCANYKCA  AABA  157.182513  15552.511267"
      ]
     },
     "execution_count": 18,
     "metadata": {},
     "output_type": "execute_result"
    }
   ],
   "source": [
    "# grouping\n",
    "df.groupby('Name').sum()"
   ]
  },
  {
   "cell_type": "code",
   "execution_count": 22,
   "metadata": {},
   "outputs": [
    {
     "data": {
      "text/html": [
       "<div>\n",
       "<style scoped>\n",
       "    .dataframe tbody tr th:only-of-type {\n",
       "        vertical-align: middle;\n",
       "    }\n",
       "\n",
       "    .dataframe tbody tr th {\n",
       "        vertical-align: top;\n",
       "    }\n",
       "\n",
       "    .dataframe thead th {\n",
       "        text-align: right;\n",
       "    }\n",
       "</style>\n",
       "<table border=\"1\" class=\"dataframe\">\n",
       "  <thead>\n",
       "    <tr style=\"text-align: right;\">\n",
       "      <th></th>\n",
       "      <th></th>\n",
       "      <th>Grade</th>\n",
       "      <th>Age</th>\n",
       "      <th>Salary</th>\n",
       "    </tr>\n",
       "    <tr>\n",
       "      <th>Name</th>\n",
       "      <th>State</th>\n",
       "      <th></th>\n",
       "      <th></th>\n",
       "      <th></th>\n",
       "    </tr>\n",
       "  </thead>\n",
       "  <tbody>\n",
       "    <tr>\n",
       "      <th rowspan=\"2\" valign=\"top\">Jack</th>\n",
       "      <th>NYK</th>\n",
       "      <td>C</td>\n",
       "      <td>41.603756</td>\n",
       "      <td>4881.535442</td>\n",
       "    </tr>\n",
       "    <tr>\n",
       "      <th>SFO</th>\n",
       "      <td>C</td>\n",
       "      <td>38.426526</td>\n",
       "      <td>4327.608342</td>\n",
       "    </tr>\n",
       "    <tr>\n",
       "      <th rowspan=\"3\" valign=\"top\">Jane</th>\n",
       "      <th>CA</th>\n",
       "      <td>A</td>\n",
       "      <td>45.624255</td>\n",
       "      <td>3890.975248</td>\n",
       "    </tr>\n",
       "    <tr>\n",
       "      <th>NYK</th>\n",
       "      <td>B</td>\n",
       "      <td>43.796303</td>\n",
       "      <td>4165.191623</td>\n",
       "    </tr>\n",
       "    <tr>\n",
       "      <th>SFO</th>\n",
       "      <td>A</td>\n",
       "      <td>43.347119</td>\n",
       "      <td>4049.003039</td>\n",
       "    </tr>\n",
       "  </tbody>\n",
       "</table>\n",
       "</div>"
      ],
      "text/plain": [
       "           Grade        Age       Salary\n",
       "Name State                              \n",
       "Jack NYK       C  41.603756  4881.535442\n",
       "     SFO       C  38.426526  4327.608342\n",
       "Jane CA        A  45.624255  3890.975248\n",
       "     NYK       B  43.796303  4165.191623\n",
       "     SFO       A  43.347119  4049.003039"
      ]
     },
     "execution_count": 22,
     "metadata": {},
     "output_type": "execute_result"
    }
   ],
   "source": [
    "# temukan usia dan gaji maksimal berdasarkan Nama / Negara\n",
    "# Anda dapat menggunakan semua fungsi agregat seperti min, max, mean, count, cumsum\n",
    "\n",
    "df.groupby(['Name', 'State']).max()"
   ]
  },
  {
   "cell_type": "code",
   "execution_count": null,
   "metadata": {},
   "outputs": [],
   "source": []
  }
 ],
 "metadata": {
  "kernelspec": {
   "display_name": "Python 3",
   "language": "python",
   "name": "python3"
  },
  "language_info": {
   "codemirror_mode": {
    "name": "ipython",
    "version": 3
   },
   "file_extension": ".py",
   "mimetype": "text/x-python",
   "name": "python",
   "nbconvert_exporter": "python",
   "pygments_lexer": "ipython3",
   "version": "3.11.2"
  }
 },
 "nbformat": 4,
 "nbformat_minor": 2
}
