{
 "cells": [
  {
   "cell_type": "markdown",
   "metadata": {},
   "source": [
    "# Grouping"
   ]
  },
  {
   "cell_type": "markdown",
   "metadata": {},
   "source": [
    "Pada 'group by' akan memungkinkan kita untuk mencapai hal di bawah ini:\n",
    "- Menerapkan fungsi agregasi ke setiap grup secara mandiri\n",
    "- Berdasarkan beberapa kriteria, bagi data menjadi beberapa kelompok\n",
    "- Menggabungkan hasil 'group by' ke dalam struktur data"
   ]
  },
  {
   "cell_type": "code",
   "execution_count": null,
   "metadata": {},
   "outputs": [],
   "source": [
    "import pandas as pd\n",
    "pd.__version__"
   ]
  },
  {
   "cell_type": "code",
   "execution_count": null,
   "metadata": {},
   "outputs": [],
   "source": [
    "import numpy as np\n",
    "np.__version__"
   ]
  },
  {
   "cell_type": "code",
   "execution_count": null,
   "metadata": {},
   "outputs": [],
   "source": [
    "df = pd.DataFrame({\n",
    "  'Name' : ['Jack', 'Jane', 'Jack', 'Jane', 'Jack', 'Jane', 'Jack', 'Jane'],\n",
    "  'State' : ['SFO', 'SFO', 'NYK', 'CA', 'NYK', 'NYK', 'SFO', 'CA'],\n",
    "  'Grade' : ['A', 'A', 'B', 'A', 'C', 'B', 'C', 'A'],\n",
    "  'Age' : np.random.uniform(24, 50, size=8),\n",
    "  'Salary' : np.random.uniform(3000, 5000, size=8)\n",
    "})\n",
    "df\n",
    "\n",
    "\n",
    "# perhatikan bahwa kolom diurutkan secara otomatis dalam urutan abjadnya\n",
    "# untuk pesanan khusus gunakan kode di bawah ini\n",
    "# df = pd.DataFrame(data, colums= ['name', 'state', 'age', 'salary'])\n"
   ]
  },
  {
   "cell_type": "code",
   "execution_count": null,
   "metadata": {},
   "outputs": [],
   "source": [
    "# grouping\n",
    "df.groupby('Name').sum()"
   ]
  },
  {
   "cell_type": "code",
   "execution_count": null,
   "metadata": {},
   "outputs": [],
   "source": [
    "# temukan usia dan gaji maksimal berdasarkan Nama / Negara\n",
    "# Anda dapat menggunakan semua fungsi agregat seperti min, max, mean, count, cumsum\n",
    "\n",
    "df.groupby(['Name', 'State']).max()"
   ]
  },
  {
   "cell_type": "code",
   "execution_count": null,
   "metadata": {},
   "outputs": [],
   "source": []
  }
 ],
 "metadata": {
  "kernelspec": {
   "display_name": "Python 3",
   "language": "python",
   "name": "python3"
  },
  "language_info": {
   "codemirror_mode": {
    "name": "ipython",
    "version": 3
   },
   "file_extension": ".py",
   "mimetype": "text/x-python",
   "name": "python",
   "nbconvert_exporter": "python",
   "pygments_lexer": "ipython3",
   "version": "3.11.2"
  }
 },
 "nbformat": 4,
 "nbformat_minor": 2
}
