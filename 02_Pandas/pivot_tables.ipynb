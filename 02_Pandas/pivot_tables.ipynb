{
 "cells": [
  {
   "cell_type": "markdown",
   "metadata": {},
   "source": [
    "# Pivot Tables"
   ]
  },
  {
   "cell_type": "markdown",
   "metadata": {},
   "source": [
    "Pandas menyediakan fungsi 'Pivot Table' untuk membuat table pivot gaya spreadsheet MS Excal. Ini dapat mengambil argumen berikut:\n",
    "- data : DataFrame object\n",
    "- value : column to aggregate\n",
    "- index : row labels\n",
    "- columns : column labels\n",
    "- aggfunc : fungsi aggregasi yang akan digunakan pada nilai, defaultnya adalah NumPy.mean"
   ]
  },
  {
   "cell_type": "code",
   "execution_count": null,
   "metadata": {},
   "outputs": [],
   "source": [
    "import pandas as pd\n",
    "import numpy as np\n",
    "\n",
    "print(pd.__version__, np.__version__)"
   ]
  },
  {
   "cell_type": "code",
   "execution_count": null,
   "metadata": {},
   "outputs": [],
   "source": [
    "df = pd.DataFrame({\n",
    "  'Name' : ['Jack', 'Jane', 'Jack', 'Jane', 'Jack', 'Jane', 'Jack', 'Jane'],\n",
    "  'State' : ['SFO', 'SFO', 'NYK', 'CA', 'NYK', 'NYK', 'SFO', 'CA'],\n",
    "  'Grade' : ['A', 'A', 'B', 'A', 'C', 'B', 'C', 'A'],\n",
    "  'Age' : np.random.uniform(24, 50, size=8),\n",
    "  'Salary' : np.random.uniform(3000, 5000, size=8)\n",
    "})\n",
    "df"
   ]
  },
  {
   "cell_type": "code",
   "execution_count": null,
   "metadata": {},
   "outputs": [],
   "source": [
    "pd.pivot_table(df, values='Age', index=['State', 'Name'], columns=['Grade'])"
   ]
  }
 ],
 "metadata": {
  "kernelspec": {
   "display_name": "Python 3",
   "language": "python",
   "name": "python3"
  },
  "language_info": {
   "codemirror_mode": {
    "name": "ipython",
    "version": 3
   },
   "file_extension": ".py",
   "mimetype": "text/x-python",
   "name": "python",
   "nbconvert_exporter": "python",
   "pygments_lexer": "ipython3",
   "version": "3.11.2"
  }
 },
 "nbformat": 4,
 "nbformat_minor": 2
}
