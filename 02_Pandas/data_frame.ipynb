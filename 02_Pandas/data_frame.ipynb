{
 "cells": [
  {
   "cell_type": "markdown",
   "id": "9e14ba90-ea44-4707-8176-7332f17c9843",
   "metadata": {},
   "source": [
    "# Data Frame"
   ]
  },
  {
   "cell_type": "code",
   "execution_count": null,
   "id": "1a076a4a-32e4-44a9-8a20-1c632fb2be70",
   "metadata": {
    "tags": []
   },
   "outputs": [],
   "source": [
    "import numpy as np"
   ]
  },
  {
   "cell_type": "code",
   "execution_count": null,
   "id": "97791beb-6843-4b27-b945-49a2d8433d3b",
   "metadata": {
    "tags": []
   },
   "outputs": [],
   "source": [
    "import pandas as pd"
   ]
  },
  {
   "cell_type": "code",
   "execution_count": null,
   "id": "9b16c26d-6cbd-416b-9142-ed00cbc0c4d5",
   "metadata": {
    "tags": []
   },
   "outputs": [],
   "source": [
    "np.__version__, pd.__version__"
   ]
  },
  {
   "cell_type": "markdown",
   "id": "119da5aa-4055-4a57-a9a3-b8a3ffd8109a",
   "metadata": {},
   "source": [
    "Ini adalah objek 2 dimensi yang mirip dengan spreadsheet atau tabel SQL. Ini adalah objek pandas pada umumnya digunakan"
   ]
  },
  {
   "cell_type": "code",
   "execution_count": 14,
   "id": "a1344dd8-eccb-48af-badc-92703140aa63",
   "metadata": {
    "tags": []
   },
   "outputs": [],
   "source": [
    "data = {\n",
    "    'gender' : ['L', 'P', 'T'],\n",
    "    'emp_id' : ['E01', 'E02', 'E03'],\n",
    "    'age' : [25, 27, 24]\n",
    "}"
   ]
  },
  {
   "cell_type": "code",
   "execution_count": 15,
   "id": "7226a604-f7cc-499b-b742-caf1ed3c59c4",
   "metadata": {
    "tags": []
   },
   "outputs": [
    {
     "data": {
      "text/html": [
       "<div>\n",
       "<style scoped>\n",
       "    .dataframe tbody tr th:only-of-type {\n",
       "        vertical-align: middle;\n",
       "    }\n",
       "\n",
       "    .dataframe tbody tr th {\n",
       "        vertical-align: top;\n",
       "    }\n",
       "\n",
       "    .dataframe thead th {\n",
       "        text-align: right;\n",
       "    }\n",
       "</style>\n",
       "<table border=\"1\" class=\"dataframe\">\n",
       "  <thead>\n",
       "    <tr style=\"text-align: right;\">\n",
       "      <th></th>\n",
       "      <th>emp_id</th>\n",
       "      <th>age</th>\n",
       "      <th>gender</th>\n",
       "    </tr>\n",
       "  </thead>\n",
       "  <tbody>\n",
       "    <tr>\n",
       "      <th>0</th>\n",
       "      <td>E01</td>\n",
       "      <td>25</td>\n",
       "      <td>L</td>\n",
       "    </tr>\n",
       "    <tr>\n",
       "      <th>1</th>\n",
       "      <td>E02</td>\n",
       "      <td>27</td>\n",
       "      <td>P</td>\n",
       "    </tr>\n",
       "    <tr>\n",
       "      <th>2</th>\n",
       "      <td>E03</td>\n",
       "      <td>24</td>\n",
       "      <td>T</td>\n",
       "    </tr>\n",
       "  </tbody>\n",
       "</table>\n",
       "</div>"
      ],
      "text/plain": [
       "  emp_id  age gender\n",
       "0    E01   25      L\n",
       "1    E02   27      P\n",
       "2    E03   24      T"
      ]
     },
     "execution_count": 15,
     "metadata": {},
     "output_type": "execute_result"
    }
   ],
   "source": [
    "# Kita ingin mengurutkan kolom, jadi mari kita tentukan di dalam parameter kolom \n",
    "df = pd.DataFrame(data, columns=['emp_id', 'age', 'gender'])\n",
    "df"
   ]
  },
  {
   "cell_type": "code",
   "execution_count": null,
   "id": "125beba5-bf63-4091-a34a-1b2876c6d96e",
   "metadata": {},
   "outputs": [],
   "source": []
  },
  {
   "cell_type": "code",
   "execution_count": null,
   "id": "57c8ffde-da17-46d8-94d1-4ffcac2d2a85",
   "metadata": {},
   "outputs": [],
   "source": []
  },
  {
   "cell_type": "code",
   "execution_count": null,
   "id": "da5d33fc-a454-444d-b131-56e232c62a7a",
   "metadata": {},
   "outputs": [],
   "source": []
  }
 ],
 "metadata": {
  "kernelspec": {
   "display_name": "Python 3 (ipykernel)",
   "language": "python",
   "name": "python3"
  },
  "language_info": {
   "codemirror_mode": {
    "name": "ipython",
    "version": 3
   },
   "file_extension": ".py",
   "mimetype": "text/x-python",
   "name": "python",
   "nbconvert_exporter": "python",
   "pygments_lexer": "ipython3",
   "version": "3.11.2"
  }
 },
 "nbformat": 4,
 "nbformat_minor": 5
}
