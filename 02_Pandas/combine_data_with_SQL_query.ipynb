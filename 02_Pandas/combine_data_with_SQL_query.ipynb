{
 "cells": [
  {
   "cell_type": "markdown",
   "id": "3857dad2-433b-483f-9172-6e757b0a410f",
   "metadata": {},
   "source": [
    "# Menggabungkan Data dengan Bentuk SQL Query"
   ]
  },
  {
   "cell_type": "code",
   "execution_count": 7,
   "id": "4e07dd6e-357a-46ba-81ba-67e6e6848fa2",
   "metadata": {},
   "outputs": [
    {
     "data": {
      "text/plain": [
       "'2.2.2'"
      ]
     },
     "execution_count": 7,
     "metadata": {},
     "output_type": "execute_result"
    }
   ],
   "source": [
    "import pandas as pd\n",
    "pd.__version__"
   ]
  },
  {
   "cell_type": "markdown",
   "id": "c17e79ec-d43f-462d-8ed2-9b7b2815efc9",
   "metadata": {},
   "source": [
    "Topi bahasan: \n",
    "- Left Join\n",
    "- Right Join\n",
    "- Inner Join\n",
    "- Outer Join"
   ]
  },
  {
   "cell_type": "code",
   "execution_count": 8,
   "id": "f7bc9717-3500-4295-8215-4431fbace1c7",
   "metadata": {
    "tags": []
   },
   "outputs": [
    {
     "data": {
      "text/html": [
       "<div>\n",
       "<style scoped>\n",
       "    .dataframe tbody tr th:only-of-type {\n",
       "        vertical-align: middle;\n",
       "    }\n",
       "\n",
       "    .dataframe tbody tr th {\n",
       "        vertical-align: top;\n",
       "    }\n",
       "\n",
       "    .dataframe thead th {\n",
       "        text-align: right;\n",
       "    }\n",
       "</style>\n",
       "<table border=\"1\" class=\"dataframe\">\n",
       "  <thead>\n",
       "    <tr style=\"text-align: right;\">\n",
       "      <th></th>\n",
       "      <th>emp_id</th>\n",
       "      <th>first_name</th>\n",
       "      <th>last_name</th>\n",
       "    </tr>\n",
       "  </thead>\n",
       "  <tbody>\n",
       "    <tr>\n",
       "      <th>0</th>\n",
       "      <td>1</td>\n",
       "      <td>Jason</td>\n",
       "      <td>Larkin</td>\n",
       "    </tr>\n",
       "    <tr>\n",
       "      <th>1</th>\n",
       "      <td>2</td>\n",
       "      <td>Andy</td>\n",
       "      <td>Jacob</td>\n",
       "    </tr>\n",
       "    <tr>\n",
       "      <th>2</th>\n",
       "      <td>3</td>\n",
       "      <td>Allen</td>\n",
       "      <td>A</td>\n",
       "    </tr>\n",
       "    <tr>\n",
       "      <th>3</th>\n",
       "      <td>4</td>\n",
       "      <td>John</td>\n",
       "      <td>Snow</td>\n",
       "    </tr>\n",
       "    <tr>\n",
       "      <th>4</th>\n",
       "      <td>5</td>\n",
       "      <td>Amy</td>\n",
       "      <td>Jackson</td>\n",
       "    </tr>\n",
       "  </tbody>\n",
       "</table>\n",
       "</div>"
      ],
      "text/plain": [
       "  emp_id first_name last_name\n",
       "0      1      Jason    Larkin\n",
       "1      2       Andy     Jacob\n",
       "2      3      Allen         A\n",
       "3      4       John      Snow\n",
       "4      5        Amy   Jackson"
      ]
     },
     "execution_count": 8,
     "metadata": {},
     "output_type": "execute_result"
    }
   ],
   "source": [
    "data = {\n",
    "    'emp_id' : ['1','2','3','4','5'],\n",
    "    'first_name' : ['Jason', 'Andy', 'Allen', 'John', 'Amy'],\n",
    "    'last_name' : ['Larkin', 'Jacob', 'A', 'Snow', 'Jackson']\n",
    "}\n",
    "\n",
    "df1 = pd.DataFrame(data, columns=['emp_id', 'first_name', 'last_name'])\n",
    "df1"
   ]
  },
  {
   "cell_type": "code",
   "execution_count": 9,
   "id": "b11cd34a-7330-49f9-8761-20a28898437c",
   "metadata": {
    "tags": []
   },
   "outputs": [
    {
     "data": {
      "text/html": [
       "<div>\n",
       "<style scoped>\n",
       "    .dataframe tbody tr th:only-of-type {\n",
       "        vertical-align: middle;\n",
       "    }\n",
       "\n",
       "    .dataframe tbody tr th {\n",
       "        vertical-align: top;\n",
       "    }\n",
       "\n",
       "    .dataframe thead th {\n",
       "        text-align: right;\n",
       "    }\n",
       "</style>\n",
       "<table border=\"1\" class=\"dataframe\">\n",
       "  <thead>\n",
       "    <tr style=\"text-align: right;\">\n",
       "      <th></th>\n",
       "      <th>emp_id</th>\n",
       "      <th>first_name</th>\n",
       "      <th>last_name</th>\n",
       "    </tr>\n",
       "  </thead>\n",
       "  <tbody>\n",
       "    <tr>\n",
       "      <th>0</th>\n",
       "      <td>4</td>\n",
       "      <td>James</td>\n",
       "      <td>Alexander</td>\n",
       "    </tr>\n",
       "    <tr>\n",
       "      <th>1</th>\n",
       "      <td>5</td>\n",
       "      <td>Shize</td>\n",
       "      <td>Suma</td>\n",
       "    </tr>\n",
       "    <tr>\n",
       "      <th>2</th>\n",
       "      <td>6</td>\n",
       "      <td>Kim</td>\n",
       "      <td>Shoe</td>\n",
       "    </tr>\n",
       "    <tr>\n",
       "      <th>3</th>\n",
       "      <td>7</td>\n",
       "      <td>Jose</td>\n",
       "      <td>Murinho</td>\n",
       "    </tr>\n",
       "  </tbody>\n",
       "</table>\n",
       "</div>"
      ],
      "text/plain": [
       "  emp_id first_name  last_name\n",
       "0      4      James  Alexander\n",
       "1      5      Shize       Suma\n",
       "2      6        Kim       Shoe\n",
       "3      7       Jose    Murinho"
      ]
     },
     "execution_count": 9,
     "metadata": {},
     "output_type": "execute_result"
    }
   ],
   "source": [
    "data = {\n",
    "    'emp_id' : ['4','5','6','7'],\n",
    "    'first_name' : ['James', 'Shize', 'Kim', 'Jose'],\n",
    "    'last_name' : ['Alexander', 'Suma', 'Shoe', 'Murinho']\n",
    "}\n",
    "\n",
    "df2 = pd.DataFrame(data, columns=['emp_id', 'first_name', 'last_name'])\n",
    "df2"
   ]
  },
  {
   "cell_type": "markdown",
   "id": "4083e13f-3ee3-4ca8-a142-0fa39b7f9dc8",
   "metadata": {
    "tags": []
   },
   "source": [
    "### Left Join"
   ]
  },
  {
   "cell_type": "markdown",
   "id": "885229c0-3541-4319-8027-5c8cf430ac92",
   "metadata": {},
   "source": [
    "Left join menghasilkan tabel output yang berisi kumpulan record lengkap dari Tabel A, dan hanya record yang cocok di Tabel B. Jika tidak ada ke cocokan, sisi kanan akan bernilai null."
   ]
  },
  {
   "cell_type": "markdown",
   "id": "1bde570c-2010-487b-a989-f5b6af76779c",
   "metadata": {
    "tags": []
   },
   "source": [
    "Catatan : perhatikan bahwa kita dapat menambahkan sufiks untuk menghindari duplikat, jika tidak disediakan maka secara otomatis menambahkan x ke Tabel A dan y ke Tabel B."
   ]
  },
  {
   "cell_type": "code",
   "execution_count": 10,
   "id": "8206b4fa-4efc-40c3-a4fe-126cdaf6ef12",
   "metadata": {
    "tags": []
   },
   "outputs": [
    {
     "data": {
      "text/html": [
       "<div>\n",
       "<style scoped>\n",
       "    .dataframe tbody tr th:only-of-type {\n",
       "        vertical-align: middle;\n",
       "    }\n",
       "\n",
       "    .dataframe tbody tr th {\n",
       "        vertical-align: top;\n",
       "    }\n",
       "\n",
       "    .dataframe thead th {\n",
       "        text-align: right;\n",
       "    }\n",
       "</style>\n",
       "<table border=\"1\" class=\"dataframe\">\n",
       "  <thead>\n",
       "    <tr style=\"text-align: right;\">\n",
       "      <th></th>\n",
       "      <th>emp_id</th>\n",
       "      <th>first_name_x</th>\n",
       "      <th>last_name_x</th>\n",
       "      <th>first_name_y</th>\n",
       "      <th>last_name_y</th>\n",
       "    </tr>\n",
       "  </thead>\n",
       "  <tbody>\n",
       "    <tr>\n",
       "      <th>0</th>\n",
       "      <td>1</td>\n",
       "      <td>Jason</td>\n",
       "      <td>Larkin</td>\n",
       "      <td>NaN</td>\n",
       "      <td>NaN</td>\n",
       "    </tr>\n",
       "    <tr>\n",
       "      <th>1</th>\n",
       "      <td>2</td>\n",
       "      <td>Andy</td>\n",
       "      <td>Jacob</td>\n",
       "      <td>NaN</td>\n",
       "      <td>NaN</td>\n",
       "    </tr>\n",
       "    <tr>\n",
       "      <th>2</th>\n",
       "      <td>3</td>\n",
       "      <td>Allen</td>\n",
       "      <td>A</td>\n",
       "      <td>NaN</td>\n",
       "      <td>NaN</td>\n",
       "    </tr>\n",
       "    <tr>\n",
       "      <th>3</th>\n",
       "      <td>4</td>\n",
       "      <td>John</td>\n",
       "      <td>Snow</td>\n",
       "      <td>James</td>\n",
       "      <td>Alexander</td>\n",
       "    </tr>\n",
       "    <tr>\n",
       "      <th>4</th>\n",
       "      <td>5</td>\n",
       "      <td>Amy</td>\n",
       "      <td>Jackson</td>\n",
       "      <td>Shize</td>\n",
       "      <td>Suma</td>\n",
       "    </tr>\n",
       "  </tbody>\n",
       "</table>\n",
       "</div>"
      ],
      "text/plain": [
       "  emp_id first_name_x last_name_x first_name_y last_name_y\n",
       "0      1        Jason      Larkin          NaN         NaN\n",
       "1      2         Andy       Jacob          NaN         NaN\n",
       "2      3        Allen           A          NaN         NaN\n",
       "3      4         John        Snow        James   Alexander\n",
       "4      5          Amy     Jackson        Shize        Suma"
      ]
     },
     "execution_count": 10,
     "metadata": {},
     "output_type": "execute_result"
    }
   ],
   "source": [
    "# left join\n",
    "pd.merge(df1, df2, on='emp_id', how='left')"
   ]
  },
  {
   "cell_type": "code",
   "execution_count": 12,
   "id": "dad2d59e-23bd-43e4-a8e3-34b057289a35",
   "metadata": {},
   "outputs": [
    {
     "data": {
      "text/html": [
       "<div>\n",
       "<style scoped>\n",
       "    .dataframe tbody tr th:only-of-type {\n",
       "        vertical-align: middle;\n",
       "    }\n",
       "\n",
       "    .dataframe tbody tr th {\n",
       "        vertical-align: top;\n",
       "    }\n",
       "\n",
       "    .dataframe thead th {\n",
       "        text-align: right;\n",
       "    }\n",
       "</style>\n",
       "<table border=\"1\" class=\"dataframe\">\n",
       "  <thead>\n",
       "    <tr style=\"text-align: right;\">\n",
       "      <th></th>\n",
       "      <th>emp_id</th>\n",
       "      <th>first_name_left</th>\n",
       "      <th>last_name_left</th>\n",
       "      <th>first_name_right</th>\n",
       "      <th>last_name_right</th>\n",
       "    </tr>\n",
       "  </thead>\n",
       "  <tbody>\n",
       "    <tr>\n",
       "      <th>0</th>\n",
       "      <td>1</td>\n",
       "      <td>Jason</td>\n",
       "      <td>Larkin</td>\n",
       "      <td>NaN</td>\n",
       "      <td>NaN</td>\n",
       "    </tr>\n",
       "    <tr>\n",
       "      <th>1</th>\n",
       "      <td>2</td>\n",
       "      <td>Andy</td>\n",
       "      <td>Jacob</td>\n",
       "      <td>NaN</td>\n",
       "      <td>NaN</td>\n",
       "    </tr>\n",
       "    <tr>\n",
       "      <th>2</th>\n",
       "      <td>3</td>\n",
       "      <td>Allen</td>\n",
       "      <td>A</td>\n",
       "      <td>NaN</td>\n",
       "      <td>NaN</td>\n",
       "    </tr>\n",
       "    <tr>\n",
       "      <th>3</th>\n",
       "      <td>4</td>\n",
       "      <td>John</td>\n",
       "      <td>Snow</td>\n",
       "      <td>James</td>\n",
       "      <td>Alexander</td>\n",
       "    </tr>\n",
       "    <tr>\n",
       "      <th>4</th>\n",
       "      <td>5</td>\n",
       "      <td>Amy</td>\n",
       "      <td>Jackson</td>\n",
       "      <td>Shize</td>\n",
       "      <td>Suma</td>\n",
       "    </tr>\n",
       "  </tbody>\n",
       "</table>\n",
       "</div>"
      ],
      "text/plain": [
       "  emp_id first_name_left last_name_left first_name_right last_name_right\n",
       "0      1           Jason         Larkin              NaN             NaN\n",
       "1      2            Andy          Jacob              NaN             NaN\n",
       "2      3           Allen              A              NaN             NaN\n",
       "3      4            John           Snow            James       Alexander\n",
       "4      5             Amy        Jackson            Shize            Suma"
      ]
     },
     "execution_count": 12,
     "metadata": {},
     "output_type": "execute_result"
    }
   ],
   "source": [
    "pd.merge(df1, df2, on='emp_id', how='left', suffixes=('_left', '_right'))"
   ]
  },
  {
   "cell_type": "markdown",
   "id": "69af160e",
   "metadata": {},
   "source": [
    "### Right Join"
   ]
  },
  {
   "cell_type": "markdown",
   "id": "f1d3c887",
   "metadata": {},
   "source": [
    "Right join menghasilkan tabel output dengan kumpulan record lengkap dari Tabel B dan record yang cocok dari Tabel A, jika tidak ada kecocokan, sisi kiri akan berisi null."
   ]
  },
  {
   "cell_type": "code",
   "execution_count": 15,
   "id": "18016e41",
   "metadata": {},
   "outputs": [
    {
     "data": {
      "text/html": [
       "<div>\n",
       "<style scoped>\n",
       "    .dataframe tbody tr th:only-of-type {\n",
       "        vertical-align: middle;\n",
       "    }\n",
       "\n",
       "    .dataframe tbody tr th {\n",
       "        vertical-align: top;\n",
       "    }\n",
       "\n",
       "    .dataframe thead th {\n",
       "        text-align: right;\n",
       "    }\n",
       "</style>\n",
       "<table border=\"1\" class=\"dataframe\">\n",
       "  <thead>\n",
       "    <tr style=\"text-align: right;\">\n",
       "      <th></th>\n",
       "      <th>emp_id</th>\n",
       "      <th>first_name_left</th>\n",
       "      <th>last_name_left</th>\n",
       "      <th>first_name_right</th>\n",
       "      <th>last_name_right</th>\n",
       "    </tr>\n",
       "  </thead>\n",
       "  <tbody>\n",
       "    <tr>\n",
       "      <th>0</th>\n",
       "      <td>4</td>\n",
       "      <td>John</td>\n",
       "      <td>Snow</td>\n",
       "      <td>James</td>\n",
       "      <td>Alexander</td>\n",
       "    </tr>\n",
       "    <tr>\n",
       "      <th>1</th>\n",
       "      <td>5</td>\n",
       "      <td>Amy</td>\n",
       "      <td>Jackson</td>\n",
       "      <td>Shize</td>\n",
       "      <td>Suma</td>\n",
       "    </tr>\n",
       "    <tr>\n",
       "      <th>2</th>\n",
       "      <td>6</td>\n",
       "      <td>NaN</td>\n",
       "      <td>NaN</td>\n",
       "      <td>Kim</td>\n",
       "      <td>Shoe</td>\n",
       "    </tr>\n",
       "    <tr>\n",
       "      <th>3</th>\n",
       "      <td>7</td>\n",
       "      <td>NaN</td>\n",
       "      <td>NaN</td>\n",
       "      <td>Jose</td>\n",
       "      <td>Murinho</td>\n",
       "    </tr>\n",
       "  </tbody>\n",
       "</table>\n",
       "</div>"
      ],
      "text/plain": [
       "  emp_id first_name_left last_name_left first_name_right last_name_right\n",
       "0      4            John           Snow            James       Alexander\n",
       "1      5             Amy        Jackson            Shize            Suma\n",
       "2      6             NaN            NaN              Kim            Shoe\n",
       "3      7             NaN            NaN             Jose         Murinho"
      ]
     },
     "execution_count": 15,
     "metadata": {},
     "output_type": "execute_result"
    }
   ],
   "source": [
    "# right jojin\n",
    "pd.merge(df1, df2, on='emp_id', how='right', suffixes=('_left', '_right'))"
   ]
  },
  {
   "cell_type": "markdown",
   "id": "3cadf942",
   "metadata": {},
   "source": [
    "### Inner Join"
   ]
  },
  {
   "cell_type": "markdown",
   "id": "96c651e1",
   "metadata": {},
   "source": [
    "Inner join menghasilkan tabel output yang hanya berisi kumpulan record yang cocok di Tabel A dan Tabel B"
   ]
  },
  {
   "cell_type": "code",
   "execution_count": 16,
   "id": "13dfb591",
   "metadata": {},
   "outputs": [
    {
     "data": {
      "text/html": [
       "<div>\n",
       "<style scoped>\n",
       "    .dataframe tbody tr th:only-of-type {\n",
       "        vertical-align: middle;\n",
       "    }\n",
       "\n",
       "    .dataframe tbody tr th {\n",
       "        vertical-align: top;\n",
       "    }\n",
       "\n",
       "    .dataframe thead th {\n",
       "        text-align: right;\n",
       "    }\n",
       "</style>\n",
       "<table border=\"1\" class=\"dataframe\">\n",
       "  <thead>\n",
       "    <tr style=\"text-align: right;\">\n",
       "      <th></th>\n",
       "      <th>emp_id</th>\n",
       "      <th>first_name_x</th>\n",
       "      <th>last_name_x</th>\n",
       "      <th>first_name_y</th>\n",
       "      <th>last_name_y</th>\n",
       "    </tr>\n",
       "  </thead>\n",
       "  <tbody>\n",
       "    <tr>\n",
       "      <th>0</th>\n",
       "      <td>4</td>\n",
       "      <td>John</td>\n",
       "      <td>Snow</td>\n",
       "      <td>James</td>\n",
       "      <td>Alexander</td>\n",
       "    </tr>\n",
       "    <tr>\n",
       "      <th>1</th>\n",
       "      <td>5</td>\n",
       "      <td>Amy</td>\n",
       "      <td>Jackson</td>\n",
       "      <td>Shize</td>\n",
       "      <td>Suma</td>\n",
       "    </tr>\n",
       "  </tbody>\n",
       "</table>\n",
       "</div>"
      ],
      "text/plain": [
       "  emp_id first_name_x last_name_x first_name_y last_name_y\n",
       "0      4         John        Snow        James   Alexander\n",
       "1      5          Amy     Jackson        Shize        Suma"
      ]
     },
     "execution_count": 16,
     "metadata": {},
     "output_type": "execute_result"
    }
   ],
   "source": [
    "# inner join\n",
    "pd.merge(df1, df2, on='emp_id', how='inner')"
   ]
  },
  {
   "cell_type": "markdown",
   "id": "dc762376",
   "metadata": {},
   "source": [
    "### Outer Join"
   ]
  },
  {
   "cell_type": "markdown",
   "id": "bd49f293",
   "metadata": {},
   "source": [
    "Juga dikenal sebagai full outer join akan menghasilkan tabel output yang berisi kumpulan semua record di Tabel A dan Tabel B, dengan record yang cocok dari kedua sisi, Jika tidak ada kecocokan sisi yang hilang akan berisi null."
   ]
  },
  {
   "cell_type": "code",
   "execution_count": 17,
   "id": "586ef3f2",
   "metadata": {},
   "outputs": [
    {
     "data": {
      "text/html": [
       "<div>\n",
       "<style scoped>\n",
       "    .dataframe tbody tr th:only-of-type {\n",
       "        vertical-align: middle;\n",
       "    }\n",
       "\n",
       "    .dataframe tbody tr th {\n",
       "        vertical-align: top;\n",
       "    }\n",
       "\n",
       "    .dataframe thead th {\n",
       "        text-align: right;\n",
       "    }\n",
       "</style>\n",
       "<table border=\"1\" class=\"dataframe\">\n",
       "  <thead>\n",
       "    <tr style=\"text-align: right;\">\n",
       "      <th></th>\n",
       "      <th>emp_id</th>\n",
       "      <th>first_name_x</th>\n",
       "      <th>last_name_x</th>\n",
       "      <th>first_name_y</th>\n",
       "      <th>last_name_y</th>\n",
       "    </tr>\n",
       "  </thead>\n",
       "  <tbody>\n",
       "    <tr>\n",
       "      <th>0</th>\n",
       "      <td>1</td>\n",
       "      <td>Jason</td>\n",
       "      <td>Larkin</td>\n",
       "      <td>NaN</td>\n",
       "      <td>NaN</td>\n",
       "    </tr>\n",
       "    <tr>\n",
       "      <th>1</th>\n",
       "      <td>2</td>\n",
       "      <td>Andy</td>\n",
       "      <td>Jacob</td>\n",
       "      <td>NaN</td>\n",
       "      <td>NaN</td>\n",
       "    </tr>\n",
       "    <tr>\n",
       "      <th>2</th>\n",
       "      <td>3</td>\n",
       "      <td>Allen</td>\n",
       "      <td>A</td>\n",
       "      <td>NaN</td>\n",
       "      <td>NaN</td>\n",
       "    </tr>\n",
       "    <tr>\n",
       "      <th>3</th>\n",
       "      <td>4</td>\n",
       "      <td>John</td>\n",
       "      <td>Snow</td>\n",
       "      <td>James</td>\n",
       "      <td>Alexander</td>\n",
       "    </tr>\n",
       "    <tr>\n",
       "      <th>4</th>\n",
       "      <td>5</td>\n",
       "      <td>Amy</td>\n",
       "      <td>Jackson</td>\n",
       "      <td>Shize</td>\n",
       "      <td>Suma</td>\n",
       "    </tr>\n",
       "    <tr>\n",
       "      <th>5</th>\n",
       "      <td>6</td>\n",
       "      <td>NaN</td>\n",
       "      <td>NaN</td>\n",
       "      <td>Kim</td>\n",
       "      <td>Shoe</td>\n",
       "    </tr>\n",
       "    <tr>\n",
       "      <th>6</th>\n",
       "      <td>7</td>\n",
       "      <td>NaN</td>\n",
       "      <td>NaN</td>\n",
       "      <td>Jose</td>\n",
       "      <td>Murinho</td>\n",
       "    </tr>\n",
       "  </tbody>\n",
       "</table>\n",
       "</div>"
      ],
      "text/plain": [
       "  emp_id first_name_x last_name_x first_name_y last_name_y\n",
       "0      1        Jason      Larkin          NaN         NaN\n",
       "1      2         Andy       Jacob          NaN         NaN\n",
       "2      3        Allen           A          NaN         NaN\n",
       "3      4         John        Snow        James   Alexander\n",
       "4      5          Amy     Jackson        Shize        Suma\n",
       "5      6          NaN         NaN          Kim        Shoe\n",
       "6      7          NaN         NaN         Jose     Murinho"
      ]
     },
     "execution_count": 17,
     "metadata": {},
     "output_type": "execute_result"
    }
   ],
   "source": [
    "pd.merge(df1, df2, on='emp_id', how='outer')"
   ]
  },
  {
   "cell_type": "code",
   "execution_count": 19,
   "id": "6b39c8b2",
   "metadata": {},
   "outputs": [
    {
     "data": {
      "text/html": [
       "<div>\n",
       "<style scoped>\n",
       "    .dataframe tbody tr th:only-of-type {\n",
       "        vertical-align: middle;\n",
       "    }\n",
       "\n",
       "    .dataframe tbody tr th {\n",
       "        vertical-align: top;\n",
       "    }\n",
       "\n",
       "    .dataframe thead th {\n",
       "        text-align: right;\n",
       "    }\n",
       "</style>\n",
       "<table border=\"1\" class=\"dataframe\">\n",
       "  <thead>\n",
       "    <tr style=\"text-align: right;\">\n",
       "      <th></th>\n",
       "      <th>emp_id_left</th>\n",
       "      <th>first_name_left</th>\n",
       "      <th>last_name_left</th>\n",
       "      <th>emp_id_right</th>\n",
       "      <th>first_name_right</th>\n",
       "      <th>last_name_right</th>\n",
       "    </tr>\n",
       "  </thead>\n",
       "  <tbody>\n",
       "    <tr>\n",
       "      <th>0</th>\n",
       "      <td>1</td>\n",
       "      <td>Jason</td>\n",
       "      <td>Larkin</td>\n",
       "      <td>4</td>\n",
       "      <td>James</td>\n",
       "      <td>Alexander</td>\n",
       "    </tr>\n",
       "    <tr>\n",
       "      <th>1</th>\n",
       "      <td>2</td>\n",
       "      <td>Andy</td>\n",
       "      <td>Jacob</td>\n",
       "      <td>5</td>\n",
       "      <td>Shize</td>\n",
       "      <td>Suma</td>\n",
       "    </tr>\n",
       "    <tr>\n",
       "      <th>2</th>\n",
       "      <td>3</td>\n",
       "      <td>Allen</td>\n",
       "      <td>A</td>\n",
       "      <td>6</td>\n",
       "      <td>Kim</td>\n",
       "      <td>Shoe</td>\n",
       "    </tr>\n",
       "    <tr>\n",
       "      <th>3</th>\n",
       "      <td>4</td>\n",
       "      <td>John</td>\n",
       "      <td>Snow</td>\n",
       "      <td>7</td>\n",
       "      <td>Jose</td>\n",
       "      <td>Murinho</td>\n",
       "    </tr>\n",
       "  </tbody>\n",
       "</table>\n",
       "</div>"
      ],
      "text/plain": [
       "  emp_id_left first_name_left last_name_left emp_id_right first_name_right  \\\n",
       "0           1           Jason         Larkin            4            James   \n",
       "1           2            Andy          Jacob            5            Shize   \n",
       "2           3           Allen              A            6              Kim   \n",
       "3           4            John           Snow            7             Jose   \n",
       "\n",
       "  last_name_right  \n",
       "0       Alexander  \n",
       "1            Suma  \n",
       "2            Shoe  \n",
       "3         Murinho  "
      ]
     },
     "execution_count": 19,
     "metadata": {},
     "output_type": "execute_result"
    }
   ],
   "source": [
    "# gabungkan data berdasarkan index\n",
    "\n",
    "pd.merge(df1, df2, right_index=True, left_index=True, suffixes=('_left', '_right'))"
   ]
  }
 ],
 "metadata": {
  "kernelspec": {
   "display_name": "Python 3 (ipykernel)",
   "language": "python",
   "name": "python3"
  },
  "language_info": {
   "codemirror_mode": {
    "name": "ipython",
    "version": 3
   },
   "file_extension": ".py",
   "mimetype": "text/x-python",
   "name": "python",
   "nbconvert_exporter": "python",
   "pygments_lexer": "ipython3",
   "version": "3.11.2"
  }
 },
 "nbformat": 4,
 "nbformat_minor": 5
}
