{
 "cells": [
  {
   "cell_type": "markdown",
   "id": "c368249d-d2dd-4221-94ba-171bb12d86a4",
   "metadata": {},
   "source": [
    "# Data Series"
   ]
  },
  {
   "cell_type": "markdown",
   "id": "005869ac-8b1f-4cc6-ac91-ee4aa2ac003e",
   "metadata": {},
   "source": [
    "### Instalasi Pandas dan Numpy"
   ]
  },
  {
   "cell_type": "code",
   "execution_count": null,
   "id": "d1089a00-b410-4ca6-81fc-b03e0f185c94",
   "metadata": {
    "tags": []
   },
   "outputs": [],
   "source": [
    "!pip install pandas"
   ]
  },
  {
   "cell_type": "code",
   "execution_count": null,
   "id": "a2a79dac-f30d-4724-bc16-2f9ed64e7d04",
   "metadata": {
    "tags": []
   },
   "outputs": [],
   "source": [
    "!pip install numpy"
   ]
  },
  {
   "cell_type": "code",
   "execution_count": 3,
   "id": "4fdff613-7012-42ba-81a2-17ae0cec7e84",
   "metadata": {
    "tags": []
   },
   "outputs": [],
   "source": [
    "import numpy as np"
   ]
  },
  {
   "cell_type": "code",
   "execution_count": 4,
   "id": "cd79c3a9-69af-4b9c-a0e4-12e4eb7a5f67",
   "metadata": {},
   "outputs": [],
   "source": [
    "import pandas as pd"
   ]
  },
  {
   "cell_type": "code",
   "execution_count": 5,
   "id": "eeed945c-c09e-4385-b359-c0b8d0292733",
   "metadata": {
    "tags": []
   },
   "outputs": [
    {
     "data": {
      "text/plain": [
       "'2.2.2'"
      ]
     },
     "execution_count": 5,
     "metadata": {},
     "output_type": "execute_result"
    }
   ],
   "source": [
    "pd.__version__"
   ]
  },
  {
   "cell_type": "code",
   "execution_count": 6,
   "id": "abb4c2b6-0df4-4e2f-a0b1-e385676827a3",
   "metadata": {
    "tags": []
   },
   "outputs": [
    {
     "data": {
      "text/plain": [
       "'1.24.3'"
      ]
     },
     "execution_count": 6,
     "metadata": {},
     "output_type": "execute_result"
    }
   ],
   "source": [
    "np.__version__"
   ]
  },
  {
   "cell_type": "markdown",
   "id": "435c4986-ee99-41da-934b-d7b700ea1036",
   "metadata": {},
   "source": [
    "### Membuat Series"
   ]
  },
  {
   "cell_type": "markdown",
   "id": "086f428f-41f2-4ee2-a43f-d4cdf28317de",
   "metadata": {},
   "source": [
    "Ini adalah objek 1 dimensi yang mirip dengan kolom dalam spreadsheet atau Tabel SQL. Secara default, setiap item akan diberi label index dari 0 hingga n"
   ]
  },
  {
   "cell_type": "code",
   "execution_count": 9,
   "id": "0094085a-a3bd-4656-8ec2-8cf909a6dbe6",
   "metadata": {
    "tags": []
   },
   "outputs": [
    {
     "data": {
      "text/plain": [
       "0    1\n",
       "1    2\n",
       "2    3\n",
       "dtype: int64"
      ]
     },
     "execution_count": 9,
     "metadata": {},
     "output_type": "execute_result"
    }
   ],
   "source": [
    "# Membuat Series tanpa mendefine index maka indexnya dibuat otomatis dari 0\n",
    "series = pd.Series([1,2,3])\n",
    "series"
   ]
  },
  {
   "cell_type": "code",
   "execution_count": 7,
   "id": "b4d4ccc4-b91b-4a8b-b384-d9cae6df955d",
   "metadata": {
    "tags": []
   },
   "outputs": [
    {
     "data": {
      "text/plain": [
       "a    1\n",
       "b    2\n",
       "c    3\n",
       "d    4\n",
       "dtype: int64"
      ]
     },
     "execution_count": 7,
     "metadata": {},
     "output_type": "execute_result"
    }
   ],
   "source": [
    "# Mendefine sebuah index yang di mulai dari huruf a ke d\n",
    "s = pd.Series([1,2,3,4], index=['a','b','c','d'])\n",
    "s"
   ]
  },
  {
   "cell_type": "markdown",
   "id": "af12cf18-914d-471e-bd73-0c6c7f99aab3",
   "metadata": {},
   "source": [
    "### Menggunakan Dictionary"
   ]
  },
  {
   "cell_type": "code",
   "execution_count": 11,
   "id": "aacc9f8c-fbc3-4e9e-a4ed-4d04054cf2fd",
   "metadata": {
    "tags": []
   },
   "outputs": [
    {
     "ename": "SyntaxError",
     "evalue": "':' expected after dictionary key (1978296951.py, line 3)",
     "output_type": "error",
     "traceback": [
      "\u001b[1;36m  Cell \u001b[1;32mIn[11], line 3\u001b[1;36m\u001b[0m\n\u001b[1;33m    sample_dict = {'A': 20, 'B', 30, 'C': np.nan, 'D': 50}\u001b[0m\n\u001b[1;37m                              ^\u001b[0m\n\u001b[1;31mSyntaxError\u001b[0m\u001b[1;31m:\u001b[0m ':' expected after dictionary key\n"
     ]
    }
   ],
   "source": [
    "# Series juga dapat menggunakan dictionary, menggunakan key dari dictionary sebagai indexnya\n",
    "\n",
    "sample_dict = {'A': 20, 'B': 30, 'C': np.nan, 'D': 50}\n",
    "\n",
    "\n",
    "s = pd.Series(sample_dict)\n",
    "s"
   ]
  }
 ],
 "metadata": {
  "kernelspec": {
   "display_name": "Python 3 (ipykernel)",
   "language": "python",
   "name": "python3"
  },
  "language_info": {
   "codemirror_mode": {
    "name": "ipython",
    "version": 3
   },
   "file_extension": ".py",
   "mimetype": "text/x-python",
   "name": "python",
   "nbconvert_exporter": "python",
   "pygments_lexer": "ipython3",
   "version": "3.11.2"
  }
 },
 "nbformat": 4,
 "nbformat_minor": 5
}
