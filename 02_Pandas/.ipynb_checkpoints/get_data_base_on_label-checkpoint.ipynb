{
 "cells": [
  {
   "cell_type": "markdown",
   "id": "dc85cf5f-2837-45ae-953a-fc63a7b1e2dd",
   "metadata": {},
   "source": [
    "# Mengambil Data Berdasarkan Label"
   ]
  },
  {
   "cell_type": "markdown",
   "id": "870bfe11-d9e1-4e78-b639-8f1c3777c31d",
   "metadata": {},
   "source": [
    "- `loc : ` bekerja dengan index\n",
    "- `iloc : `  bekerja dengan posisi\n",
    "- `ix : ` you can get data from dataframe without it being in the index\n",
    "- `iat : ` mengambil nilai sklar"
   ]
  },
  {
   "cell_type": "code",
   "execution_count": null,
   "id": "c04d4c19-9a80-4837-a7e2-0463f8991c6d",
   "metadata": {
    "tags": []
   },
   "outputs": [],
   "source": [
    "import pandas as pd"
   ]
  },
  {
   "cell_type": "code",
   "execution_count": null,
   "id": "45947a7b-d6a7-4dbf-aa48-e8539fbc5bda",
   "metadata": {
    "tags": []
   },
   "outputs": [],
   "source": [
    "pd.__version__"
   ]
  },
  {
   "cell_type": "code",
   "execution_count": null,
   "id": "11db66d2-90d0-4f9b-894b-36779b3c366c",
   "metadata": {
    "tags": []
   },
   "outputs": [],
   "source": [
    "df = pd.read_csv('dataset/iris.csv')\n",
    "df"
   ]
  },
  {
   "cell_type": "code",
   "execution_count": null,
   "id": "71c62a6a-a350-42b1-92a5-38798b45ccfc",
   "metadata": {
    "tags": []
   },
   "outputs": [],
   "source": [
    "# Menambil data dengan index\n",
    "df.loc[0:2]"
   ]
  },
  {
   "cell_type": "code",
   "execution_count": null,
   "id": "efd0c8e1-32b5-43a6-bc04-6e0b766b5ae3",
   "metadata": {
    "tags": []
   },
   "outputs": [],
   "source": [
    "# Mengambil data dengan index dari label kolom \n",
    "df.loc[0:3, ['Species', 'Petal.Width']]"
   ]
  },
  {
   "cell_type": "code",
   "execution_count": null,
   "id": "3adde22d-ce20-4093-b295-c1f157b8052e",
   "metadata": {
    "tags": []
   },
   "outputs": [],
   "source": [
    "# Mengambil data dengan posisi\n",
    "df.iloc[0:2]"
   ]
  },
  {
   "cell_type": "code",
   "execution_count": null,
   "id": "e7ac9e8b-e40e-49b8-8c62-125c12f162ea",
   "metadata": {
    "tags": []
   },
   "outputs": [],
   "source": [
    "# Seleksi berdasarkan posisi antara baris yang diberikan sebagai rentang\n",
    "df.iloc[0:3, 0:2] # [posisi baris, posisi kolom]"
   ]
  },
  {
   "cell_type": "code",
   "execution_count": null,
   "id": "bb93e019-48f4-4fca-b8d0-34df9e76c32f",
   "metadata": {
    "tags": []
   },
   "outputs": [],
   "source": [
    "# Seleksi berdasarkan posisi antara nomor baris tertentu yang diberikan\n",
    "df.iloc[[1,2,4], [0,2]]"
   ]
  },
  {
   "cell_type": "code",
   "execution_count": null,
   "id": "d42ed7b8-0958-41ea-939a-1db579d807e6",
   "metadata": {
    "tags": []
   },
   "outputs": [],
   "source": [
    "# Pemilihan berdasarkan index baris dan kolom (index dimulai dari 0)\n",
    "# [baris index pertama, kolom index pertama]\n",
    "\n",
    "df.iat[1,1] # ambil nilai sklar"
   ]
  },
  {
   "cell_type": "code",
   "execution_count": null,
   "id": "c3e2fcbc-e97c-43f6-b927-9a5565f14224",
   "metadata": {
    "tags": []
   },
   "outputs": [],
   "source": [
    "df.iloc[1,1] # dapatkan data dari dataframe tanpa ada di index"
   ]
  },
  {
   "cell_type": "code",
   "execution_count": null,
   "id": "6546641b-82fb-4cf9-836f-ff3ed5e396f7",
   "metadata": {
    "tags": []
   },
   "outputs": [],
   "source": [
    "df.iloc[:,2] # ambil kolom berdasarkan posisi"
   ]
  },
  {
   "cell_type": "code",
   "execution_count": null,
   "id": "5aa7e6bd-d938-4fb4-9f35-212b0918e1aa",
   "metadata": {
    "tags": []
   },
   "outputs": [],
   "source": [
    "df.iloc[5,[1,2]]"
   ]
  },
  {
   "cell_type": "code",
   "execution_count": null,
   "id": "6ddeee5e-223e-4da4-a6a3-2d9320b27f99",
   "metadata": {
    "tags": []
   },
   "outputs": [],
   "source": [
    "# Transform DataFrame\n",
    "df.T"
   ]
  }
 ],
 "metadata": {
  "kernelspec": {
   "display_name": "Python 3 (ipykernel)",
   "language": "python",
   "name": "python3"
  },
  "language_info": {
   "codemirror_mode": {
    "name": "ipython",
    "version": 3
   },
   "file_extension": ".py",
   "mimetype": "text/x-python",
   "name": "python",
   "nbconvert_exporter": "python",
   "pygments_lexer": "ipython3",
   "version": "3.11.2"
  }
 },
 "nbformat": 4,
 "nbformat_minor": 5
}
