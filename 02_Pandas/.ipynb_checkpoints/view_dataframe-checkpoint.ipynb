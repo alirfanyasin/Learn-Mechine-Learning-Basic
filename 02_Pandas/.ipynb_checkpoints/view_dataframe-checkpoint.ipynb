{
 "cells": [
  {
   "cell_type": "markdown",
   "id": "d0d061f4-9c68-4407-b4e7-5ff7f5b2bd88",
   "metadata": {},
   "source": [
    "# View DataFrame"
   ]
  },
  {
   "cell_type": "code",
   "execution_count": null,
   "id": "92327df2-9c8c-4099-8b93-ceb412c0b306",
   "metadata": {
    "tags": []
   },
   "outputs": [],
   "source": [
    "import pandas as pd"
   ]
  },
  {
   "cell_type": "code",
   "execution_count": null,
   "id": "178c84a6-0a07-478a-8022-a11755069434",
   "metadata": {
    "tags": []
   },
   "outputs": [],
   "source": [
    "pd.__version__"
   ]
  },
  {
   "cell_type": "code",
   "execution_count": null,
   "id": "82365f57-b43b-4260-b170-a30701d61760",
   "metadata": {
    "tags": []
   },
   "outputs": [],
   "source": [
    "df = pd.read_csv('dataset/iris.csv')\n",
    "df"
   ]
  },
  {
   "cell_type": "code",
   "execution_count": null,
   "id": "19ff43f5-d451-434a-8506-45bc07844f47",
   "metadata": {
    "tags": []
   },
   "outputs": [],
   "source": [
    "# head() secara default menampilkan 5 baris dari atas\n",
    "df.head()"
   ]
  },
  {
   "cell_type": "code",
   "execution_count": null,
   "id": "cd8c6504-4766-4700-a702-c0264e35a602",
   "metadata": {
    "tags": []
   },
   "outputs": [],
   "source": [
    "# tampilkan 2 dari atas\n",
    "df.head(2)"
   ]
  },
  {
   "cell_type": "code",
   "execution_count": null,
   "id": "4237ff4f-0ce3-4b9c-a486-8b87ff5d0f07",
   "metadata": {
    "tags": []
   },
   "outputs": [],
   "source": [
    "# tail() secara default menampilkan 5 baris dari bawah\n",
    "df.tail()"
   ]
  },
  {
   "cell_type": "code",
   "execution_count": null,
   "id": "db6c1cef-c6e9-4090-aff9-972ac09a2a86",
   "metadata": {
    "tags": []
   },
   "outputs": [],
   "source": [
    "# menampilkan 2 baris dari bawah\n",
    "df.tail(2)"
   ]
  },
  {
   "cell_type": "code",
   "execution_count": null,
   "id": "adc16a17-61d6-4a0e-9ac3-2281eedb38de",
   "metadata": {
    "tags": []
   },
   "outputs": [],
   "source": [
    "# Menampilkan type data \n",
    "df.dtypes"
   ]
  },
  {
   "cell_type": "code",
   "execution_count": null,
   "id": "814eaa82-164d-4f49-bbaa-6517dcef754c",
   "metadata": {
    "tags": []
   },
   "outputs": [],
   "source": [
    "# menampilkan nama kolom\n",
    "print(\"Column Name : \", df.columns)"
   ]
  },
  {
   "cell_type": "code",
   "execution_count": null,
   "id": "44ccbcde-f165-4587-abb8-5647a98df265",
   "metadata": {
    "tags": []
   },
   "outputs": [],
   "source": [
    "# Menampilkan index\n",
    "df.index"
   ]
  },
  {
   "cell_type": "code",
   "execution_count": null,
   "id": "bb903b8c-066a-4897-9d3e-044fe25b51d6",
   "metadata": {
    "tags": []
   },
   "outputs": [],
   "source": [
    "# Mengambil nilai dari DataFrame\n",
    "\n",
    "df['Sepal.Length'].values # spesifik kolom"
   ]
  },
  {
   "cell_type": "code",
   "execution_count": null,
   "id": "8059c348-55e3-42af-9338-d7a688213156",
   "metadata": {
    "tags": []
   },
   "outputs": [],
   "source": [
    "# Semua nilai DataFrame\n",
    "df.values"
   ]
  },
  {
   "cell_type": "code",
   "execution_count": null,
   "id": "5d4e9a9a-6cb1-4ff2-b289-9dd4a9acca24",
   "metadata": {
    "tags": []
   },
   "outputs": [],
   "source": [
    "# menampilkan nilai unique dari sebuah kolom\n",
    "df['Species'].unique()"
   ]
  },
  {
   "cell_type": "code",
   "execution_count": null,
   "id": "c0538de1-95e6-41cb-a1c9-062caf2ff0c9",
   "metadata": {
    "tags": []
   },
   "outputs": [],
   "source": [
    "# Mengurutkan data dataframe dari sebuah kolom\n",
    "df.sort_values(by =['Species', 'Sepal.Length'], ascending=[True,True])"
   ]
  },
  {
   "cell_type": "code",
   "execution_count": null,
   "id": "68328609-9297-4c0a-a39f-e649d0244b7f",
   "metadata": {
    "tags": []
   },
   "outputs": [],
   "source": [
    "# menampilkan data dengan spesifik kolom\n",
    "df['Species']"
   ]
  },
  {
   "cell_type": "code",
   "execution_count": null,
   "id": "7d930191-6748-49fb-9b9b-836462f66e94",
   "metadata": {
    "tags": []
   },
   "outputs": [],
   "source": [
    "df['Sepal.Length']"
   ]
  },
  {
   "cell_type": "code",
   "execution_count": null,
   "id": "e125383a-7102-4c51-a899-61ba37182129",
   "metadata": {
    "tags": []
   },
   "outputs": [],
   "source": [
    "# memilih sejumlah baris\n",
    "df[0:3]"
   ]
  }
 ],
 "metadata": {
  "kernelspec": {
   "display_name": "Python 3 (ipykernel)",
   "language": "python",
   "name": "python3"
  },
  "language_info": {
   "codemirror_mode": {
    "name": "ipython",
    "version": 3
   },
   "file_extension": ".py",
   "mimetype": "text/x-python",
   "name": "python",
   "nbconvert_exporter": "python",
   "pygments_lexer": "ipython3",
   "version": "3.11.2"
  }
 },
 "nbformat": 4,
 "nbformat_minor": 5
}
